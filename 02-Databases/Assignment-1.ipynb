{
 "cells": [
  {
   "cell_type": "markdown",
   "metadata": {},
   "source": [
    "## Assignment 1 - BA770 (Fall 2019)\n",
    "Please note that this assignment captures topics from classes 2 & 3. You should run your queries in BigQuery or Datalab and submit the Datalab notebook along with your responses inside the Questrom Tools course site under \"tests & quizzes\" section. You should not email the notebook to your TA or the instructor."
   ]
  },
  {
   "cell_type": "markdown",
   "metadata": {},
   "source": [
    "### Question 1\n",
    "Using the following table (`bigquery-public-data.baseball.schedules`) which game had the biggest attendance in 2016?"
   ]
  },
  {
   "cell_type": "code",
   "execution_count": 1,
   "metadata": {},
   "outputs": [
    {
     "data": {
      "text/html": [
       "\n",
       "    <div class=\"bqtv\" id=\"1_156463454086\"><table><tr><th>gameId</th><th>gameNumber</th><th>seasonId</th><th>year</th><th>type</th><th>dayNight</th><th>duration</th><th>duration_minutes</th><th>homeTeamId</th><th>homeTeamName</th><th>awayTeamId</th><th>awayTeamName</th><th>startTime</th><th>attendance</th><th>status</th><th>created</th></tr><tr><td>e14b6493-9e7f-404f-840a-8a680cc364bf</td><td>1</td><td>565de4be-dc80-4849-a7e1-54bc79156cc8</td><td>2016</td><td>REG</td><td>D</td><td>3:07</td><td>187</td><td>03556285-bdbb-4576-a06d-42f71f46ddc5</td><td>Marlins</td><td>55714da8-fcaf-4574-8443-59bfb511a524</td><td>Cubs</td><td>2016-06-26 17:10:00</td><td>27318</td><td>closed</td><td>2016-10-06 06:25:15</td></tr><tr><td>1f32b347-cbcb-4c31-a145-0e685306d168</td><td>1</td><td>565de4be-dc80-4849-a7e1-54bc79156cc8</td><td>2016</td><td>REG</td><td>D</td><td>3:09</td><td>189</td><td>03556285-bdbb-4576-a06d-42f71f46ddc5</td><td>Marlins</td><td>55714da8-fcaf-4574-8443-59bfb511a524</td><td>Cubs</td><td>2016-06-25 20:10:00</td><td>29457</td><td>closed</td><td>2016-10-06 06:25:15</td></tr><tr><td>0c2292d1-7398-48be-bf8e-b41dad5e1a43</td><td>1</td><td>565de4be-dc80-4849-a7e1-54bc79156cc8</td><td>2016</td><td>REG</td><td>D</td><td>2:45</td><td>165</td><td>12079497-e414-450a-8bf2-29f91de646bf</td><td>Braves</td><td>55714da8-fcaf-4574-8443-59bfb511a524</td><td>Cubs</td><td>2016-06-11 20:10:00</td><td>43114</td><td>closed</td><td>2016-10-06 06:25:15</td></tr><tr><td>8fbec734-a15a-42ab-8d51-60790de7750b</td><td>1</td><td>565de4be-dc80-4849-a7e1-54bc79156cc8</td><td>2016</td><td>REG</td><td>D</td><td>3:42</td><td>222</td><td>12079497-e414-450a-8bf2-29f91de646bf</td><td>Braves</td><td>55714da8-fcaf-4574-8443-59bfb511a524</td><td>Cubs</td><td>2016-06-12 17:35:00</td><td>31625</td><td>closed</td><td>2016-10-06 06:25:15</td></tr><tr><td>89e514d5-fbf5-4b9d-bdac-6ca45bfd18dd</td><td>1</td><td>565de4be-dc80-4849-a7e1-54bc79156cc8</td><td>2016</td><td>REG</td><td>D</td><td>2:44</td><td>164</td><td>2142e1ba-3b40-445c-b8bb-f1f8b1054220</td><td>Phillies</td><td>55714da8-fcaf-4574-8443-59bfb511a524</td><td>Cubs</td><td>2016-06-08 17:05:00</td><td>28650</td><td>closed</td><td>2016-10-06 06:25:15</td></tr></table></div>\n",
       "    <br />(rows: 5, time: 0.7s,   582KB processed, job: job_7kjKYlmYJhao_sAExi6d3oQrkHd2)<br />\n",
       "    <script src=\"/static/components/requirejs/require.js\"></script>\n",
       "    <script>\n",
       "      require.config({\n",
       "        paths: {\n",
       "          base: '/static/base',\n",
       "          d3: '//cdnjs.cloudflare.com/ajax/libs/d3/3.4.13/d3',\n",
       "          plotly: 'https://cdn.plot.ly/plotly-1.5.1.min.js?noext',\n",
       "          jquery: '//ajax.googleapis.com/ajax/libs/jquery/2.0.0/jquery.min'\n",
       "        },\n",
       "        map: {\n",
       "          '*': {\n",
       "            datalab: 'nbextensions/gcpdatalab'\n",
       "          }\n",
       "        },\n",
       "        shim: {\n",
       "          plotly: {\n",
       "            deps: ['d3', 'jquery'],\n",
       "            exports: 'plotly'\n",
       "          }\n",
       "        }\n",
       "      });\n",
       "\n",
       "      require(['datalab/charting', 'datalab/element!1_156463454086', 'base/js/events',\n",
       "          'datalab/style!/nbextensions/gcpdatalab/charting.css'],\n",
       "        function(charts, dom, events) {\n",
       "          charts.render('gcharts', dom, events, 'table', [], {\"rows\": [{\"c\": [{\"v\": \"e14b6493-9e7f-404f-840a-8a680cc364bf\"}, {\"v\": 1}, {\"v\": \"565de4be-dc80-4849-a7e1-54bc79156cc8\"}, {\"v\": 2016}, {\"v\": \"REG\"}, {\"v\": \"D\"}, {\"v\": \"3:07\"}, {\"v\": 187}, {\"v\": \"03556285-bdbb-4576-a06d-42f71f46ddc5\"}, {\"v\": \"Marlins\"}, {\"v\": \"55714da8-fcaf-4574-8443-59bfb511a524\"}, {\"v\": \"Cubs\"}, {\"v\": \"2016-06-26T17:10:00\"}, {\"v\": 27318}, {\"v\": \"closed\"}, {\"v\": \"2016-10-06T06:25:15\"}]}, {\"c\": [{\"v\": \"1f32b347-cbcb-4c31-a145-0e685306d168\"}, {\"v\": 1}, {\"v\": \"565de4be-dc80-4849-a7e1-54bc79156cc8\"}, {\"v\": 2016}, {\"v\": \"REG\"}, {\"v\": \"D\"}, {\"v\": \"3:09\"}, {\"v\": 189}, {\"v\": \"03556285-bdbb-4576-a06d-42f71f46ddc5\"}, {\"v\": \"Marlins\"}, {\"v\": \"55714da8-fcaf-4574-8443-59bfb511a524\"}, {\"v\": \"Cubs\"}, {\"v\": \"2016-06-25T20:10:00\"}, {\"v\": 29457}, {\"v\": \"closed\"}, {\"v\": \"2016-10-06T06:25:15\"}]}, {\"c\": [{\"v\": \"0c2292d1-7398-48be-bf8e-b41dad5e1a43\"}, {\"v\": 1}, {\"v\": \"565de4be-dc80-4849-a7e1-54bc79156cc8\"}, {\"v\": 2016}, {\"v\": \"REG\"}, {\"v\": \"D\"}, {\"v\": \"2:45\"}, {\"v\": 165}, {\"v\": \"12079497-e414-450a-8bf2-29f91de646bf\"}, {\"v\": \"Braves\"}, {\"v\": \"55714da8-fcaf-4574-8443-59bfb511a524\"}, {\"v\": \"Cubs\"}, {\"v\": \"2016-06-11T20:10:00\"}, {\"v\": 43114}, {\"v\": \"closed\"}, {\"v\": \"2016-10-06T06:25:15\"}]}, {\"c\": [{\"v\": \"8fbec734-a15a-42ab-8d51-60790de7750b\"}, {\"v\": 1}, {\"v\": \"565de4be-dc80-4849-a7e1-54bc79156cc8\"}, {\"v\": 2016}, {\"v\": \"REG\"}, {\"v\": \"D\"}, {\"v\": \"3:42\"}, {\"v\": 222}, {\"v\": \"12079497-e414-450a-8bf2-29f91de646bf\"}, {\"v\": \"Braves\"}, {\"v\": \"55714da8-fcaf-4574-8443-59bfb511a524\"}, {\"v\": \"Cubs\"}, {\"v\": \"2016-06-12T17:35:00\"}, {\"v\": 31625}, {\"v\": \"closed\"}, {\"v\": \"2016-10-06T06:25:15\"}]}, {\"c\": [{\"v\": \"89e514d5-fbf5-4b9d-bdac-6ca45bfd18dd\"}, {\"v\": 1}, {\"v\": \"565de4be-dc80-4849-a7e1-54bc79156cc8\"}, {\"v\": 2016}, {\"v\": \"REG\"}, {\"v\": \"D\"}, {\"v\": \"2:44\"}, {\"v\": 164}, {\"v\": \"2142e1ba-3b40-445c-b8bb-f1f8b1054220\"}, {\"v\": \"Phillies\"}, {\"v\": \"55714da8-fcaf-4574-8443-59bfb511a524\"}, {\"v\": \"Cubs\"}, {\"v\": \"2016-06-08T17:05:00\"}, {\"v\": 28650}, {\"v\": \"closed\"}, {\"v\": \"2016-10-06T06:25:15\"}]}], \"cols\": [{\"type\": \"string\", \"id\": \"gameId\", \"label\": \"gameId\"}, {\"type\": \"number\", \"id\": \"gameNumber\", \"label\": \"gameNumber\"}, {\"type\": \"string\", \"id\": \"seasonId\", \"label\": \"seasonId\"}, {\"type\": \"number\", \"id\": \"year\", \"label\": \"year\"}, {\"type\": \"string\", \"id\": \"type\", \"label\": \"type\"}, {\"type\": \"string\", \"id\": \"dayNight\", \"label\": \"dayNight\"}, {\"type\": \"string\", \"id\": \"duration\", \"label\": \"duration\"}, {\"type\": \"number\", \"id\": \"duration_minutes\", \"label\": \"duration_minutes\"}, {\"type\": \"string\", \"id\": \"homeTeamId\", \"label\": \"homeTeamId\"}, {\"type\": \"string\", \"id\": \"homeTeamName\", \"label\": \"homeTeamName\"}, {\"type\": \"string\", \"id\": \"awayTeamId\", \"label\": \"awayTeamId\"}, {\"type\": \"string\", \"id\": \"awayTeamName\", \"label\": \"awayTeamName\"}, {\"type\": \"timestamp\", \"id\": \"startTime\", \"label\": \"startTime\"}, {\"type\": \"number\", \"id\": \"attendance\", \"label\": \"attendance\"}, {\"type\": \"string\", \"id\": \"status\", \"label\": \"status\"}, {\"type\": \"timestamp\", \"id\": \"created\", \"label\": \"created\"}]},\n",
       "            {\n",
       "              pageSize: 25,\n",
       "              cssClassNames:  {\n",
       "                tableRow: 'gchart-table-row',\n",
       "                headerRow: 'gchart-table-headerrow',\n",
       "                oddTableRow: 'gchart-table-oddrow',\n",
       "                selectedTableRow: 'gchart-table-selectedrow',\n",
       "                hoverTableRow: 'gchart-table-hoverrow',\n",
       "                tableCell: 'gchart-table-cell',\n",
       "                headerCell: 'gchart-table-headercell',\n",
       "                rowNumberCell: 'gchart-table-rownumcell'\n",
       "              }\n",
       "            },\n",
       "            {source_index: 0, fields: 'gameId,gameNumber,seasonId,year,type,dayNight,duration,duration_minutes,homeTeamId,homeTeamName,awayTeamId,awayTeamName,startTime,attendance,status,created'},\n",
       "            0,\n",
       "            5);\n",
       "        }\n",
       "      );\n",
       "    </script>\n",
       "  "
      ],
      "text/plain": [
       "QueryResultsTable job_7kjKYlmYJhao_sAExi6d3oQrkHd2"
      ]
     },
     "execution_count": 1,
     "metadata": {},
     "output_type": "execute_result"
    }
   ],
   "source": [
    "%%bq query\n",
    "SELECT * FROM `bigquery-public-data.baseball.schedules` LIMIT 5"
   ]
  },
  {
   "cell_type": "code",
   "execution_count": 2,
   "metadata": {},
   "outputs": [],
   "source": [
    "# Your answer goes here"
   ]
  },
  {
   "cell_type": "markdown",
   "metadata": {},
   "source": [
    "### Question 2\n",
    "In 2016, on average which team played the longest games at home?\n",
    "\n",
    "Hint: You will need to take the average of `duration_minutes` for each `homeTeamName`. This can be achieved by a `GROUP BY` and then an `ORDER BY`."
   ]
  },
  {
   "cell_type": "code",
   "execution_count": 3,
   "metadata": {},
   "outputs": [],
   "source": [
    "# Your answer goes here"
   ]
  },
  {
   "cell_type": "markdown",
   "metadata": {},
   "source": [
    "---\n",
    "---\n",
    "### Question 3\n",
    "\n",
    "The remaining questions refer to table `bigquery-public-data.austin_bikeshare.bikeshare_trips`.\n",
    "\n",
    "How many distinct and valid station IDs are in this table?\n",
    "\n",
    "Note1: notice that we are looking for valid station IDs, meaning that any station ID that is missing (is null) should be excluded.\n",
    "\n",
    "Note2: the question doesn't specify `start_station_id` or `end_station_id` and is referring to all the station IDs. You would need to use a UNION to merge them all. "
   ]
  },
  {
   "cell_type": "code",
   "execution_count": 4,
   "metadata": {},
   "outputs": [
    {
     "data": {
      "text/html": [
       "\n",
       "    <div class=\"bqtv\" id=\"4_156463454757\"><table><tr><th>trip_id</th><th>subscriber_type</th><th>bikeid</th><th>start_time</th><th>start_station_id</th><th>start_station_name</th><th>end_station_id</th><th>end_station_name</th><th>duration_minutes</th></tr><tr><td>9900285908</td><td>Annual Membership (Austin B-cycle)</td><td>400</td><td>2014-10-26 14:12:00</td><td>2823</td><td>Capital Metro HQ - East 5th at Broadway</td><td>2544</td><td>East 6th &amp; Pedernales St.</td><td>10</td></tr><tr><td>9900289692</td><td>Walk Up</td><td>248</td><td>2015-10-02 21:12:01</td><td>1006</td><td>Zilker Park West</td><td>1008</td><td>Nueces @ 3rd</td><td>39</td></tr><tr><td>9900285987</td><td>24-Hour Kiosk (Austin B-cycle)</td><td>446</td><td>2014-10-26 15:12:00</td><td>2712</td><td>Toomey Rd @ South Lamar</td><td>2712</td><td>Toomey Rd @ South Lamar</td><td>31</td></tr><tr><td>9900285989</td><td>24-Hour Kiosk (Austin B-cycle)</td><td>203</td><td>2014-10-26 15:12:00</td><td>2712</td><td>Toomey Rd @ South Lamar</td><td>2712</td><td>Toomey Rd @ South Lamar</td><td>31</td></tr><tr><td>9900285991</td><td>24-Hour Kiosk (Austin B-cycle)</td><td>101</td><td>2014-10-26 15:12:00</td><td>2712</td><td>Toomey Rd @ South Lamar</td><td>2712</td><td>Toomey Rd @ South Lamar</td><td>30</td></tr></table></div>\n",
       "    <br />(rows: 5, time: 0.3s, cached, job: job_a3de0AGG5UGmpaQrbxZ_1OxK1U7P)<br />\n",
       "    <script src=\"/static/components/requirejs/require.js\"></script>\n",
       "    <script>\n",
       "      require.config({\n",
       "        paths: {\n",
       "          base: '/static/base',\n",
       "          d3: '//cdnjs.cloudflare.com/ajax/libs/d3/3.4.13/d3',\n",
       "          plotly: 'https://cdn.plot.ly/plotly-1.5.1.min.js?noext',\n",
       "          jquery: '//ajax.googleapis.com/ajax/libs/jquery/2.0.0/jquery.min'\n",
       "        },\n",
       "        map: {\n",
       "          '*': {\n",
       "            datalab: 'nbextensions/gcpdatalab'\n",
       "          }\n",
       "        },\n",
       "        shim: {\n",
       "          plotly: {\n",
       "            deps: ['d3', 'jquery'],\n",
       "            exports: 'plotly'\n",
       "          }\n",
       "        }\n",
       "      });\n",
       "\n",
       "      require(['datalab/charting', 'datalab/element!4_156463454757', 'base/js/events',\n",
       "          'datalab/style!/nbextensions/gcpdatalab/charting.css'],\n",
       "        function(charts, dom, events) {\n",
       "          charts.render('gcharts', dom, events, 'table', [], {\"rows\": [{\"c\": [{\"v\": 9900285908}, {\"v\": \"Annual Membership (Austin B-cycle)\"}, {\"v\": \"400\"}, {\"v\": \"2014-10-26T14:12:00\"}, {\"v\": 2823}, {\"v\": \"Capital Metro HQ - East 5th at Broadway\"}, {\"v\": 2544}, {\"v\": \"East 6th & Pedernales St.\"}, {\"v\": 10}]}, {\"c\": [{\"v\": 9900289692}, {\"v\": \"Walk Up\"}, {\"v\": \"248\"}, {\"v\": \"2015-10-02T21:12:01\"}, {\"v\": 1006}, {\"v\": \"Zilker Park West\"}, {\"v\": 1008}, {\"v\": \"Nueces @ 3rd\"}, {\"v\": 39}]}, {\"c\": [{\"v\": 9900285987}, {\"v\": \"24-Hour Kiosk (Austin B-cycle)\"}, {\"v\": \"446\"}, {\"v\": \"2014-10-26T15:12:00\"}, {\"v\": 2712}, {\"v\": \"Toomey Rd @ South Lamar\"}, {\"v\": 2712}, {\"v\": \"Toomey Rd @ South Lamar\"}, {\"v\": 31}]}, {\"c\": [{\"v\": 9900285989}, {\"v\": \"24-Hour Kiosk (Austin B-cycle)\"}, {\"v\": \"203\"}, {\"v\": \"2014-10-26T15:12:00\"}, {\"v\": 2712}, {\"v\": \"Toomey Rd @ South Lamar\"}, {\"v\": 2712}, {\"v\": \"Toomey Rd @ South Lamar\"}, {\"v\": 31}]}, {\"c\": [{\"v\": 9900285991}, {\"v\": \"24-Hour Kiosk (Austin B-cycle)\"}, {\"v\": \"101\"}, {\"v\": \"2014-10-26T15:12:00\"}, {\"v\": 2712}, {\"v\": \"Toomey Rd @ South Lamar\"}, {\"v\": 2712}, {\"v\": \"Toomey Rd @ South Lamar\"}, {\"v\": 30}]}], \"cols\": [{\"type\": \"number\", \"id\": \"trip_id\", \"label\": \"trip_id\"}, {\"type\": \"string\", \"id\": \"subscriber_type\", \"label\": \"subscriber_type\"}, {\"type\": \"string\", \"id\": \"bikeid\", \"label\": \"bikeid\"}, {\"type\": \"timestamp\", \"id\": \"start_time\", \"label\": \"start_time\"}, {\"type\": \"number\", \"id\": \"start_station_id\", \"label\": \"start_station_id\"}, {\"type\": \"string\", \"id\": \"start_station_name\", \"label\": \"start_station_name\"}, {\"type\": \"number\", \"id\": \"end_station_id\", \"label\": \"end_station_id\"}, {\"type\": \"string\", \"id\": \"end_station_name\", \"label\": \"end_station_name\"}, {\"type\": \"number\", \"id\": \"duration_minutes\", \"label\": \"duration_minutes\"}]},\n",
       "            {\n",
       "              pageSize: 25,\n",
       "              cssClassNames:  {\n",
       "                tableRow: 'gchart-table-row',\n",
       "                headerRow: 'gchart-table-headerrow',\n",
       "                oddTableRow: 'gchart-table-oddrow',\n",
       "                selectedTableRow: 'gchart-table-selectedrow',\n",
       "                hoverTableRow: 'gchart-table-hoverrow',\n",
       "                tableCell: 'gchart-table-cell',\n",
       "                headerCell: 'gchart-table-headercell',\n",
       "                rowNumberCell: 'gchart-table-rownumcell'\n",
       "              }\n",
       "            },\n",
       "            {source_index: 3, fields: 'trip_id,subscriber_type,bikeid,start_time,start_station_id,start_station_name,end_station_id,end_station_name,duration_minutes'},\n",
       "            0,\n",
       "            5);\n",
       "        }\n",
       "      );\n",
       "    </script>\n",
       "  "
      ],
      "text/plain": [
       "QueryResultsTable job_a3de0AGG5UGmpaQrbxZ_1OxK1U7P"
      ]
     },
     "execution_count": 4,
     "metadata": {},
     "output_type": "execute_result"
    }
   ],
   "source": [
    "%%bq query\n",
    "SELECT * FROM `bigquery-public-data.austin_bikeshare.bikeshare_trips` LIMIT 5"
   ]
  },
  {
   "cell_type": "code",
   "execution_count": 4,
   "metadata": {},
   "outputs": [],
   "source": [
    "# Your answer goes here"
   ]
  },
  {
   "cell_type": "markdown",
   "metadata": {},
   "source": [
    "### Question 4\n",
    "Which station has the highest number of trips that start and end from that place?"
   ]
  },
  {
   "cell_type": "code",
   "execution_count": 5,
   "metadata": {},
   "outputs": [],
   "source": [
    "# Your answer goes here"
   ]
  },
  {
   "cell_type": "markdown",
   "metadata": {},
   "source": [
    "### Question 5\n",
    "Which station is the most popular destination?"
   ]
  },
  {
   "cell_type": "code",
   "execution_count": 6,
   "metadata": {},
   "outputs": [],
   "source": [
    "# Your answer goes here"
   ]
  },
  {
   "cell_type": "markdown",
   "metadata": {},
   "source": [
    "### Question 6\n",
    "How many different types of subscribers appear in this dataset?"
   ]
  },
  {
   "cell_type": "code",
   "execution_count": 7,
   "metadata": {},
   "outputs": [],
   "source": [
    "# Your answer goes here"
   ]
  },
  {
   "cell_type": "markdown",
   "metadata": {},
   "source": [
    "### Question 7\n",
    "Which one is by far the most popular plan?"
   ]
  },
  {
   "cell_type": "code",
   "execution_count": 8,
   "metadata": {},
   "outputs": [],
   "source": [
    "# Your answer goes here"
   ]
  },
  {
   "cell_type": "markdown",
   "metadata": {},
   "source": [
    "### Question 8\n",
    "How many bike rides are in this dataset?"
   ]
  },
  {
   "cell_type": "code",
   "execution_count": 9,
   "metadata": {},
   "outputs": [],
   "source": [
    "# Your answer goes here"
   ]
  },
  {
   "cell_type": "markdown",
   "metadata": {},
   "source": [
    "### Question 9\n",
    "Which month was the busiest month in 2018?\n",
    "\n",
    "Hint: Use the EXTRACT function to extract the date components. For more documentation go to the documentation: https://cloud.google.com/bigquery/docs/reference/standard-sql/date_functions"
   ]
  },
  {
   "cell_type": "code",
   "execution_count": 10,
   "metadata": {},
   "outputs": [],
   "source": [
    "# Your answer goes here"
   ]
  },
  {
   "cell_type": "markdown",
   "metadata": {},
   "source": [
    "### Question 10 (BONUS)\n",
    "Create a \"columns\" chart that shows the number of rides in each week of 2018."
   ]
  },
  {
   "cell_type": "code",
   "execution_count": 12,
   "metadata": {},
   "outputs": [],
   "source": [
    "# Your answer goes here"
   ]
  },
  {
   "cell_type": "code",
   "execution_count": 11,
   "metadata": {},
   "outputs": [],
   "source": [
    "# Your answer goes here"
   ]
  }
 ],
 "metadata": {
  "kernelspec": {
   "display_name": "Python 2",
   "language": "python",
   "name": "python2"
  },
  "language_info": {
   "codemirror_mode": {
    "name": "ipython",
    "version": 2
   },
   "file_extension": ".py",
   "mimetype": "text/x-python",
   "name": "python",
   "nbconvert_exporter": "python",
   "pygments_lexer": "ipython2",
   "version": "2.7.15"
  }
 },
 "nbformat": 4,
 "nbformat_minor": 2
}
