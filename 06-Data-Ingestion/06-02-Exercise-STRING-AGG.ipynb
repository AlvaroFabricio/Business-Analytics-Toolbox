{
 "cells": [
  {
   "cell_type": "markdown",
   "metadata": {},
   "source": [
    "# Practice on STRING_AGG() & ARRAY_AGG()\n",
    "We will use the Google Analytics dataset `data-to-insights.ecommerce.all_sessions_raw`, also use in the [uncoming Quiklab](https://google.qwiklabs.com/focuses/3638?parent=catalog)."
   ]
  },
  {
   "cell_type": "code",
   "execution_count": 9,
   "metadata": {},
   "outputs": [],
   "source": [
    "# This cell is to enable the \"hint\" functionality. After each question there is a cell with either a hint about the correct answer or the solution. \n",
    "from IPython.display import Pretty as disp\n",
    "hint = 'https://raw.githubusercontent.com/soltaniehha/Business-Analytics-Toolbox/master/docs/hints/'  # path to hints on GitHub"
   ]
  },
  {
   "cell_type": "markdown",
   "metadata": {},
   "source": [
    "Question: Find how many product names and product SKUs are on the website."
   ]
  },
  {
   "cell_type": "code",
   "execution_count": 1,
   "metadata": {},
   "outputs": [
    {
     "data": {
      "text/html": [
       "\n",
       "    <div class=\"bqtv\" id=\"1_156555451100\"><table><tr><th>f0_</th></tr><tr><td>2273</td></tr></table></div>\n",
       "    <br />(rows: 1, time: 1.2s,     1GB processed, job: job_XCv3nXJl-5UHwDGDuKYIRndgda-r)<br />\n",
       "    <script src=\"/static/components/requirejs/require.js\"></script>\n",
       "    <script>\n",
       "      require.config({\n",
       "        paths: {\n",
       "          base: '/static/base',\n",
       "          d3: '//cdnjs.cloudflare.com/ajax/libs/d3/3.4.13/d3',\n",
       "          plotly: 'https://cdn.plot.ly/plotly-1.5.1.min.js?noext',\n",
       "          jquery: '//ajax.googleapis.com/ajax/libs/jquery/2.0.0/jquery.min'\n",
       "        },\n",
       "        map: {\n",
       "          '*': {\n",
       "            datalab: 'nbextensions/gcpdatalab'\n",
       "          }\n",
       "        },\n",
       "        shim: {\n",
       "          plotly: {\n",
       "            deps: ['d3', 'jquery'],\n",
       "            exports: 'plotly'\n",
       "          }\n",
       "        }\n",
       "      });\n",
       "\n",
       "      require(['datalab/charting', 'datalab/element!1_156555451100', 'base/js/events',\n",
       "          'datalab/style!/nbextensions/gcpdatalab/charting.css'],\n",
       "        function(charts, dom, events) {\n",
       "          charts.render('gcharts', dom, events, 'table', [], {\"rows\": [{\"c\": [{\"v\": 2273}]}], \"cols\": [{\"type\": \"number\", \"id\": \"f0_\", \"label\": \"f0_\"}]},\n",
       "            {\n",
       "              pageSize: 25,\n",
       "              cssClassNames:  {\n",
       "                tableRow: 'gchart-table-row',\n",
       "                headerRow: 'gchart-table-headerrow',\n",
       "                oddTableRow: 'gchart-table-oddrow',\n",
       "                selectedTableRow: 'gchart-table-selectedrow',\n",
       "                hoverTableRow: 'gchart-table-hoverrow',\n",
       "                tableCell: 'gchart-table-cell',\n",
       "                headerCell: 'gchart-table-headercell',\n",
       "                rowNumberCell: 'gchart-table-rownumcell'\n",
       "              }\n",
       "            },\n",
       "            {source_index: 0, fields: 'f0_'},\n",
       "            0,\n",
       "            1);\n",
       "        }\n",
       "      );\n",
       "    </script>\n",
       "  "
      ],
      "text/plain": [
       "QueryResultsTable job_XCv3nXJl-5UHwDGDuKYIRndgda-r"
      ]
     },
     "execution_count": 1,
     "metadata": {},
     "output_type": "execute_result"
    }
   ],
   "source": [
    "%%bq query\n",
    "SELECT COUNT(*) FROM (\n",
    "  SELECT DISTINCT productSKU, v2ProductName\n",
    "  FROM `data-to-insights.ecommerce.all_sessions_raw`\n",
    "  )"
   ]
  },
  {
   "cell_type": "markdown",
   "metadata": {},
   "source": [
    "Now find the number of distinct SKUs:"
   ]
  },
  {
   "cell_type": "code",
   "execution_count": 2,
   "metadata": {},
   "outputs": [
    {
     "data": {
      "text/html": [
       "\n",
       "    <div class=\"bqtv\" id=\"2_156555459584\"><table><tr><th>f0_</th></tr><tr><td>1909</td></tr></table></div>\n",
       "    <br />(rows: 1, time: 0.8s,   323MB processed, job: job_FK7e-7PgonxJhNRMYp0Xlhqp_P0m)<br />\n",
       "    <script src=\"/static/components/requirejs/require.js\"></script>\n",
       "    <script>\n",
       "      require.config({\n",
       "        paths: {\n",
       "          base: '/static/base',\n",
       "          d3: '//cdnjs.cloudflare.com/ajax/libs/d3/3.4.13/d3',\n",
       "          plotly: 'https://cdn.plot.ly/plotly-1.5.1.min.js?noext',\n",
       "          jquery: '//ajax.googleapis.com/ajax/libs/jquery/2.0.0/jquery.min'\n",
       "        },\n",
       "        map: {\n",
       "          '*': {\n",
       "            datalab: 'nbextensions/gcpdatalab'\n",
       "          }\n",
       "        },\n",
       "        shim: {\n",
       "          plotly: {\n",
       "            deps: ['d3', 'jquery'],\n",
       "            exports: 'plotly'\n",
       "          }\n",
       "        }\n",
       "      });\n",
       "\n",
       "      require(['datalab/charting', 'datalab/element!2_156555459584', 'base/js/events',\n",
       "          'datalab/style!/nbextensions/gcpdatalab/charting.css'],\n",
       "        function(charts, dom, events) {\n",
       "          charts.render('gcharts', dom, events, 'table', [], {\"rows\": [{\"c\": [{\"v\": 1909}]}], \"cols\": [{\"type\": \"number\", \"id\": \"f0_\", \"label\": \"f0_\"}]},\n",
       "            {\n",
       "              pageSize: 25,\n",
       "              cssClassNames:  {\n",
       "                tableRow: 'gchart-table-row',\n",
       "                headerRow: 'gchart-table-headerrow',\n",
       "                oddTableRow: 'gchart-table-oddrow',\n",
       "                selectedTableRow: 'gchart-table-selectedrow',\n",
       "                hoverTableRow: 'gchart-table-hoverrow',\n",
       "                tableCell: 'gchart-table-cell',\n",
       "                headerCell: 'gchart-table-headercell',\n",
       "                rowNumberCell: 'gchart-table-rownumcell'\n",
       "              }\n",
       "            },\n",
       "            {source_index: 1, fields: 'f0_'},\n",
       "            0,\n",
       "            1);\n",
       "        }\n",
       "      );\n",
       "    </script>\n",
       "  "
      ],
      "text/plain": [
       "QueryResultsTable job_FK7e-7PgonxJhNRMYp0Xlhqp_P0m"
      ]
     },
     "execution_count": 2,
     "metadata": {},
     "output_type": "execute_result"
    }
   ],
   "source": [
    "%%bq query\n",
    "SELECT COUNT(DISTINCT productSKU) \n",
    "FROM `data-to-insights.ecommerce.all_sessions_raw`"
   ]
  },
  {
   "cell_type": "markdown",
   "metadata": {},
   "source": [
    "Obviously these numbers do not match which indicates that there are duplications. Let's determine which products have more than one SKU and which SKUs have more than one Product Name.\n",
    "\n",
    "Let's determine if some product names have more than one SKU:"
   ]
  },
  {
   "cell_type": "code",
   "execution_count": 3,
   "metadata": {},
   "outputs": [
    {
     "data": {
      "text/html": [
       "\n",
       "    <div class=\"bqtv\" id=\"3_156555474792\"><table><tr><th>v2ProductName</th><th>SKU_count</th><th>SKU</th></tr><tr><td>Waze Women's Typography Short Sleeve Tee</td><td>12</td><td>GGOEWXXX0834,9184710,9184705,9184711,9184707</td></tr><tr><td>Google Sunglasses</td><td>10</td><td>9180829,GGOEGAAX0037,GGOEGHGH019699,GGOEGHGR019499,GGOEGHGC019799</td></tr><tr><td>Google Men's Watershed Full Zip Hoodie Grey</td><td>10</td><td>GGOEGAAX0568,9182739,9182383,9182382,GGOEGADJ056816</td></tr><tr><td>Google Women's Insulated Thermal Vest Navy</td><td>10</td><td>9182760,GGOEGAAX0585,GGOEGAPL058514,GGOEGAPL058513,9182495</td></tr><tr><td>Android Women's Short Sleeve Badge Tee Dark Heather</td><td>10</td><td>GGOEGAAX0282,9182176,9182179,GGOEAAEJ028213,GGOEAAEJ028216</td></tr><tr><td>Google Men's Vintage Badge Tee White</td><td>9</td><td>GGOEGAAX0339,9182525,9182526,GGOEGAAQ033917,GGOEGAAQ033914</td></tr><tr><td>Google Men's Performance Full Zip Jacket Black</td><td>9</td><td>GGOEGAAX0569,9182751,9184620,GGOEGADB056914,GGOEGADB056915</td></tr><tr><td>Android Women's Short Sleeve Hero Tee Black</td><td>9</td><td>GGOEGAAX0283,GGOEAAEB028314,GGOEAAEB028313,GGOEAAEB028316,9182181</td></tr><tr><td>Google Women's Yoga Jacket Black</td><td>9</td><td>GGOEGAAX0586,9182502,9182761,GGOEGAPB058613,GGOEGAPB058612</td></tr><tr><td>Google Long Sleeve Raglan Badge Henley Ocean Blue</td><td>8</td><td>GGOEGAAX0331,9180905,9182714,GGOEGAEC033114,GGOEGAEC033113</td></tr><tr><td>Google Women's Short Sleeve Hero Tee Sky Blue</td><td>8</td><td>GGOEGAAX0291,9182658,9184720,GGOEGAEC029113,GGOEGAEC029117</td></tr><tr><td>Google Men's Long Sleeve Raglan Ocean Blue</td><td>8</td><td>GGOEGAAX0331,9182714,9180905,GGOEGAEC033115,GGOEGAEC033114</td></tr><tr><td>Google Men's Performance Polo Grey/Black</td><td>8</td><td>GGOEGAAX0574,9182757,GGOEGAHB057413,GGOEGAHB057417,GGOEGAHB057414</td></tr><tr><td>Google Men's Short Sleeve Performance Badge Tee Charcoal</td><td>8</td><td>GGOEGAAX0570,9182752,GGOEGAAJ057016,GGOEGAAJ057015,GGOEGAAJ057013</td></tr><tr><td>Google Women's Zip Hoodie Grey</td><td>8</td><td>9182775,GGOEGAAX0587,9184618,GGOEGAQJ058716,GGOEGAQJ058713</td></tr><tr><td>Google Men's Quilted Insulated Vest Black</td><td>8</td><td>GGOEGAAX0596,9182745,GGOEGADB059615,GGOEGADB059614,GGOEGADB059618</td></tr><tr><td>Google Men's Short Sleeve Hero Tee Light Blue</td><td>8</td><td>GGOEGAAX0321,9182717,9180958,GGOEGAAC032116,GGOEGAAC032114</td></tr><tr><td>Google Women's V-Neck Tee Grey</td><td>8</td><td>GGOEGAAX0298,9182688,9182686,GGOEGAEJ029813,GGOEGAEJ029817</td></tr><tr><td>Google Men's Performance 1/4 Zip Pullover Heather/Black</td><td>8</td><td>GGOEGAAX0571,9182750,GGOEGADJ057114,GGOEGADJ057118,GGOEGADJ057115</td></tr><tr><td>Google Men's Lightweight Microfleece Jacket Black</td><td>8</td><td>GGOEGAAX0573,9182756,GGOEGADB057315,GGOEGADB057316,GGOEGADB057314</td></tr><tr><td>Google Women's 1/4 Zip Jacket Charcoal</td><td>8</td><td>GGOEGAAX0580,9182771,GGOEGAPJ058013,GGOEGAPJ058015,GGOEGAPJ058014</td></tr><tr><td>Google Women's Shell Jacket Blue/Black</td><td>8</td><td>GGOEGAAX0588,9182780,GGOEGAPC058813,GGOEGAPC058817,GGOEGAPC058814</td></tr><tr><td>Google Men's Short Sleeve Performance Badge Tee Black</td><td>8</td><td>GGOEGAAX0589,9182747,GGOEGAAB058917,GGOEGAAB058915,GGOEGAAB058918</td></tr><tr><td>Google Men's Short Sleeve Performance Badge Tee Navy</td><td>8</td><td>GGOEGAAX0590,9182749,GGOEGAAL059017,GGOEGAAL059016,GGOEGAAL059013</td></tr><tr><td>YouTube Women's Short Sleeve Tri-blend Badge Tee Charcoal</td><td>8</td><td>GGOEGAAX0295,GGOEYAEJ029514,GGOEYAEJ029515,GGOEYAEJ029513,GGOEYAEJ029517</td></tr></table></div>\n",
       "    <br />(rows: 493, time: 1.5s,     1GB processed, job: job_WDSCvzH7iYaxVZtIYwPOT-hti7Jj)<br />\n",
       "    <script src=\"/static/components/requirejs/require.js\"></script>\n",
       "    <script>\n",
       "      require.config({\n",
       "        paths: {\n",
       "          base: '/static/base',\n",
       "          d3: '//cdnjs.cloudflare.com/ajax/libs/d3/3.4.13/d3',\n",
       "          plotly: 'https://cdn.plot.ly/plotly-1.5.1.min.js?noext',\n",
       "          jquery: '//ajax.googleapis.com/ajax/libs/jquery/2.0.0/jquery.min'\n",
       "        },\n",
       "        map: {\n",
       "          '*': {\n",
       "            datalab: 'nbextensions/gcpdatalab'\n",
       "          }\n",
       "        },\n",
       "        shim: {\n",
       "          plotly: {\n",
       "            deps: ['d3', 'jquery'],\n",
       "            exports: 'plotly'\n",
       "          }\n",
       "        }\n",
       "      });\n",
       "\n",
       "      require(['datalab/charting', 'datalab/element!3_156555474792', 'base/js/events',\n",
       "          'datalab/style!/nbextensions/gcpdatalab/charting.css'],\n",
       "        function(charts, dom, events) {\n",
       "          charts.render('gcharts', dom, events, 'paged_table', [], {\"rows\": [{\"c\": [{\"v\": \"Waze Women's Typography Short Sleeve Tee\"}, {\"v\": 12}, {\"v\": \"GGOEWXXX0834,9184710,9184705,9184711,9184707\"}]}, {\"c\": [{\"v\": \"Google Sunglasses\"}, {\"v\": 10}, {\"v\": \"9180829,GGOEGAAX0037,GGOEGHGH019699,GGOEGHGR019499,GGOEGHGC019799\"}]}, {\"c\": [{\"v\": \"Google Men's Watershed Full Zip Hoodie Grey\"}, {\"v\": 10}, {\"v\": \"GGOEGAAX0568,9182739,9182383,9182382,GGOEGADJ056816\"}]}, {\"c\": [{\"v\": \"Google Women's Insulated Thermal Vest Navy\"}, {\"v\": 10}, {\"v\": \"9182760,GGOEGAAX0585,GGOEGAPL058514,GGOEGAPL058513,9182495\"}]}, {\"c\": [{\"v\": \"Android Women's Short Sleeve Badge Tee Dark Heather\"}, {\"v\": 10}, {\"v\": \"GGOEGAAX0282,9182176,9182179,GGOEAAEJ028213,GGOEAAEJ028216\"}]}, {\"c\": [{\"v\": \"Google Men's Vintage Badge Tee White\"}, {\"v\": 9}, {\"v\": \"GGOEGAAX0339,9182525,9182526,GGOEGAAQ033917,GGOEGAAQ033914\"}]}, {\"c\": [{\"v\": \"Google Men's Performance Full Zip Jacket Black\"}, {\"v\": 9}, {\"v\": \"GGOEGAAX0569,9182751,9184620,GGOEGADB056914,GGOEGADB056915\"}]}, {\"c\": [{\"v\": \"Android Women's Short Sleeve Hero Tee Black\"}, {\"v\": 9}, {\"v\": \"GGOEGAAX0283,GGOEAAEB028314,GGOEAAEB028313,GGOEAAEB028316,9182181\"}]}, {\"c\": [{\"v\": \"Google Women's Yoga Jacket Black\"}, {\"v\": 9}, {\"v\": \"GGOEGAAX0586,9182502,9182761,GGOEGAPB058613,GGOEGAPB058612\"}]}, {\"c\": [{\"v\": \"Google Long Sleeve Raglan Badge Henley Ocean Blue\"}, {\"v\": 8}, {\"v\": \"GGOEGAAX0331,9180905,9182714,GGOEGAEC033114,GGOEGAEC033113\"}]}, {\"c\": [{\"v\": \"Google Women's Short Sleeve Hero Tee Sky Blue\"}, {\"v\": 8}, {\"v\": \"GGOEGAAX0291,9182658,9184720,GGOEGAEC029113,GGOEGAEC029117\"}]}, {\"c\": [{\"v\": \"Google Men's Long Sleeve Raglan Ocean Blue\"}, {\"v\": 8}, {\"v\": \"GGOEGAAX0331,9182714,9180905,GGOEGAEC033115,GGOEGAEC033114\"}]}, {\"c\": [{\"v\": \"Google Men's Performance Polo Grey/Black\"}, {\"v\": 8}, {\"v\": \"GGOEGAAX0574,9182757,GGOEGAHB057413,GGOEGAHB057417,GGOEGAHB057414\"}]}, {\"c\": [{\"v\": \"Google Men's Short Sleeve Performance Badge Tee Charcoal\"}, {\"v\": 8}, {\"v\": \"GGOEGAAX0570,9182752,GGOEGAAJ057016,GGOEGAAJ057015,GGOEGAAJ057013\"}]}, {\"c\": [{\"v\": \"Google Women's Zip Hoodie Grey\"}, {\"v\": 8}, {\"v\": \"9182775,GGOEGAAX0587,9184618,GGOEGAQJ058716,GGOEGAQJ058713\"}]}, {\"c\": [{\"v\": \"Google Men's Quilted Insulated Vest Black\"}, {\"v\": 8}, {\"v\": \"GGOEGAAX0596,9182745,GGOEGADB059615,GGOEGADB059614,GGOEGADB059618\"}]}, {\"c\": [{\"v\": \"Google Men's Short Sleeve Hero Tee Light Blue\"}, {\"v\": 8}, {\"v\": \"GGOEGAAX0321,9182717,9180958,GGOEGAAC032116,GGOEGAAC032114\"}]}, {\"c\": [{\"v\": \"Google Women's V-Neck Tee Grey\"}, {\"v\": 8}, {\"v\": \"GGOEGAAX0298,9182688,9182686,GGOEGAEJ029813,GGOEGAEJ029817\"}]}, {\"c\": [{\"v\": \"Google Men's Performance 1/4 Zip Pullover Heather/Black\"}, {\"v\": 8}, {\"v\": \"GGOEGAAX0571,9182750,GGOEGADJ057114,GGOEGADJ057118,GGOEGADJ057115\"}]}, {\"c\": [{\"v\": \"Google Men's Lightweight Microfleece Jacket Black\"}, {\"v\": 8}, {\"v\": \"GGOEGAAX0573,9182756,GGOEGADB057315,GGOEGADB057316,GGOEGADB057314\"}]}, {\"c\": [{\"v\": \"Google Women's 1/4 Zip Jacket Charcoal\"}, {\"v\": 8}, {\"v\": \"GGOEGAAX0580,9182771,GGOEGAPJ058013,GGOEGAPJ058015,GGOEGAPJ058014\"}]}, {\"c\": [{\"v\": \"Google Women's Shell Jacket Blue/Black\"}, {\"v\": 8}, {\"v\": \"GGOEGAAX0588,9182780,GGOEGAPC058813,GGOEGAPC058817,GGOEGAPC058814\"}]}, {\"c\": [{\"v\": \"Google Men's Short Sleeve Performance Badge Tee Black\"}, {\"v\": 8}, {\"v\": \"GGOEGAAX0589,9182747,GGOEGAAB058917,GGOEGAAB058915,GGOEGAAB058918\"}]}, {\"c\": [{\"v\": \"Google Men's Short Sleeve Performance Badge Tee Navy\"}, {\"v\": 8}, {\"v\": \"GGOEGAAX0590,9182749,GGOEGAAL059017,GGOEGAAL059016,GGOEGAAL059013\"}]}, {\"c\": [{\"v\": \"YouTube Women's Short Sleeve Tri-blend Badge Tee Charcoal\"}, {\"v\": 8}, {\"v\": \"GGOEGAAX0295,GGOEYAEJ029514,GGOEYAEJ029515,GGOEYAEJ029513,GGOEYAEJ029517\"}]}], \"cols\": [{\"type\": \"string\", \"id\": \"v2ProductName\", \"label\": \"v2ProductName\"}, {\"type\": \"number\", \"id\": \"SKU_count\", \"label\": \"SKU_count\"}, {\"type\": \"string\", \"id\": \"SKU\", \"label\": \"SKU\"}]},\n",
       "            {\n",
       "              pageSize: 25,\n",
       "              cssClassNames:  {\n",
       "                tableRow: 'gchart-table-row',\n",
       "                headerRow: 'gchart-table-headerrow',\n",
       "                oddTableRow: 'gchart-table-oddrow',\n",
       "                selectedTableRow: 'gchart-table-selectedrow',\n",
       "                hoverTableRow: 'gchart-table-hoverrow',\n",
       "                tableCell: 'gchart-table-cell',\n",
       "                headerCell: 'gchart-table-headercell',\n",
       "                rowNumberCell: 'gchart-table-rownumcell'\n",
       "              }\n",
       "            },\n",
       "            {source_index: 2, fields: 'v2ProductName,SKU_count,SKU'},\n",
       "            0,\n",
       "            493);\n",
       "        }\n",
       "      );\n",
       "    </script>\n",
       "  "
      ],
      "text/plain": [
       "QueryResultsTable job_WDSCvzH7iYaxVZtIYwPOT-hti7Jj"
      ]
     },
     "execution_count": 3,
     "metadata": {},
     "output_type": "execute_result"
    }
   ],
   "source": [
    "%%bq query\n",
    "SELECT\n",
    "  v2ProductName,\n",
    "  COUNT(DISTINCT productSKU) AS SKU_count,\n",
    "  STRING_AGG(DISTINCT productSKU LIMIT 5) AS SKU\n",
    "FROM `data-to-insights.ecommerce.all_sessions_raw`\n",
    "  WHERE productSKU IS NOT NULL\n",
    "  GROUP BY v2ProductName\n",
    "  HAVING SKU_count > 1\n",
    "  ORDER BY SKU_count DESC"
   ]
  },
  {
   "cell_type": "markdown",
   "metadata": {},
   "source": [
    "We can see that 493 products are under this category. We can see the SKUs that these product names are active."
   ]
  },
  {
   "cell_type": "markdown",
   "metadata": {},
   "source": [
    "## Your turn\n",
    "Find the SKUs that have multiple product names:"
   ]
  },
  {
   "cell_type": "code",
   "execution_count": 7,
   "metadata": {},
   "outputs": [
    {
     "data": {
      "text/html": [
       "\n",
       "    <div class=\"bqtv\" id=\"5_156555535078\"><table><tr><th>productSKU</th><th>product_count</th><th>product_name</th></tr><tr><td>GGOEGCLB020832</td><td>3</td><td>Softsided Travel Pouch Set,Set of 3 Nested Travel Cases,BRIGHTtravels Set of 3 Nested Travel Cases</td></tr><tr><td>GGOEGBMC056599</td><td>3</td><td>Waterpoof Gear Bag,Waterproof Gear Bag,Google Small Waterproof Duffel</td></tr><tr><td>GGOENEBJ079499</td><td>3</td><td>Nest® Learning Thermostat 3rd Gen-USA - Stainless Steel,Nest® Learning Thermostat 3rd Gen-USA,Nest庐 Learning Thermostat 3rd Gen-USA - Stainless Steel</td></tr><tr><td>9180752</td><td>3</td><td>Android 24 oz Contigo Bottle,Android 24 oz Button Lid Sport Water Bottle Smoke,Android 24 oz Contigo Addison</td></tr><tr><td>GGOEGAAX0098</td><td>3</td><td>7&amp;quot; Dog Frisbee,7\" Dog Frisbee,Google 7-inch Dog Flying Disc</td></tr><tr><td>GGOEGEVA022399</td><td>3</td><td>Micro Wireless Earbud,Micro Wireless Earbuds,ATOM Wireless Earbud Headset</td></tr><tr><td>9180751</td><td>3</td><td>Android 24 oz Contigo Bottle,Android 24 oz Button Lid Sport Water Bottle Green,Android 24 oz Contigo Addison</td></tr><tr><td>9180814</td><td>3</td><td>Micro Wireless Earbud,ATOM Wireless Earbud Headset,Micro Wireless Earbuds</td></tr><tr><td>9181664</td><td>3</td><td>Waterproof Gear Bag,Waterpoof Gear Bag,Google Small Waterproof Duffel</td></tr><tr><td>GGOEGPJC019099</td><td>3</td><td>7&amp;quot; Dog Frisbee,7\" Dog Frisbee,Google 7-inch Dog Flying Disc Blue</td></tr><tr><td>GGOEADHH015499</td><td>3</td><td>Android 24 oz Contigo Bottle,Android 24 oz Contigo Addison,Android 24 oz Button Lid Sport Water Bottle Green</td></tr><tr><td>GGOEADHJ015599</td><td>3</td><td>Android 24 oz Contigo Addison,Android 24 oz Contigo Bottle,Android 24 oz Button Lid Sport Water Bottle Smoke</td></tr><tr><td>GGOEYAEJ029015</td><td>3</td><td>YouTube Women's Short Sleeve Crew Tee,YouTube Women's Short Sleeve Hero Tee Charcoal,YouTube Women's S/S Crew Tee</td></tr><tr><td>GGOEGPJR018999</td><td>3</td><td>7&amp;quot; Dog Frisbee,7\" Dog Frisbee,Google 7-inch Dog Flying Disc Red</td></tr><tr><td>GGOEYAEJ029013</td><td>3</td><td>YouTube Women's Short Sleeve Hero Tee Charcoal,YouTube Women's Short Sleeve Crew Tee,YouTube Women's S/S Crew Tee</td></tr><tr><td>GGOEYAEJ029014</td><td>3</td><td>YouTube Women's Short Sleeve Crew Tee,YouTube Women's S/S Crew Tee,YouTube Women's Short Sleeve Hero Tee Charcoal</td></tr><tr><td>GGOEYAEJ029016</td><td>3</td><td>YouTube Women's Short Sleeve Hero Tee Charcoal,YouTube Women's S/S Crew Tee,YouTube Women's Short Sleeve Crew Tee</td></tr><tr><td>GGOEGBRJ037299</td><td>2</td><td>Google Alpine Style Backpack,Oasis Backpack</td></tr><tr><td>GGOEGBRA037499</td><td>2</td><td>Waterproof Backpack,Deluge Waterproof Backpack</td></tr><tr><td>GGOEGOLC013299</td><td>2</td><td>Spiral Notebook and Pen Set,Blue Keeper Notebook Set with Flap</td></tr><tr><td>GGOEGCMB020932</td><td>2</td><td>Suitcase Organizer Cubes,Set of 3 Packing Cubes</td></tr><tr><td>GGOEGESB015099</td><td>2</td><td>Basecamp Explorer Powerbank Flashlight,Powerbank Flashlight</td></tr><tr><td>GGOEGAAX0340</td><td>2</td><td>Google Men's Vintage Badge Tee Sage,Google Men's Vintage Badge Tee Green</td></tr><tr><td>GGOENEBB079399</td><td>2</td><td>Nest® Protect Smoke + CO Black Wired Alarm-USA,Nest庐 Protect Smoke + CO Black Wired Alarm-USA</td></tr><tr><td>GGOEAFKQ020499</td><td>2</td><td>8 pc Android Sticker Sheet,8pc Android Sticker Sheet</td></tr></table></div>\n",
       "    <br />(rows: 347, time: 1.3s,     1GB processed, job: job_IO17ceJKqqgbASxuK8oZJ_b2J71s)<br />\n",
       "    <script src=\"/static/components/requirejs/require.js\"></script>\n",
       "    <script>\n",
       "      require.config({\n",
       "        paths: {\n",
       "          base: '/static/base',\n",
       "          d3: '//cdnjs.cloudflare.com/ajax/libs/d3/3.4.13/d3',\n",
       "          plotly: 'https://cdn.plot.ly/plotly-1.5.1.min.js?noext',\n",
       "          jquery: '//ajax.googleapis.com/ajax/libs/jquery/2.0.0/jquery.min'\n",
       "        },\n",
       "        map: {\n",
       "          '*': {\n",
       "            datalab: 'nbextensions/gcpdatalab'\n",
       "          }\n",
       "        },\n",
       "        shim: {\n",
       "          plotly: {\n",
       "            deps: ['d3', 'jquery'],\n",
       "            exports: 'plotly'\n",
       "          }\n",
       "        }\n",
       "      });\n",
       "\n",
       "      require(['datalab/charting', 'datalab/element!5_156555535078', 'base/js/events',\n",
       "          'datalab/style!/nbextensions/gcpdatalab/charting.css'],\n",
       "        function(charts, dom, events) {\n",
       "          charts.render('gcharts', dom, events, 'paged_table', [], {\"rows\": [{\"c\": [{\"v\": \"GGOEGCLB020832\"}, {\"v\": 3}, {\"v\": \"Softsided Travel Pouch Set,Set of 3 Nested Travel Cases,BRIGHTtravels Set of 3 Nested Travel Cases\"}]}, {\"c\": [{\"v\": \"GGOEGBMC056599\"}, {\"v\": 3}, {\"v\": \"Waterpoof Gear Bag,Waterproof Gear Bag,Google Small Waterproof Duffel\"}]}, {\"c\": [{\"v\": \"GGOENEBJ079499\"}, {\"v\": 3}, {\"v\": \"Nest\\u00ae Learning Thermostat 3rd Gen-USA - Stainless Steel,Nest\\u00ae Learning Thermostat 3rd Gen-USA,Nest\\u5e90 Learning Thermostat 3rd Gen-USA - Stainless Steel\"}]}, {\"c\": [{\"v\": \"9180752\"}, {\"v\": 3}, {\"v\": \"Android 24 oz Contigo Bottle,Android 24 oz Button Lid Sport Water Bottle Smoke,Android 24 oz Contigo Addison\"}]}, {\"c\": [{\"v\": \"GGOEGAAX0098\"}, {\"v\": 3}, {\"v\": \"7&quot; Dog Frisbee,7\\\" Dog Frisbee,Google 7-inch Dog Flying Disc\"}]}, {\"c\": [{\"v\": \"GGOEGEVA022399\"}, {\"v\": 3}, {\"v\": \"Micro Wireless Earbud,Micro Wireless Earbuds,ATOM Wireless Earbud Headset\"}]}, {\"c\": [{\"v\": \"9180751\"}, {\"v\": 3}, {\"v\": \"Android 24 oz Contigo Bottle,Android 24 oz Button Lid Sport Water Bottle Green,Android 24 oz Contigo Addison\"}]}, {\"c\": [{\"v\": \"9180814\"}, {\"v\": 3}, {\"v\": \"Micro Wireless Earbud,ATOM Wireless Earbud Headset,Micro Wireless Earbuds\"}]}, {\"c\": [{\"v\": \"9181664\"}, {\"v\": 3}, {\"v\": \"Waterproof Gear Bag,Waterpoof Gear Bag,Google Small Waterproof Duffel\"}]}, {\"c\": [{\"v\": \"GGOEGPJC019099\"}, {\"v\": 3}, {\"v\": \"7&quot; Dog Frisbee,7\\\" Dog Frisbee,Google 7-inch Dog Flying Disc Blue\"}]}, {\"c\": [{\"v\": \"GGOEADHH015499\"}, {\"v\": 3}, {\"v\": \"Android 24 oz Contigo Bottle,Android 24 oz Contigo Addison,Android 24 oz Button Lid Sport Water Bottle Green\"}]}, {\"c\": [{\"v\": \"GGOEADHJ015599\"}, {\"v\": 3}, {\"v\": \"Android 24 oz Contigo Addison,Android 24 oz Contigo Bottle,Android 24 oz Button Lid Sport Water Bottle Smoke\"}]}, {\"c\": [{\"v\": \"GGOEYAEJ029015\"}, {\"v\": 3}, {\"v\": \"YouTube Women's Short Sleeve Crew Tee,YouTube Women's Short Sleeve Hero Tee Charcoal,YouTube Women's S/S Crew Tee\"}]}, {\"c\": [{\"v\": \"GGOEGPJR018999\"}, {\"v\": 3}, {\"v\": \"7&quot; Dog Frisbee,7\\\" Dog Frisbee,Google 7-inch Dog Flying Disc Red\"}]}, {\"c\": [{\"v\": \"GGOEYAEJ029013\"}, {\"v\": 3}, {\"v\": \"YouTube Women's Short Sleeve Hero Tee Charcoal,YouTube Women's Short Sleeve Crew Tee,YouTube Women's S/S Crew Tee\"}]}, {\"c\": [{\"v\": \"GGOEYAEJ029014\"}, {\"v\": 3}, {\"v\": \"YouTube Women's Short Sleeve Crew Tee,YouTube Women's S/S Crew Tee,YouTube Women's Short Sleeve Hero Tee Charcoal\"}]}, {\"c\": [{\"v\": \"GGOEYAEJ029016\"}, {\"v\": 3}, {\"v\": \"YouTube Women's Short Sleeve Hero Tee Charcoal,YouTube Women's S/S Crew Tee,YouTube Women's Short Sleeve Crew Tee\"}]}, {\"c\": [{\"v\": \"GGOEGBRJ037299\"}, {\"v\": 2}, {\"v\": \"Google Alpine Style Backpack,Oasis Backpack\"}]}, {\"c\": [{\"v\": \"GGOEGBRA037499\"}, {\"v\": 2}, {\"v\": \"Waterproof Backpack,Deluge Waterproof Backpack\"}]}, {\"c\": [{\"v\": \"GGOEGOLC013299\"}, {\"v\": 2}, {\"v\": \"Spiral Notebook and Pen Set,Blue Keeper Notebook Set with Flap\"}]}, {\"c\": [{\"v\": \"GGOEGCMB020932\"}, {\"v\": 2}, {\"v\": \"Suitcase Organizer Cubes,Set of 3 Packing Cubes\"}]}, {\"c\": [{\"v\": \"GGOEGESB015099\"}, {\"v\": 2}, {\"v\": \"Basecamp Explorer Powerbank Flashlight,Powerbank Flashlight\"}]}, {\"c\": [{\"v\": \"GGOEGAAX0340\"}, {\"v\": 2}, {\"v\": \"Google Men's Vintage Badge Tee Sage,Google Men's Vintage Badge Tee Green\"}]}, {\"c\": [{\"v\": \"GGOENEBB079399\"}, {\"v\": 2}, {\"v\": \"Nest\\u00ae Protect Smoke + CO Black Wired Alarm-USA,Nest\\u5e90 Protect Smoke + CO Black Wired Alarm-USA\"}]}, {\"c\": [{\"v\": \"GGOEAFKQ020499\"}, {\"v\": 2}, {\"v\": \"8 pc Android Sticker Sheet,8pc Android Sticker Sheet\"}]}], \"cols\": [{\"type\": \"string\", \"id\": \"productSKU\", \"label\": \"productSKU\"}, {\"type\": \"number\", \"id\": \"product_count\", \"label\": \"product_count\"}, {\"type\": \"string\", \"id\": \"product_name\", \"label\": \"product_name\"}]},\n",
       "            {\n",
       "              pageSize: 25,\n",
       "              cssClassNames:  {\n",
       "                tableRow: 'gchart-table-row',\n",
       "                headerRow: 'gchart-table-headerrow',\n",
       "                oddTableRow: 'gchart-table-oddrow',\n",
       "                selectedTableRow: 'gchart-table-selectedrow',\n",
       "                hoverTableRow: 'gchart-table-hoverrow',\n",
       "                tableCell: 'gchart-table-cell',\n",
       "                headerCell: 'gchart-table-headercell',\n",
       "                rowNumberCell: 'gchart-table-rownumcell'\n",
       "              }\n",
       "            },\n",
       "            {source_index: 4, fields: 'productSKU,product_count,product_name'},\n",
       "            0,\n",
       "            347);\n",
       "        }\n",
       "      );\n",
       "    </script>\n",
       "  "
      ],
      "text/plain": [
       "QueryResultsTable job_IO17ceJKqqgbASxuK8oZJ_b2J71s"
      ]
     },
     "execution_count": 7,
     "metadata": {},
     "output_type": "execute_result"
    }
   ],
   "source": [
    "# Your answer goes here"
   ]
  },
  {
   "cell_type": "code",
   "execution_count": 11,
   "metadata": {},
   "outputs": [],
   "source": [
    "# SOLUTION: Uncomment and execute the cell below to get help\n",
    "#disp(hint + '06-02-products')"
   ]
  }
 ],
 "metadata": {
  "kernelspec": {
   "display_name": "Python 3",
   "language": "python",
   "name": "python3"
  },
  "language_info": {
   "codemirror_mode": {
    "name": "ipython",
    "version": 3
   },
   "file_extension": ".py",
   "mimetype": "text/x-python",
   "name": "python",
   "nbconvert_exporter": "python",
   "pygments_lexer": "ipython3",
   "version": "3.5.6"
  }
 },
 "nbformat": 4,
 "nbformat_minor": 2
}
