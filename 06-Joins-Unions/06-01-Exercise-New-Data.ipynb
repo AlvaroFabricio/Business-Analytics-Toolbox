{
 "cells": [
  {
   "cell_type": "markdown",
   "metadata": {},
   "source": [
    "# Exercise\n",
    "Let's run a few queries on our newly added tables."
   ]
  },
  {
   "cell_type": "code",
   "execution_count": 1,
   "metadata": {},
   "outputs": [],
   "source": [
    "# This cell is to enable the \"hint\" functionality. After each question there is a cell with either a hint about the correct answer or the solution. \n",
    "from IPython.display import Pretty as disp\n",
    "hint = 'https://raw.githubusercontent.com/soltaniehha/Business-Analytics-Toolbox/master/docs/hints/'  # path to hints on GitHub"
   ]
  },
  {
   "cell_type": "code",
   "execution_count": 2,
   "metadata": {},
   "outputs": [
    {
     "data": {
      "text/html": [
       "\n",
       "    <div class=\"bqtv\" id=\"1_156549712835\"><table><tr><th>InvoiceNo</th><th>StockCode</th><th>Description</th><th>Quantity</th><th>InvoiceDate</th><th>UnitPrice</th><th>CustomerID</th><th>Country</th></tr><tr><td>536414</td><td>22139</td><td>&nbsp;</td><td>56</td><td>2010-12-01 11:52:00</td><td>0.0</td><td>&nbsp;</td><td>United Kingdom</td></tr><tr><td>536545</td><td>21134</td><td>&nbsp;</td><td>1</td><td>2010-12-01 14:32:00</td><td>0.0</td><td>&nbsp;</td><td>United Kingdom</td></tr><tr><td>536546</td><td>22145</td><td>&nbsp;</td><td>1</td><td>2010-12-01 14:33:00</td><td>0.0</td><td>&nbsp;</td><td>United Kingdom</td></tr><tr><td>536547</td><td>37509</td><td>&nbsp;</td><td>1</td><td>2010-12-01 14:33:00</td><td>0.0</td><td>&nbsp;</td><td>United Kingdom</td></tr><tr><td>536549</td><td>85226A</td><td>&nbsp;</td><td>1</td><td>2010-12-01 14:34:00</td><td>0.0</td><td>&nbsp;</td><td>United Kingdom</td></tr></table></div>\n",
       "    <br />(rows: 5, time: 0.1s, cached, job: job_RMXMT0O_4ze6kjTvlmsFcbTGU-F3)<br />\n",
       "    <script src=\"/static/components/requirejs/require.js\"></script>\n",
       "    <script>\n",
       "      require.config({\n",
       "        paths: {\n",
       "          base: '/static/base',\n",
       "          d3: '//cdnjs.cloudflare.com/ajax/libs/d3/3.4.13/d3',\n",
       "          plotly: 'https://cdn.plot.ly/plotly-1.5.1.min.js?noext',\n",
       "          jquery: '//ajax.googleapis.com/ajax/libs/jquery/2.0.0/jquery.min'\n",
       "        },\n",
       "        map: {\n",
       "          '*': {\n",
       "            datalab: 'nbextensions/gcpdatalab'\n",
       "          }\n",
       "        },\n",
       "        shim: {\n",
       "          plotly: {\n",
       "            deps: ['d3', 'jquery'],\n",
       "            exports: 'plotly'\n",
       "          }\n",
       "        }\n",
       "      });\n",
       "\n",
       "      require(['datalab/charting', 'datalab/element!1_156549712835', 'base/js/events',\n",
       "          'datalab/style!/nbextensions/gcpdatalab/charting.css'],\n",
       "        function(charts, dom, events) {\n",
       "          charts.render('gcharts', dom, events, 'table', [], {\"cols\": [{\"id\": \"InvoiceNo\", \"label\": \"InvoiceNo\", \"type\": \"string\"}, {\"id\": \"StockCode\", \"label\": \"StockCode\", \"type\": \"string\"}, {\"id\": \"Description\", \"label\": \"Description\", \"type\": \"string\"}, {\"id\": \"Quantity\", \"label\": \"Quantity\", \"type\": \"number\"}, {\"id\": \"InvoiceDate\", \"label\": \"InvoiceDate\", \"type\": \"timestamp\"}, {\"id\": \"UnitPrice\", \"label\": \"UnitPrice\", \"type\": \"number\"}, {\"id\": \"CustomerID\", \"label\": \"CustomerID\", \"type\": \"number\"}, {\"id\": \"Country\", \"label\": \"Country\", \"type\": \"string\"}], \"rows\": [{\"c\": [{\"v\": \"536414\"}, {\"v\": \"22139\"}, {\"v\": null}, {\"v\": 56}, {\"v\": \"2010-12-01T11:52:00\"}, {\"v\": 0.0}, {\"v\": null}, {\"v\": \"United Kingdom\"}]}, {\"c\": [{\"v\": \"536545\"}, {\"v\": \"21134\"}, {\"v\": null}, {\"v\": 1}, {\"v\": \"2010-12-01T14:32:00\"}, {\"v\": 0.0}, {\"v\": null}, {\"v\": \"United Kingdom\"}]}, {\"c\": [{\"v\": \"536546\"}, {\"v\": \"22145\"}, {\"v\": null}, {\"v\": 1}, {\"v\": \"2010-12-01T14:33:00\"}, {\"v\": 0.0}, {\"v\": null}, {\"v\": \"United Kingdom\"}]}, {\"c\": [{\"v\": \"536547\"}, {\"v\": \"37509\"}, {\"v\": null}, {\"v\": 1}, {\"v\": \"2010-12-01T14:33:00\"}, {\"v\": 0.0}, {\"v\": null}, {\"v\": \"United Kingdom\"}]}, {\"c\": [{\"v\": \"536549\"}, {\"v\": \"85226A\"}, {\"v\": null}, {\"v\": 1}, {\"v\": \"2010-12-01T14:34:00\"}, {\"v\": 0.0}, {\"v\": null}, {\"v\": \"United Kingdom\"}]}]},\n",
       "            {\n",
       "              pageSize: 25,\n",
       "              cssClassNames:  {\n",
       "                tableRow: 'gchart-table-row',\n",
       "                headerRow: 'gchart-table-headerrow',\n",
       "                oddTableRow: 'gchart-table-oddrow',\n",
       "                selectedTableRow: 'gchart-table-selectedrow',\n",
       "                hoverTableRow: 'gchart-table-hoverrow',\n",
       "                tableCell: 'gchart-table-cell',\n",
       "                headerCell: 'gchart-table-headercell',\n",
       "                rowNumberCell: 'gchart-table-rownumcell'\n",
       "              }\n",
       "            },\n",
       "            {source_index: 0, fields: 'InvoiceNo,StockCode,Description,Quantity,InvoiceDate,UnitPrice,CustomerID,Country'},\n",
       "            0,\n",
       "            5);\n",
       "        }\n",
       "      );\n",
       "    </script>\n",
       "  "
      ],
      "text/plain": [
       "QueryResultsTable job_RMXMT0O_4ze6kjTvlmsFcbTGU-F3"
      ]
     },
     "execution_count": 2,
     "metadata": {},
     "output_type": "execute_result"
    }
   ],
   "source": [
    "%%bq query\n",
    "SELECT * FROM `examples.online_retail` LIMIT 5"
   ]
  },
  {
   "cell_type": "markdown",
   "metadata": {},
   "source": [
    "1. Filter all the rows that have a `UnitPrice` of 0 or less\n",
    "2. Create a new column called `SalesDollar` that containst `Quantity * UnitPrice`\n",
    "3. Store the content of this table into a new table within the `examples` dataset and call it `retail`"
   ]
  },
  {
   "cell_type": "code",
   "execution_count": 3,
   "metadata": {},
   "outputs": [
    {
     "data": {
      "text/html": [
       "\n",
       "    <div class=\"bqtv\" id=\"2_156549713547\"><table><tr><th>InvoiceNo</th><th>StockCode</th><th>Description</th><th>Quantity</th><th>InvoiceDate</th><th>UnitPrice</th><th>CustomerID</th><th>Country</th><th>SalesDollar</th></tr><tr><td>A563185</td><td>B</td><td>Adjust bad debt</td><td>1</td><td>2011-08-12 14:50:00</td><td>11062.06</td><td>&nbsp;</td><td>United Kingdom</td><td>11062.06</td></tr><tr><td>C576244</td><td>D</td><td>Discount</td><td>-1</td><td>2011-11-14 13:40:00</td><td>6.0</td><td>18167</td><td>United Kingdom</td><td>-6.0</td></tr><tr><td>C557927</td><td>D</td><td>Discount</td><td>-1</td><td>2011-06-23 14:56:00</td><td>10.0</td><td>16029</td><td>United Kingdom</td><td>-10.0</td></tr><tr><td>C564812</td><td>D</td><td>Discount</td><td>-1</td><td>2011-08-30 11:45:00</td><td>13.0</td><td>14527</td><td>United Kingdom</td><td>-13.0</td></tr><tr><td>C565313</td><td>D</td><td>Discount</td><td>-1</td><td>2011-09-02 12:41:00</td><td>14.5</td><td>14527</td><td>United Kingdom</td><td>-14.5</td></tr><tr><td>C566613</td><td>D</td><td>Discount</td><td>-1</td><td>2011-09-13 17:17:00</td><td>15.0</td><td>16029</td><td>United Kingdom</td><td>-15.0</td></tr><tr><td>C555597</td><td>D</td><td>Discount</td><td>-1</td><td>2011-06-06 10:19:00</td><td>42.0</td><td>15796</td><td>United Kingdom</td><td>-42.0</td></tr><tr><td>C562796</td><td>D</td><td>Discount</td><td>-1</td><td>2011-08-09 14:27:00</td><td>64.0</td><td>13694</td><td>United Kingdom</td><td>-64.0</td></tr><tr><td>C551190</td><td>D</td><td>Discount</td><td>-1</td><td>2011-04-27 10:22:00</td><td>120.0</td><td>17940</td><td>United Kingdom</td><td>-120.0</td></tr><tr><td>C538897</td><td>D</td><td>Discount</td><td>-1</td><td>2010-12-15 09:14:00</td><td>42.5</td><td>16422</td><td>United Kingdom</td><td>-42.5</td></tr><tr><td>C536379</td><td>D</td><td>Discount</td><td>-1</td><td>2010-12-01 09:41:00</td><td>27.5</td><td>14527</td><td>United Kingdom</td><td>-27.5</td></tr><tr><td>C537597</td><td>D</td><td>Discount</td><td>-1</td><td>2010-12-07 12:34:00</td><td>281.0</td><td>15498</td><td>United Kingdom</td><td>-281.0</td></tr><tr><td>C566475</td><td>D</td><td>Discount</td><td>-1</td><td>2011-09-12 18:26:00</td><td>20.75</td><td>14527</td><td>United Kingdom</td><td>-20.75</td></tr><tr><td>C564909</td><td>D</td><td>Discount</td><td>-1</td><td>2011-08-31 12:29:00</td><td>33.75</td><td>15498</td><td>United Kingdom</td><td>-33.75</td></tr><tr><td>C576218</td><td>D</td><td>Discount</td><td>-1</td><td>2011-11-14 12:57:00</td><td>183.0</td><td>13694</td><td>United Kingdom</td><td>-183.0</td></tr><tr><td>C538897</td><td>D</td><td>Discount</td><td>-1</td><td>2010-12-15 09:14:00</td><td>5.76</td><td>16422</td><td>United Kingdom</td><td>-5.76</td></tr><tr><td>C564487</td><td>D</td><td>Discount</td><td>-1</td><td>2011-08-25 14:07:00</td><td>11.52</td><td>15838</td><td>United Kingdom</td><td>-11.52</td></tr><tr><td>C548462</td><td>D</td><td>Discount</td><td>-1</td><td>2011-03-31 12:11:00</td><td>14.52</td><td>14527</td><td>United Kingdom</td><td>-14.52</td></tr><tr><td>C556265</td><td>D</td><td>Discount</td><td>-1</td><td>2011-06-09 19:24:00</td><td>28.04</td><td>16684</td><td>United Kingdom</td><td>-28.04</td></tr><tr><td>C537164</td><td>D</td><td>Discount</td><td>-1</td><td>2010-12-05 13:21:00</td><td>29.29</td><td>14527</td><td>United Kingdom</td><td>-29.29</td></tr><tr><td>C543758</td><td>D</td><td>Discount</td><td>-1</td><td>2011-02-11 15:07:00</td><td>65.91</td><td>15299</td><td>United Kingdom</td><td>-65.91</td></tr><tr><td>C566078</td><td>D</td><td>Discount</td><td>-1</td><td>2011-09-09 09:38:00</td><td>45.33</td><td>13137</td><td>United Kingdom</td><td>-45.33</td></tr><tr><td>C578239</td><td>D</td><td>Discount</td><td>-1</td><td>2011-11-23 12:29:00</td><td>26.33</td><td>14912</td><td>Italy</td><td>-26.33</td></tr><tr><td>C564812</td><td>D</td><td>Discount</td><td>-1</td><td>2011-08-30 11:45:00</td><td>10.06</td><td>14527</td><td>United Kingdom</td><td>-10.06</td></tr><tr><td>C567896</td><td>D</td><td>Discount</td><td>-1</td><td>2011-09-22 15:59:00</td><td>18.62</td><td>14527</td><td>United Kingdom</td><td>-18.62</td></tr></table></div>\n",
       "    <br />(rows: 539392, time: 5.7s,    48MB processed, job: job_-qUMas1O2E0BWEMPrVNjmk6v-Z0r)<br />\n",
       "    <script src=\"/static/components/requirejs/require.js\"></script>\n",
       "    <script>\n",
       "      require.config({\n",
       "        paths: {\n",
       "          base: '/static/base',\n",
       "          d3: '//cdnjs.cloudflare.com/ajax/libs/d3/3.4.13/d3',\n",
       "          plotly: 'https://cdn.plot.ly/plotly-1.5.1.min.js?noext',\n",
       "          jquery: '//ajax.googleapis.com/ajax/libs/jquery/2.0.0/jquery.min'\n",
       "        },\n",
       "        map: {\n",
       "          '*': {\n",
       "            datalab: 'nbextensions/gcpdatalab'\n",
       "          }\n",
       "        },\n",
       "        shim: {\n",
       "          plotly: {\n",
       "            deps: ['d3', 'jquery'],\n",
       "            exports: 'plotly'\n",
       "          }\n",
       "        }\n",
       "      });\n",
       "\n",
       "      require(['datalab/charting', 'datalab/element!2_156549713547', 'base/js/events',\n",
       "          'datalab/style!/nbextensions/gcpdatalab/charting.css'],\n",
       "        function(charts, dom, events) {\n",
       "          charts.render('gcharts', dom, events, 'paged_table', [], {\"cols\": [{\"id\": \"InvoiceNo\", \"label\": \"InvoiceNo\", \"type\": \"string\"}, {\"id\": \"StockCode\", \"label\": \"StockCode\", \"type\": \"string\"}, {\"id\": \"Description\", \"label\": \"Description\", \"type\": \"string\"}, {\"id\": \"Quantity\", \"label\": \"Quantity\", \"type\": \"number\"}, {\"id\": \"InvoiceDate\", \"label\": \"InvoiceDate\", \"type\": \"timestamp\"}, {\"id\": \"UnitPrice\", \"label\": \"UnitPrice\", \"type\": \"number\"}, {\"id\": \"CustomerID\", \"label\": \"CustomerID\", \"type\": \"number\"}, {\"id\": \"Country\", \"label\": \"Country\", \"type\": \"string\"}, {\"id\": \"SalesDollar\", \"label\": \"SalesDollar\", \"type\": \"number\"}], \"rows\": [{\"c\": [{\"v\": \"A563185\"}, {\"v\": \"B\"}, {\"v\": \"Adjust bad debt\"}, {\"v\": 1}, {\"v\": \"2011-08-12T14:50:00\"}, {\"v\": 11062.06}, {\"v\": null}, {\"v\": \"United Kingdom\"}, {\"v\": 11062.06}]}, {\"c\": [{\"v\": \"C576244\"}, {\"v\": \"D\"}, {\"v\": \"Discount\"}, {\"v\": -1}, {\"v\": \"2011-11-14T13:40:00\"}, {\"v\": 6.0}, {\"v\": 18167}, {\"v\": \"United Kingdom\"}, {\"v\": -6.0}]}, {\"c\": [{\"v\": \"C557927\"}, {\"v\": \"D\"}, {\"v\": \"Discount\"}, {\"v\": -1}, {\"v\": \"2011-06-23T14:56:00\"}, {\"v\": 10.0}, {\"v\": 16029}, {\"v\": \"United Kingdom\"}, {\"v\": -10.0}]}, {\"c\": [{\"v\": \"C564812\"}, {\"v\": \"D\"}, {\"v\": \"Discount\"}, {\"v\": -1}, {\"v\": \"2011-08-30T11:45:00\"}, {\"v\": 13.0}, {\"v\": 14527}, {\"v\": \"United Kingdom\"}, {\"v\": -13.0}]}, {\"c\": [{\"v\": \"C565313\"}, {\"v\": \"D\"}, {\"v\": \"Discount\"}, {\"v\": -1}, {\"v\": \"2011-09-02T12:41:00\"}, {\"v\": 14.5}, {\"v\": 14527}, {\"v\": \"United Kingdom\"}, {\"v\": -14.5}]}, {\"c\": [{\"v\": \"C566613\"}, {\"v\": \"D\"}, {\"v\": \"Discount\"}, {\"v\": -1}, {\"v\": \"2011-09-13T17:17:00\"}, {\"v\": 15.0}, {\"v\": 16029}, {\"v\": \"United Kingdom\"}, {\"v\": -15.0}]}, {\"c\": [{\"v\": \"C555597\"}, {\"v\": \"D\"}, {\"v\": \"Discount\"}, {\"v\": -1}, {\"v\": \"2011-06-06T10:19:00\"}, {\"v\": 42.0}, {\"v\": 15796}, {\"v\": \"United Kingdom\"}, {\"v\": -42.0}]}, {\"c\": [{\"v\": \"C562796\"}, {\"v\": \"D\"}, {\"v\": \"Discount\"}, {\"v\": -1}, {\"v\": \"2011-08-09T14:27:00\"}, {\"v\": 64.0}, {\"v\": 13694}, {\"v\": \"United Kingdom\"}, {\"v\": -64.0}]}, {\"c\": [{\"v\": \"C551190\"}, {\"v\": \"D\"}, {\"v\": \"Discount\"}, {\"v\": -1}, {\"v\": \"2011-04-27T10:22:00\"}, {\"v\": 120.0}, {\"v\": 17940}, {\"v\": \"United Kingdom\"}, {\"v\": -120.0}]}, {\"c\": [{\"v\": \"C538897\"}, {\"v\": \"D\"}, {\"v\": \"Discount\"}, {\"v\": -1}, {\"v\": \"2010-12-15T09:14:00\"}, {\"v\": 42.5}, {\"v\": 16422}, {\"v\": \"United Kingdom\"}, {\"v\": -42.5}]}, {\"c\": [{\"v\": \"C536379\"}, {\"v\": \"D\"}, {\"v\": \"Discount\"}, {\"v\": -1}, {\"v\": \"2010-12-01T09:41:00\"}, {\"v\": 27.5}, {\"v\": 14527}, {\"v\": \"United Kingdom\"}, {\"v\": -27.5}]}, {\"c\": [{\"v\": \"C537597\"}, {\"v\": \"D\"}, {\"v\": \"Discount\"}, {\"v\": -1}, {\"v\": \"2010-12-07T12:34:00\"}, {\"v\": 281.0}, {\"v\": 15498}, {\"v\": \"United Kingdom\"}, {\"v\": -281.0}]}, {\"c\": [{\"v\": \"C566475\"}, {\"v\": \"D\"}, {\"v\": \"Discount\"}, {\"v\": -1}, {\"v\": \"2011-09-12T18:26:00\"}, {\"v\": 20.75}, {\"v\": 14527}, {\"v\": \"United Kingdom\"}, {\"v\": -20.75}]}, {\"c\": [{\"v\": \"C564909\"}, {\"v\": \"D\"}, {\"v\": \"Discount\"}, {\"v\": -1}, {\"v\": \"2011-08-31T12:29:00\"}, {\"v\": 33.75}, {\"v\": 15498}, {\"v\": \"United Kingdom\"}, {\"v\": -33.75}]}, {\"c\": [{\"v\": \"C576218\"}, {\"v\": \"D\"}, {\"v\": \"Discount\"}, {\"v\": -1}, {\"v\": \"2011-11-14T12:57:00\"}, {\"v\": 183.0}, {\"v\": 13694}, {\"v\": \"United Kingdom\"}, {\"v\": -183.0}]}, {\"c\": [{\"v\": \"C538897\"}, {\"v\": \"D\"}, {\"v\": \"Discount\"}, {\"v\": -1}, {\"v\": \"2010-12-15T09:14:00\"}, {\"v\": 5.76}, {\"v\": 16422}, {\"v\": \"United Kingdom\"}, {\"v\": -5.76}]}, {\"c\": [{\"v\": \"C564487\"}, {\"v\": \"D\"}, {\"v\": \"Discount\"}, {\"v\": -1}, {\"v\": \"2011-08-25T14:07:00\"}, {\"v\": 11.52}, {\"v\": 15838}, {\"v\": \"United Kingdom\"}, {\"v\": -11.52}]}, {\"c\": [{\"v\": \"C548462\"}, {\"v\": \"D\"}, {\"v\": \"Discount\"}, {\"v\": -1}, {\"v\": \"2011-03-31T12:11:00\"}, {\"v\": 14.52}, {\"v\": 14527}, {\"v\": \"United Kingdom\"}, {\"v\": -14.52}]}, {\"c\": [{\"v\": \"C556265\"}, {\"v\": \"D\"}, {\"v\": \"Discount\"}, {\"v\": -1}, {\"v\": \"2011-06-09T19:24:00\"}, {\"v\": 28.04}, {\"v\": 16684}, {\"v\": \"United Kingdom\"}, {\"v\": -28.04}]}, {\"c\": [{\"v\": \"C537164\"}, {\"v\": \"D\"}, {\"v\": \"Discount\"}, {\"v\": -1}, {\"v\": \"2010-12-05T13:21:00\"}, {\"v\": 29.29}, {\"v\": 14527}, {\"v\": \"United Kingdom\"}, {\"v\": -29.29}]}, {\"c\": [{\"v\": \"C543758\"}, {\"v\": \"D\"}, {\"v\": \"Discount\"}, {\"v\": -1}, {\"v\": \"2011-02-11T15:07:00\"}, {\"v\": 65.91}, {\"v\": 15299}, {\"v\": \"United Kingdom\"}, {\"v\": -65.91}]}, {\"c\": [{\"v\": \"C566078\"}, {\"v\": \"D\"}, {\"v\": \"Discount\"}, {\"v\": -1}, {\"v\": \"2011-09-09T09:38:00\"}, {\"v\": 45.33}, {\"v\": 13137}, {\"v\": \"United Kingdom\"}, {\"v\": -45.33}]}, {\"c\": [{\"v\": \"C578239\"}, {\"v\": \"D\"}, {\"v\": \"Discount\"}, {\"v\": -1}, {\"v\": \"2011-11-23T12:29:00\"}, {\"v\": 26.33}, {\"v\": 14912}, {\"v\": \"Italy\"}, {\"v\": -26.33}]}, {\"c\": [{\"v\": \"C564812\"}, {\"v\": \"D\"}, {\"v\": \"Discount\"}, {\"v\": -1}, {\"v\": \"2011-08-30T11:45:00\"}, {\"v\": 10.06}, {\"v\": 14527}, {\"v\": \"United Kingdom\"}, {\"v\": -10.06}]}, {\"c\": [{\"v\": \"C567896\"}, {\"v\": \"D\"}, {\"v\": \"Discount\"}, {\"v\": -1}, {\"v\": \"2011-09-22T15:59:00\"}, {\"v\": 18.62}, {\"v\": 14527}, {\"v\": \"United Kingdom\"}, {\"v\": -18.62}]}]},\n",
       "            {\n",
       "              pageSize: 25,\n",
       "              cssClassNames:  {\n",
       "                tableRow: 'gchart-table-row',\n",
       "                headerRow: 'gchart-table-headerrow',\n",
       "                oddTableRow: 'gchart-table-oddrow',\n",
       "                selectedTableRow: 'gchart-table-selectedrow',\n",
       "                hoverTableRow: 'gchart-table-hoverrow',\n",
       "                tableCell: 'gchart-table-cell',\n",
       "                headerCell: 'gchart-table-headercell',\n",
       "                rowNumberCell: 'gchart-table-rownumcell'\n",
       "              }\n",
       "            },\n",
       "            {source_index: 1, fields: 'InvoiceNo,StockCode,Description,Quantity,InvoiceDate,UnitPrice,CustomerID,Country,SalesDollar'},\n",
       "            0,\n",
       "            539392);\n",
       "        }\n",
       "      );\n",
       "    </script>\n",
       "  "
      ],
      "text/plain": [
       "QueryResultsTable job_-qUMas1O2E0BWEMPrVNjmk6v-Z0r"
      ]
     },
     "execution_count": 3,
     "metadata": {},
     "output_type": "execute_result"
    }
   ],
   "source": [
    "# Your answer goes here"
   ]
  },
  {
   "cell_type": "code",
   "execution_count": 4,
   "metadata": {},
   "outputs": [],
   "source": [
    "# SOLUTION: Uncomment and execute the cell below to get help\n",
    "#disp(hint + '06-01-create-table')"
   ]
  },
  {
   "cell_type": "markdown",
   "metadata": {},
   "source": [
    "Using this newly created table find out how many rows/transactions are in the data:"
   ]
  },
  {
   "cell_type": "code",
   "execution_count": 5,
   "metadata": {},
   "outputs": [
    {
     "data": {
      "text/html": [
       "\n",
       "    <div class=\"bqtv\" id=\"3_156549713765\"><table><tr><th>f0_</th></tr><tr><td>539392</td></tr></table></div>\n",
       "    <br />(rows: 1, time: 0.4s,     0B processed, job: job_RWlc_6BwScVTTnw4weVeKYrUBJUM)<br />\n",
       "    <script src=\"/static/components/requirejs/require.js\"></script>\n",
       "    <script>\n",
       "      require.config({\n",
       "        paths: {\n",
       "          base: '/static/base',\n",
       "          d3: '//cdnjs.cloudflare.com/ajax/libs/d3/3.4.13/d3',\n",
       "          plotly: 'https://cdn.plot.ly/plotly-1.5.1.min.js?noext',\n",
       "          jquery: '//ajax.googleapis.com/ajax/libs/jquery/2.0.0/jquery.min'\n",
       "        },\n",
       "        map: {\n",
       "          '*': {\n",
       "            datalab: 'nbextensions/gcpdatalab'\n",
       "          }\n",
       "        },\n",
       "        shim: {\n",
       "          plotly: {\n",
       "            deps: ['d3', 'jquery'],\n",
       "            exports: 'plotly'\n",
       "          }\n",
       "        }\n",
       "      });\n",
       "\n",
       "      require(['datalab/charting', 'datalab/element!3_156549713765', 'base/js/events',\n",
       "          'datalab/style!/nbextensions/gcpdatalab/charting.css'],\n",
       "        function(charts, dom, events) {\n",
       "          charts.render('gcharts', dom, events, 'table', [], {\"cols\": [{\"id\": \"f0_\", \"label\": \"f0_\", \"type\": \"number\"}], \"rows\": [{\"c\": [{\"v\": 539392}]}]},\n",
       "            {\n",
       "              pageSize: 25,\n",
       "              cssClassNames:  {\n",
       "                tableRow: 'gchart-table-row',\n",
       "                headerRow: 'gchart-table-headerrow',\n",
       "                oddTableRow: 'gchart-table-oddrow',\n",
       "                selectedTableRow: 'gchart-table-selectedrow',\n",
       "                hoverTableRow: 'gchart-table-hoverrow',\n",
       "                tableCell: 'gchart-table-cell',\n",
       "                headerCell: 'gchart-table-headercell',\n",
       "                rowNumberCell: 'gchart-table-rownumcell'\n",
       "              }\n",
       "            },\n",
       "            {source_index: 2, fields: 'f0_'},\n",
       "            0,\n",
       "            1);\n",
       "        }\n",
       "      );\n",
       "    </script>\n",
       "  "
      ],
      "text/plain": [
       "QueryResultsTable job_RWlc_6BwScVTTnw4weVeKYrUBJUM"
      ]
     },
     "execution_count": 5,
     "metadata": {},
     "output_type": "execute_result"
    }
   ],
   "source": [
    "# Your answer goes here"
   ]
  },
  {
   "cell_type": "code",
   "execution_count": 6,
   "metadata": {},
   "outputs": [],
   "source": [
    "# SOLUTION: Uncomment and execute the cell below to get help\n",
    "#disp(hint + '06-01-count')"
   ]
  },
  {
   "cell_type": "markdown",
   "metadata": {},
   "source": [
    "What is the date range of this dataset? Look up the min and max for the date:"
   ]
  },
  {
   "cell_type": "code",
   "execution_count": 7,
   "metadata": {},
   "outputs": [
    {
     "data": {
      "text/html": [
       "\n",
       "    <div class=\"bqtv\" id=\"4_156549714012\"><table><tr><th>f0_</th><th>f1_</th></tr><tr><td>2010-12-01 08:26:00</td><td>2011-12-09 12:50:00</td></tr></table></div>\n",
       "    <br />(rows: 1, time: 0.4s,     4MB processed, job: job_r9JJwH0I1sP7I-VS9-BUjLAKYwTp)<br />\n",
       "    <script src=\"/static/components/requirejs/require.js\"></script>\n",
       "    <script>\n",
       "      require.config({\n",
       "        paths: {\n",
       "          base: '/static/base',\n",
       "          d3: '//cdnjs.cloudflare.com/ajax/libs/d3/3.4.13/d3',\n",
       "          plotly: 'https://cdn.plot.ly/plotly-1.5.1.min.js?noext',\n",
       "          jquery: '//ajax.googleapis.com/ajax/libs/jquery/2.0.0/jquery.min'\n",
       "        },\n",
       "        map: {\n",
       "          '*': {\n",
       "            datalab: 'nbextensions/gcpdatalab'\n",
       "          }\n",
       "        },\n",
       "        shim: {\n",
       "          plotly: {\n",
       "            deps: ['d3', 'jquery'],\n",
       "            exports: 'plotly'\n",
       "          }\n",
       "        }\n",
       "      });\n",
       "\n",
       "      require(['datalab/charting', 'datalab/element!4_156549714012', 'base/js/events',\n",
       "          'datalab/style!/nbextensions/gcpdatalab/charting.css'],\n",
       "        function(charts, dom, events) {\n",
       "          charts.render('gcharts', dom, events, 'table', [], {\"cols\": [{\"id\": \"f0_\", \"label\": \"f0_\", \"type\": \"timestamp\"}, {\"id\": \"f1_\", \"label\": \"f1_\", \"type\": \"timestamp\"}], \"rows\": [{\"c\": [{\"v\": \"2010-12-01T08:26:00\"}, {\"v\": \"2011-12-09T12:50:00\"}]}]},\n",
       "            {\n",
       "              pageSize: 25,\n",
       "              cssClassNames:  {\n",
       "                tableRow: 'gchart-table-row',\n",
       "                headerRow: 'gchart-table-headerrow',\n",
       "                oddTableRow: 'gchart-table-oddrow',\n",
       "                selectedTableRow: 'gchart-table-selectedrow',\n",
       "                hoverTableRow: 'gchart-table-hoverrow',\n",
       "                tableCell: 'gchart-table-cell',\n",
       "                headerCell: 'gchart-table-headercell',\n",
       "                rowNumberCell: 'gchart-table-rownumcell'\n",
       "              }\n",
       "            },\n",
       "            {source_index: 3, fields: 'f0_,f1_'},\n",
       "            0,\n",
       "            1);\n",
       "        }\n",
       "      );\n",
       "    </script>\n",
       "  "
      ],
      "text/plain": [
       "QueryResultsTable job_r9JJwH0I1sP7I-VS9-BUjLAKYwTp"
      ]
     },
     "execution_count": 7,
     "metadata": {},
     "output_type": "execute_result"
    }
   ],
   "source": [
    "# Your answer goes here"
   ]
  },
  {
   "cell_type": "code",
   "execution_count": 8,
   "metadata": {},
   "outputs": [],
   "source": [
    "# SOLUTION: Uncomment and execute the cell below to get help\n",
    "#disp(hint + '06-01-date-range')"
   ]
  },
  {
   "cell_type": "markdown",
   "metadata": {},
   "source": [
    "Let's dive in deeper and see if all of these days have transactions in them. This can be done by a GROUP BY on the date, but have in mind that we are working with timestamps, so let's first convert the timestamps to dates and then check how many transactions are in each:"
   ]
  },
  {
   "cell_type": "code",
   "execution_count": 9,
   "metadata": {},
   "outputs": [
    {
     "data": {
      "text/html": [
       "\n",
       "    <div class=\"bqtv\" id=\"5_156549714235\"><table><tr><th>day</th><th>NumberOfTransactions</th></tr><tr><td>2010-12-01</td><td>3098</td></tr><tr><td>2010-12-02</td><td>2107</td></tr><tr><td>2010-12-03</td><td>2169</td></tr><tr><td>2010-12-05</td><td>2724</td></tr><tr><td>2010-12-06</td><td>3865</td></tr><tr><td>2010-12-07</td><td>2896</td></tr><tr><td>2010-12-08</td><td>2638</td></tr><tr><td>2010-12-09</td><td>2848</td></tr><tr><td>2010-12-10</td><td>2751</td></tr><tr><td>2010-12-12</td><td>1451</td></tr><tr><td>2010-12-13</td><td>2283</td></tr><tr><td>2010-12-14</td><td>2081</td></tr><tr><td>2010-12-15</td><td>1348</td></tr><tr><td>2010-12-16</td><td>1789</td></tr><tr><td>2010-12-17</td><td>3114</td></tr><tr><td>2010-12-19</td><td>522</td></tr><tr><td>2010-12-20</td><td>1755</td></tr><tr><td>2010-12-21</td><td>1580</td></tr><tr><td>2010-12-22</td><td>227</td></tr><tr><td>2010-12-23</td><td>962</td></tr><tr><td>2011-01-04</td><td>1170</td></tr><tr><td>2011-01-05</td><td>1739</td></tr><tr><td>2011-01-06</td><td>1826</td></tr><tr><td>2011-01-07</td><td>1794</td></tr><tr><td>2011-01-09</td><td>1117</td></tr></table></div>\n",
       "    <br />(rows: 305, time: 0.7s,     4MB processed, job: job_0FFgs4VXKJ65UVruFvQGVkgQhg8v)<br />\n",
       "    <script src=\"/static/components/requirejs/require.js\"></script>\n",
       "    <script>\n",
       "      require.config({\n",
       "        paths: {\n",
       "          base: '/static/base',\n",
       "          d3: '//cdnjs.cloudflare.com/ajax/libs/d3/3.4.13/d3',\n",
       "          plotly: 'https://cdn.plot.ly/plotly-1.5.1.min.js?noext',\n",
       "          jquery: '//ajax.googleapis.com/ajax/libs/jquery/2.0.0/jquery.min'\n",
       "        },\n",
       "        map: {\n",
       "          '*': {\n",
       "            datalab: 'nbextensions/gcpdatalab'\n",
       "          }\n",
       "        },\n",
       "        shim: {\n",
       "          plotly: {\n",
       "            deps: ['d3', 'jquery'],\n",
       "            exports: 'plotly'\n",
       "          }\n",
       "        }\n",
       "      });\n",
       "\n",
       "      require(['datalab/charting', 'datalab/element!5_156549714235', 'base/js/events',\n",
       "          'datalab/style!/nbextensions/gcpdatalab/charting.css'],\n",
       "        function(charts, dom, events) {\n",
       "          charts.render('gcharts', dom, events, 'paged_table', [], {\"cols\": [{\"id\": \"day\", \"label\": \"day\", \"type\": \"date\"}, {\"id\": \"NumberOfTransactions\", \"label\": \"NumberOfTransactions\", \"type\": \"number\"}], \"rows\": [{\"c\": [{\"v\": \"2010-12-01\"}, {\"v\": 3098}]}, {\"c\": [{\"v\": \"2010-12-02\"}, {\"v\": 2107}]}, {\"c\": [{\"v\": \"2010-12-03\"}, {\"v\": 2169}]}, {\"c\": [{\"v\": \"2010-12-05\"}, {\"v\": 2724}]}, {\"c\": [{\"v\": \"2010-12-06\"}, {\"v\": 3865}]}, {\"c\": [{\"v\": \"2010-12-07\"}, {\"v\": 2896}]}, {\"c\": [{\"v\": \"2010-12-08\"}, {\"v\": 2638}]}, {\"c\": [{\"v\": \"2010-12-09\"}, {\"v\": 2848}]}, {\"c\": [{\"v\": \"2010-12-10\"}, {\"v\": 2751}]}, {\"c\": [{\"v\": \"2010-12-12\"}, {\"v\": 1451}]}, {\"c\": [{\"v\": \"2010-12-13\"}, {\"v\": 2283}]}, {\"c\": [{\"v\": \"2010-12-14\"}, {\"v\": 2081}]}, {\"c\": [{\"v\": \"2010-12-15\"}, {\"v\": 1348}]}, {\"c\": [{\"v\": \"2010-12-16\"}, {\"v\": 1789}]}, {\"c\": [{\"v\": \"2010-12-17\"}, {\"v\": 3114}]}, {\"c\": [{\"v\": \"2010-12-19\"}, {\"v\": 522}]}, {\"c\": [{\"v\": \"2010-12-20\"}, {\"v\": 1755}]}, {\"c\": [{\"v\": \"2010-12-21\"}, {\"v\": 1580}]}, {\"c\": [{\"v\": \"2010-12-22\"}, {\"v\": 227}]}, {\"c\": [{\"v\": \"2010-12-23\"}, {\"v\": 962}]}, {\"c\": [{\"v\": \"2011-01-04\"}, {\"v\": 1170}]}, {\"c\": [{\"v\": \"2011-01-05\"}, {\"v\": 1739}]}, {\"c\": [{\"v\": \"2011-01-06\"}, {\"v\": 1826}]}, {\"c\": [{\"v\": \"2011-01-07\"}, {\"v\": 1794}]}, {\"c\": [{\"v\": \"2011-01-09\"}, {\"v\": 1117}]}]},\n",
       "            {\n",
       "              pageSize: 25,\n",
       "              cssClassNames:  {\n",
       "                tableRow: 'gchart-table-row',\n",
       "                headerRow: 'gchart-table-headerrow',\n",
       "                oddTableRow: 'gchart-table-oddrow',\n",
       "                selectedTableRow: 'gchart-table-selectedrow',\n",
       "                hoverTableRow: 'gchart-table-hoverrow',\n",
       "                tableCell: 'gchart-table-cell',\n",
       "                headerCell: 'gchart-table-headercell',\n",
       "                rowNumberCell: 'gchart-table-rownumcell'\n",
       "              }\n",
       "            },\n",
       "            {source_index: 4, fields: 'day,NumberOfTransactions'},\n",
       "            0,\n",
       "            305);\n",
       "        }\n",
       "      );\n",
       "    </script>\n",
       "  "
      ],
      "text/plain": [
       "QueryResultsTable job_0FFgs4VXKJ65UVruFvQGVkgQhg8v"
      ]
     },
     "execution_count": 9,
     "metadata": {},
     "output_type": "execute_result"
    }
   ],
   "source": [
    "# Your answer goes here"
   ]
  },
  {
   "cell_type": "code",
   "execution_count": 10,
   "metadata": {},
   "outputs": [],
   "source": [
    "# HINT: Uncomment and execute the cell below to get help\n",
    "#disp(hint + '06-01-group-by-date-hint')"
   ]
  },
  {
   "cell_type": "code",
   "execution_count": 11,
   "metadata": {},
   "outputs": [],
   "source": [
    "# SOLUTION: Uncomment and execute the cell below to get help\n",
    "#disp(hint + '06-01-group-by-date')"
   ]
  },
  {
   "cell_type": "markdown",
   "metadata": {},
   "source": [
    "This is a bit difficult to check. Let's create a time series to visually inspect this. Use the same query as above and save this query to be used for visualization. Call it `transactions` and by using `%%chart annotation` create a time series:"
   ]
  },
  {
   "cell_type": "code",
   "execution_count": 12,
   "metadata": {},
   "outputs": [],
   "source": [
    "# Your answer goes here"
   ]
  },
  {
   "cell_type": "code",
   "execution_count": 13,
   "metadata": {},
   "outputs": [],
   "source": [
    "# SOLUTION: Uncomment and execute the cell below to get help\n",
    "#disp(hint + '06-01-group-by-date-query-name')"
   ]
  },
  {
   "cell_type": "code",
   "execution_count": 14,
   "metadata": {},
   "outputs": [
    {
     "data": {
      "text/html": [
       "\n",
       "    <div class=\"bqgc-container\">\n",
       "      \n",
       "      <div class=\"bqgc \" id=\"1_156549714269\">\n",
       "      </div>\n",
       "    </div>\n",
       "    <script src=\"/static/components/requirejs/require.js\"></script>\n",
       "    <script>\n",
       "\n",
       "      require.config({\n",
       "        paths: {\n",
       "          base: '/static/base',\n",
       "          d3: '//cdnjs.cloudflare.com/ajax/libs/d3/3.4.13/d3',\n",
       "          plotly: 'https://cdn.plot.ly/plotly-1.5.1.min.js?noext',\n",
       "          jquery: '//ajax.googleapis.com/ajax/libs/jquery/2.0.0/jquery.min'\n",
       "        },\n",
       "        map: {\n",
       "          '*': {\n",
       "            datalab: 'nbextensions/gcpdatalab'\n",
       "          }\n",
       "        },\n",
       "        shim: {\n",
       "          plotly: {\n",
       "            deps: ['d3', 'jquery'],\n",
       "            exports: 'plotly'\n",
       "          }\n",
       "        }\n",
       "      });\n",
       "\n",
       "      require(['datalab/charting',\n",
       "               'datalab/element!1_156549714269',\n",
       "               'base/js/events',\n",
       "               'datalab/style!/nbextensions/gcpdatalab/charting.css'\n",
       "              ],\n",
       "        function(charts, dom, events) {\n",
       "          charts.render(\n",
       "              'gcharts',\n",
       "              dom,\n",
       "              events,\n",
       "              'annotation',\n",
       "              [],\n",
       "              {\"cols\": [{\"id\": \"day\", \"label\": \"day\", \"type\": \"date\"}, {\"id\": \"NumberOfTransactions\", \"label\": \"NumberOfTransactions\", \"type\": \"number\"}], \"rows\": [{\"c\": [{\"v\": \"2010-12-01\"}, {\"v\": 3098}]}, {\"c\": [{\"v\": \"2010-12-02\"}, {\"v\": 2107}]}, {\"c\": [{\"v\": \"2010-12-03\"}, {\"v\": 2169}]}, {\"c\": [{\"v\": \"2010-12-05\"}, {\"v\": 2724}]}, {\"c\": [{\"v\": \"2010-12-06\"}, {\"v\": 3865}]}, {\"c\": [{\"v\": \"2010-12-07\"}, {\"v\": 2896}]}, {\"c\": [{\"v\": \"2010-12-08\"}, {\"v\": 2638}]}, {\"c\": [{\"v\": \"2010-12-09\"}, {\"v\": 2848}]}, {\"c\": [{\"v\": \"2010-12-10\"}, {\"v\": 2751}]}, {\"c\": [{\"v\": \"2010-12-12\"}, {\"v\": 1451}]}, {\"c\": [{\"v\": \"2010-12-13\"}, {\"v\": 2283}]}, {\"c\": [{\"v\": \"2010-12-14\"}, {\"v\": 2081}]}, {\"c\": [{\"v\": \"2010-12-15\"}, {\"v\": 1348}]}, {\"c\": [{\"v\": \"2010-12-16\"}, {\"v\": 1789}]}, {\"c\": [{\"v\": \"2010-12-17\"}, {\"v\": 3114}]}, {\"c\": [{\"v\": \"2010-12-19\"}, {\"v\": 522}]}, {\"c\": [{\"v\": \"2010-12-20\"}, {\"v\": 1755}]}, {\"c\": [{\"v\": \"2010-12-21\"}, {\"v\": 1580}]}, {\"c\": [{\"v\": \"2010-12-22\"}, {\"v\": 227}]}, {\"c\": [{\"v\": \"2010-12-23\"}, {\"v\": 962}]}, {\"c\": [{\"v\": \"2011-01-04\"}, {\"v\": 1170}]}, {\"c\": [{\"v\": \"2011-01-05\"}, {\"v\": 1739}]}, {\"c\": [{\"v\": \"2011-01-06\"}, {\"v\": 1826}]}, {\"c\": [{\"v\": \"2011-01-07\"}, {\"v\": 1794}]}, {\"c\": [{\"v\": \"2011-01-09\"}, {\"v\": 1117}]}, {\"c\": [{\"v\": \"2011-01-10\"}, {\"v\": 1959}]}, {\"c\": [{\"v\": \"2011-01-11\"}, {\"v\": 1443}]}, {\"c\": [{\"v\": \"2011-01-12\"}, {\"v\": 1806}]}, {\"c\": [{\"v\": \"2011-01-13\"}, {\"v\": 1443}]}, {\"c\": [{\"v\": \"2011-01-14\"}, {\"v\": 1510}]}, {\"c\": [{\"v\": \"2011-01-16\"}, {\"v\": 646}]}, {\"c\": [{\"v\": \"2011-01-17\"}, {\"v\": 2557}]}, {\"c\": [{\"v\": \"2011-01-18\"}, {\"v\": 1445}]}, {\"c\": [{\"v\": \"2011-01-19\"}, {\"v\": 1413}]}, {\"c\": [{\"v\": \"2011-01-20\"}, {\"v\": 1499}]}, {\"c\": [{\"v\": \"2011-01-21\"}, {\"v\": 1592}]}, {\"c\": [{\"v\": \"2011-01-23\"}, {\"v\": 879}]}, {\"c\": [{\"v\": \"2011-01-24\"}, {\"v\": 1483}]}, {\"c\": [{\"v\": \"2011-01-25\"}, {\"v\": 1654}]}, {\"c\": [{\"v\": \"2011-01-26\"}, {\"v\": 1287}]}, {\"c\": [{\"v\": \"2011-01-27\"}, {\"v\": 1557}]}, {\"c\": [{\"v\": \"2011-01-28\"}, {\"v\": 957}]}, {\"c\": [{\"v\": \"2011-01-30\"}, {\"v\": 722}]}, {\"c\": [{\"v\": \"2011-01-31\"}, {\"v\": 1509}]}, {\"c\": [{\"v\": \"2011-02-01\"}, {\"v\": 1565}]}, {\"c\": [{\"v\": \"2011-02-02\"}, {\"v\": 1407}]}, {\"c\": [{\"v\": \"2011-02-03\"}, {\"v\": 987}]}, {\"c\": [{\"v\": \"2011-02-04\"}, {\"v\": 1215}]}, {\"c\": [{\"v\": \"2011-02-06\"}, {\"v\": 279}]}, {\"c\": [{\"v\": \"2011-02-07\"}, {\"v\": 1259}]}, {\"c\": [{\"v\": \"2011-02-08\"}, {\"v\": 1222}]}, {\"c\": [{\"v\": \"2011-02-09\"}, {\"v\": 877}]}, {\"c\": [{\"v\": \"2011-02-10\"}, {\"v\": 783}]}, {\"c\": [{\"v\": \"2011-02-11\"}, {\"v\": 951}]}, {\"c\": [{\"v\": \"2011-02-13\"}, {\"v\": 624}]}, {\"c\": [{\"v\": \"2011-02-14\"}, {\"v\": 1107}]}, {\"c\": [{\"v\": \"2011-02-15\"}, {\"v\": 1331}]}, {\"c\": [{\"v\": \"2011-02-16\"}, {\"v\": 1191}]}, {\"c\": [{\"v\": \"2011-02-17\"}, {\"v\": 1718}]}, {\"c\": [{\"v\": \"2011-02-18\"}, {\"v\": 845}]}, {\"c\": [{\"v\": \"2011-02-20\"}, {\"v\": 864}]}, {\"c\": [{\"v\": \"2011-02-21\"}, {\"v\": 1423}]}, {\"c\": [{\"v\": \"2011-02-22\"}, {\"v\": 1592}]}, {\"c\": [{\"v\": \"2011-02-23\"}, {\"v\": 1577}]}, {\"c\": [{\"v\": \"2011-02-24\"}, {\"v\": 1292}]}, {\"c\": [{\"v\": \"2011-02-25\"}, {\"v\": 978}]}, {\"c\": [{\"v\": \"2011-02-27\"}, {\"v\": 812}]}, {\"c\": [{\"v\": \"2011-02-28\"}, {\"v\": 1681}]}, {\"c\": [{\"v\": \"2011-03-01\"}, {\"v\": 1360}]}, {\"c\": [{\"v\": \"2011-03-02\"}, {\"v\": 933}]}, {\"c\": [{\"v\": \"2011-03-03\"}, {\"v\": 1373}]}, {\"c\": [{\"v\": \"2011-03-04\"}, {\"v\": 1102}]}, {\"c\": [{\"v\": \"2011-03-06\"}, {\"v\": 844}]}, {\"c\": [{\"v\": \"2011-03-07\"}, {\"v\": 1969}]}, {\"c\": [{\"v\": \"2011-03-08\"}, {\"v\": 1590}]}, {\"c\": [{\"v\": \"2011-03-09\"}, {\"v\": 1257}]}, {\"c\": [{\"v\": \"2011-03-10\"}, {\"v\": 1125}]}, {\"c\": [{\"v\": \"2011-03-11\"}, {\"v\": 952}]}, {\"c\": [{\"v\": \"2011-03-13\"}, {\"v\": 537}]}, {\"c\": [{\"v\": \"2011-03-14\"}, {\"v\": 1110}]}, {\"c\": [{\"v\": \"2011-03-15\"}, {\"v\": 1288}]}, {\"c\": [{\"v\": \"2011-03-16\"}, {\"v\": 873}]}, {\"c\": [{\"v\": \"2011-03-17\"}, {\"v\": 2074}]}, {\"c\": [{\"v\": \"2011-03-18\"}, {\"v\": 1349}]}, {\"c\": [{\"v\": \"2011-03-20\"}, {\"v\": 1453}]}, {\"c\": [{\"v\": \"2011-03-21\"}, {\"v\": 1068}]}, {\"c\": [{\"v\": \"2011-03-22\"}, {\"v\": 2358}]}, {\"c\": [{\"v\": \"2011-03-23\"}, {\"v\": 1298}]}, {\"c\": [{\"v\": \"2011-03-24\"}, {\"v\": 1559}]}, {\"c\": [{\"v\": \"2011-03-25\"}, {\"v\": 1384}]}, {\"c\": [{\"v\": \"2011-03-27\"}, {\"v\": 737}]}, {\"c\": [{\"v\": \"2011-03-28\"}, {\"v\": 1659}]}, {\"c\": [{\"v\": \"2011-03-29\"}, {\"v\": 1958}]}, {\"c\": [{\"v\": \"2011-03-30\"}, {\"v\": 1561}]}, {\"c\": [{\"v\": \"2011-03-31\"}, {\"v\": 1731}]}, {\"c\": [{\"v\": \"2011-04-01\"}, {\"v\": 1241}]}, {\"c\": [{\"v\": \"2011-04-03\"}, {\"v\": 731}]}, {\"c\": [{\"v\": \"2011-04-04\"}, {\"v\": 1698}]}, {\"c\": [{\"v\": \"2011-04-05\"}, {\"v\": 1185}]}, {\"c\": [{\"v\": \"2011-04-06\"}, {\"v\": 1078}]}, {\"c\": [{\"v\": \"2011-04-07\"}, {\"v\": 1520}]}, {\"c\": [{\"v\": \"2011-04-08\"}, {\"v\": 1386}]}, {\"c\": [{\"v\": \"2011-04-10\"}, {\"v\": 940}]}, {\"c\": [{\"v\": \"2011-04-11\"}, {\"v\": 1258}]}, {\"c\": [{\"v\": \"2011-04-12\"}, {\"v\": 1149}]}, {\"c\": [{\"v\": \"2011-04-13\"}, {\"v\": 1048}]}, {\"c\": [{\"v\": \"2011-04-14\"}, {\"v\": 1605}]}, {\"c\": [{\"v\": \"2011-04-15\"}, {\"v\": 1483}]}, {\"c\": [{\"v\": \"2011-04-17\"}, {\"v\": 968}]}, {\"c\": [{\"v\": \"2011-04-18\"}, {\"v\": 3205}]}, {\"c\": [{\"v\": \"2011-04-19\"}, {\"v\": 1887}]}, {\"c\": [{\"v\": \"2011-04-20\"}, {\"v\": 1015}]}, {\"c\": [{\"v\": \"2011-04-21\"}, {\"v\": 1904}]}, {\"c\": [{\"v\": \"2011-04-26\"}, {\"v\": 1899}]}, {\"c\": [{\"v\": \"2011-04-27\"}, {\"v\": 1292}]}, {\"c\": [{\"v\": \"2011-04-28\"}, {\"v\": 1163}]}, {\"c\": [{\"v\": \"2011-05-01\"}, {\"v\": 452}]}, {\"c\": [{\"v\": \"2011-05-03\"}, {\"v\": 1407}]}, {\"c\": [{\"v\": \"2011-05-04\"}, {\"v\": 1158}]}, {\"c\": [{\"v\": \"2011-05-05\"}, {\"v\": 1835}]}, {\"c\": [{\"v\": \"2011-05-06\"}, {\"v\": 2025}]}, {\"c\": [{\"v\": \"2011-05-08\"}, {\"v\": 1506}]}, {\"c\": [{\"v\": \"2011-05-09\"}, {\"v\": 1763}]}, {\"c\": [{\"v\": \"2011-05-10\"}, {\"v\": 2585}]}, {\"c\": [{\"v\": \"2011-05-11\"}, {\"v\": 1696}]}, {\"c\": [{\"v\": \"2011-05-12\"}, {\"v\": 1963}]}, {\"c\": [{\"v\": \"2011-05-13\"}, {\"v\": 1422}]}, {\"c\": [{\"v\": \"2011-05-15\"}, {\"v\": 809}]}, {\"c\": [{\"v\": \"2011-05-16\"}, {\"v\": 1600}]}, {\"c\": [{\"v\": \"2011-05-17\"}, {\"v\": 1857}]}, {\"c\": [{\"v\": \"2011-05-18\"}, {\"v\": 1357}]}, {\"c\": [{\"v\": \"2011-05-19\"}, {\"v\": 1944}]}, {\"c\": [{\"v\": \"2011-05-20\"}, {\"v\": 1122}]}, {\"c\": [{\"v\": \"2011-05-22\"}, {\"v\": 1564}]}, {\"c\": [{\"v\": \"2011-05-23\"}, {\"v\": 1624}]}, {\"c\": [{\"v\": \"2011-05-24\"}, {\"v\": 1744}]}, {\"c\": [{\"v\": \"2011-05-25\"}, {\"v\": 1307}]}, {\"c\": [{\"v\": \"2011-05-26\"}, {\"v\": 967}]}, {\"c\": [{\"v\": \"2011-05-27\"}, {\"v\": 1165}]}, {\"c\": [{\"v\": \"2011-05-29\"}, {\"v\": 632}]}, {\"c\": [{\"v\": \"2011-05-31\"}, {\"v\": 1281}]}, {\"c\": [{\"v\": \"2011-06-01\"}, {\"v\": 1456}]}, {\"c\": [{\"v\": \"2011-06-02\"}, {\"v\": 1578}]}, {\"c\": [{\"v\": \"2011-06-03\"}, {\"v\": 854}]}, {\"c\": [{\"v\": \"2011-06-05\"}, {\"v\": 1561}]}, {\"c\": [{\"v\": \"2011-06-06\"}, {\"v\": 1229}]}, {\"c\": [{\"v\": \"2011-06-07\"}, {\"v\": 1921}]}, {\"c\": [{\"v\": \"2011-06-08\"}, {\"v\": 2319}]}, {\"c\": [{\"v\": \"2011-06-09\"}, {\"v\": 1838}]}, {\"c\": [{\"v\": \"2011-06-10\"}, {\"v\": 1038}]}, {\"c\": [{\"v\": \"2011-06-12\"}, {\"v\": 1075}]}, {\"c\": [{\"v\": \"2011-06-13\"}, {\"v\": 1472}]}, {\"c\": [{\"v\": \"2011-06-14\"}, {\"v\": 1584}]}, {\"c\": [{\"v\": \"2011-06-15\"}, {\"v\": 1703}]}, {\"c\": [{\"v\": \"2011-06-16\"}, {\"v\": 1523}]}, {\"c\": [{\"v\": \"2011-06-17\"}, {\"v\": 958}]}, {\"c\": [{\"v\": \"2011-06-19\"}, {\"v\": 1167}]}, {\"c\": [{\"v\": \"2011-06-20\"}, {\"v\": 2014}]}, {\"c\": [{\"v\": \"2011-06-21\"}, {\"v\": 1533}]}, {\"c\": [{\"v\": \"2011-06-22\"}, {\"v\": 1013}]}, {\"c\": [{\"v\": \"2011-06-23\"}, {\"v\": 1970}]}, {\"c\": [{\"v\": \"2011-06-24\"}, {\"v\": 1036}]}, {\"c\": [{\"v\": \"2011-06-26\"}, {\"v\": 708}]}, {\"c\": [{\"v\": \"2011-06-27\"}, {\"v\": 1179}]}, {\"c\": [{\"v\": \"2011-06-28\"}, {\"v\": 992}]}, {\"c\": [{\"v\": \"2011-06-29\"}, {\"v\": 1348}]}, {\"c\": [{\"v\": \"2011-06-30\"}, {\"v\": 1619}]}, {\"c\": [{\"v\": \"2011-07-01\"}, {\"v\": 1017}]}, {\"c\": [{\"v\": \"2011-07-03\"}, {\"v\": 602}]}, {\"c\": [{\"v\": \"2011-07-04\"}, {\"v\": 2198}]}, {\"c\": [{\"v\": \"2011-07-05\"}, {\"v\": 2198}]}, {\"c\": [{\"v\": \"2011-07-06\"}, {\"v\": 1815}]}, {\"c\": [{\"v\": \"2011-07-07\"}, {\"v\": 1935}]}, {\"c\": [{\"v\": \"2011-07-08\"}, {\"v\": 1614}]}, {\"c\": [{\"v\": \"2011-07-10\"}, {\"v\": 820}]}, {\"c\": [{\"v\": \"2011-07-11\"}, {\"v\": 1511}]}, {\"c\": [{\"v\": \"2011-07-12\"}, {\"v\": 1665}]}, {\"c\": [{\"v\": \"2011-07-13\"}, {\"v\": 1618}]}, {\"c\": [{\"v\": \"2011-07-14\"}, {\"v\": 1728}]}, {\"c\": [{\"v\": \"2011-07-15\"}, {\"v\": 1125}]}, {\"c\": [{\"v\": \"2011-07-17\"}, {\"v\": 1248}]}, {\"c\": [{\"v\": \"2011-07-18\"}, {\"v\": 2211}]}, {\"c\": [{\"v\": \"2011-07-19\"}, {\"v\": 1663}]}, {\"c\": [{\"v\": \"2011-07-20\"}, {\"v\": 2010}]}, {\"c\": [{\"v\": \"2011-07-21\"}, {\"v\": 1563}]}, {\"c\": [{\"v\": \"2011-07-22\"}, {\"v\": 1296}]}, {\"c\": [{\"v\": \"2011-07-24\"}, {\"v\": 1125}]}, {\"c\": [{\"v\": \"2011-07-25\"}, {\"v\": 1941}]}, {\"c\": [{\"v\": \"2011-07-26\"}, {\"v\": 1260}]}, {\"c\": [{\"v\": \"2011-07-27\"}, {\"v\": 1224}]}, {\"c\": [{\"v\": \"2011-07-28\"}, {\"v\": 1543}]}, {\"c\": [{\"v\": \"2011-07-29\"}, {\"v\": 1129}]}, {\"c\": [{\"v\": \"2011-07-31\"}, {\"v\": 1271}]}, {\"c\": [{\"v\": \"2011-08-01\"}, {\"v\": 1193}]}, {\"c\": [{\"v\": \"2011-08-02\"}, {\"v\": 1369}]}, {\"c\": [{\"v\": \"2011-08-03\"}, {\"v\": 1555}]}, {\"c\": [{\"v\": \"2011-08-04\"}, {\"v\": 1829}]}, {\"c\": [{\"v\": \"2011-08-05\"}, {\"v\": 1449}]}, {\"c\": [{\"v\": \"2011-08-07\"}, {\"v\": 541}]}, {\"c\": [{\"v\": \"2011-08-08\"}, {\"v\": 1488}]}, {\"c\": [{\"v\": \"2011-08-09\"}, {\"v\": 1118}]}, {\"c\": [{\"v\": \"2011-08-10\"}, {\"v\": 1375}]}, {\"c\": [{\"v\": \"2011-08-11\"}, {\"v\": 1980}]}, {\"c\": [{\"v\": \"2011-08-12\"}, {\"v\": 1114}]}, {\"c\": [{\"v\": \"2011-08-14\"}, {\"v\": 557}]}, {\"c\": [{\"v\": \"2011-08-15\"}, {\"v\": 924}]}, {\"c\": [{\"v\": \"2011-08-16\"}, {\"v\": 1030}]}, {\"c\": [{\"v\": \"2011-08-17\"}, {\"v\": 1665}]}, {\"c\": [{\"v\": \"2011-08-18\"}, {\"v\": 1532}]}, {\"c\": [{\"v\": \"2011-08-19\"}, {\"v\": 819}]}, {\"c\": [{\"v\": \"2011-08-21\"}, {\"v\": 1070}]}, {\"c\": [{\"v\": \"2011-08-22\"}, {\"v\": 1272}]}, {\"c\": [{\"v\": \"2011-08-23\"}, {\"v\": 1458}]}, {\"c\": [{\"v\": \"2011-08-24\"}, {\"v\": 1874}]}, {\"c\": [{\"v\": \"2011-08-25\"}, {\"v\": 1312}]}, {\"c\": [{\"v\": \"2011-08-26\"}, {\"v\": 921}]}, {\"c\": [{\"v\": \"2011-08-28\"}, {\"v\": 1200}]}, {\"c\": [{\"v\": \"2011-08-30\"}, {\"v\": 3233}]}, {\"c\": [{\"v\": \"2011-08-31\"}, {\"v\": 1273}]}, {\"c\": [{\"v\": \"2011-09-01\"}, {\"v\": 1404}]}, {\"c\": [{\"v\": \"2011-09-02\"}, {\"v\": 2357}]}, {\"c\": [{\"v\": \"2011-09-04\"}, {\"v\": 1343}]}, {\"c\": [{\"v\": \"2011-09-05\"}, {\"v\": 1583}]}, {\"c\": [{\"v\": \"2011-09-06\"}, {\"v\": 1140}]}, {\"c\": [{\"v\": \"2011-09-07\"}, {\"v\": 2110}]}, {\"c\": [{\"v\": \"2011-09-08\"}, {\"v\": 1772}]}, {\"c\": [{\"v\": \"2011-09-09\"}, {\"v\": 1605}]}, {\"c\": [{\"v\": \"2011-09-11\"}, {\"v\": 2032}]}, {\"c\": [{\"v\": \"2011-09-12\"}, {\"v\": 1696}]}, {\"c\": [{\"v\": \"2011-09-13\"}, {\"v\": 2431}]}, {\"c\": [{\"v\": \"2011-09-14\"}, {\"v\": 1366}]}, {\"c\": [{\"v\": \"2011-09-15\"}, {\"v\": 2196}]}, {\"c\": [{\"v\": \"2011-09-16\"}, {\"v\": 1451}]}, {\"c\": [{\"v\": \"2011-09-18\"}, {\"v\": 1274}]}, {\"c\": [{\"v\": \"2011-09-19\"}, {\"v\": 1427}]}, {\"c\": [{\"v\": \"2011-09-20\"}, {\"v\": 1717}]}, {\"c\": [{\"v\": \"2011-09-21\"}, {\"v\": 3122}]}, {\"c\": [{\"v\": \"2011-09-22\"}, {\"v\": 2734}]}, {\"c\": [{\"v\": \"2011-09-23\"}, {\"v\": 2627}]}, {\"c\": [{\"v\": \"2011-09-25\"}, {\"v\": 1986}]}, {\"c\": [{\"v\": \"2011-09-26\"}, {\"v\": 1549}]}, {\"c\": [{\"v\": \"2011-09-27\"}, {\"v\": 1882}]}, {\"c\": [{\"v\": \"2011-09-28\"}, {\"v\": 2875}]}, {\"c\": [{\"v\": \"2011-09-29\"}, {\"v\": 2506}]}, {\"c\": [{\"v\": \"2011-09-30\"}, {\"v\": 1881}]}, {\"c\": [{\"v\": \"2011-10-02\"}, {\"v\": 1429}]}, {\"c\": [{\"v\": \"2011-10-03\"}, {\"v\": 2281}]}, {\"c\": [{\"v\": \"2011-10-04\"}, {\"v\": 2789}]}, {\"c\": [{\"v\": \"2011-10-05\"}, {\"v\": 2444}]}, {\"c\": [{\"v\": \"2011-10-06\"}, {\"v\": 3156}]}, {\"c\": [{\"v\": \"2011-10-07\"}, {\"v\": 2417}]}, {\"c\": [{\"v\": \"2011-10-09\"}, {\"v\": 1292}]}, {\"c\": [{\"v\": \"2011-10-10\"}, {\"v\": 3222}]}, {\"c\": [{\"v\": \"2011-10-11\"}, {\"v\": 2459}]}, {\"c\": [{\"v\": \"2011-10-12\"}, {\"v\": 2183}]}, {\"c\": [{\"v\": \"2011-10-13\"}, {\"v\": 2343}]}, {\"c\": [{\"v\": \"2011-10-14\"}, {\"v\": 1802}]}, {\"c\": [{\"v\": \"2011-10-16\"}, {\"v\": 1254}]}, {\"c\": [{\"v\": \"2011-10-17\"}, {\"v\": 2941}]}, {\"c\": [{\"v\": \"2011-10-18\"}, {\"v\": 2895}]}, {\"c\": [{\"v\": \"2011-10-19\"}, {\"v\": 2316}]}, {\"c\": [{\"v\": \"2011-10-20\"}, {\"v\": 2350}]}, {\"c\": [{\"v\": \"2011-10-21\"}, {\"v\": 1403}]}, {\"c\": [{\"v\": \"2011-10-23\"}, {\"v\": 1728}]}, {\"c\": [{\"v\": \"2011-10-24\"}, {\"v\": 2957}]}, {\"c\": [{\"v\": \"2011-10-25\"}, {\"v\": 2463}]}, {\"c\": [{\"v\": \"2011-10-26\"}, {\"v\": 1924}]}, {\"c\": [{\"v\": \"2011-10-27\"}, {\"v\": 2534}]}, {\"c\": [{\"v\": \"2011-10-28\"}, {\"v\": 1631}]}, {\"c\": [{\"v\": \"2011-10-30\"}, {\"v\": 2907}]}, {\"c\": [{\"v\": \"2011-10-31\"}, {\"v\": 3384}]}, {\"c\": [{\"v\": \"2011-11-01\"}, {\"v\": 1774}]}, {\"c\": [{\"v\": \"2011-11-02\"}, {\"v\": 2617}]}, {\"c\": [{\"v\": \"2011-11-03\"}, {\"v\": 2407}]}, {\"c\": [{\"v\": \"2011-11-04\"}, {\"v\": 2999}]}, {\"c\": [{\"v\": \"2011-11-06\"}, {\"v\": 3437}]}, {\"c\": [{\"v\": \"2011-11-07\"}, {\"v\": 2090}]}, {\"c\": [{\"v\": \"2011-11-08\"}, {\"v\": 4068}]}, {\"c\": [{\"v\": \"2011-11-09\"}, {\"v\": 2714}]}, {\"c\": [{\"v\": \"2011-11-10\"}, {\"v\": 3254}]}, {\"c\": [{\"v\": \"2011-11-11\"}, {\"v\": 4085}]}, {\"c\": [{\"v\": \"2011-11-13\"}, {\"v\": 3018}]}, {\"c\": [{\"v\": \"2011-11-14\"}, {\"v\": 3583}]}, {\"c\": [{\"v\": \"2011-11-15\"}, {\"v\": 3421}]}, {\"c\": [{\"v\": \"2011-11-16\"}, {\"v\": 4177}]}, {\"c\": [{\"v\": \"2011-11-17\"}, {\"v\": 3605}]}, {\"c\": [{\"v\": \"2011-11-18\"}, {\"v\": 2906}]}, {\"c\": [{\"v\": \"2011-11-20\"}, {\"v\": 3334}]}, {\"c\": [{\"v\": \"2011-11-21\"}, {\"v\": 2923}]}, {\"c\": [{\"v\": \"2011-11-22\"}, {\"v\": 3948}]}, {\"c\": [{\"v\": \"2011-11-23\"}, {\"v\": 3614}]}, {\"c\": [{\"v\": \"2011-11-24\"}, {\"v\": 3743}]}, {\"c\": [{\"v\": \"2011-11-25\"}, {\"v\": 3114}]}, {\"c\": [{\"v\": \"2011-11-27\"}, {\"v\": 2542}]}, {\"c\": [{\"v\": \"2011-11-28\"}, {\"v\": 3330}]}, {\"c\": [{\"v\": \"2011-11-29\"}, {\"v\": 4308}]}, {\"c\": [{\"v\": \"2011-11-30\"}, {\"v\": 3434}]}, {\"c\": [{\"v\": \"2011-12-01\"}, {\"v\": 2900}]}, {\"c\": [{\"v\": \"2011-12-02\"}, {\"v\": 2865}]}, {\"c\": [{\"v\": \"2011-12-04\"}, {\"v\": 2036}]}, {\"c\": [{\"v\": \"2011-12-05\"}, {\"v\": 5323}]}, {\"c\": [{\"v\": \"2011-12-06\"}, {\"v\": 3362}]}, {\"c\": [{\"v\": \"2011-12-07\"}, {\"v\": 2419}]}, {\"c\": [{\"v\": \"2011-12-08\"}, {\"v\": 4934}]}, {\"c\": [{\"v\": \"2011-12-09\"}, {\"v\": 1632}]}]},\n",
       "              {},\n",
       "              {\"fields\": \"*\", \"name\": 0, \"source_index\": 0},\n",
       "              0,\n",
       "              305);\n",
       "          }\n",
       "        );\n",
       "    </script>\n",
       "  "
      ],
      "text/plain": [
       "<IPython.core.display.HTML object>"
      ]
     },
     "execution_count": 14,
     "metadata": {},
     "output_type": "execute_result"
    }
   ],
   "source": [
    "%%chart annotation -d transactions"
   ]
  },
  {
   "cell_type": "code",
   "execution_count": 15,
   "metadata": {},
   "outputs": [],
   "source": [
    "# SOLUTION: Uncomment and execute the cell below to get help\n",
    "#disp(hint + '06-01-time-series')"
   ]
  },
  {
   "cell_type": "markdown",
   "metadata": {},
   "source": [
    "Which countries are shoppers from and how many transactions relate to each country? Can you also calculate the revenue generated by visitors from each country and sort the list by this amount?\n",
    "\n",
    "Bonus: use `round()` function to display the revenue. Default behavior is to round to the closest integer which is good enough for this analysis."
   ]
  },
  {
   "cell_type": "code",
   "execution_count": 16,
   "metadata": {},
   "outputs": [
    {
     "data": {
      "text/html": [
       "\n",
       "    <div class=\"bqtv\" id=\"6_156549714708\"><table><tr><th>Country</th><th>NumberOfTransactions</th><th>Revenue</th></tr><tr><td>United Kingdom</td><td>492979</td><td>8209930.0</td></tr><tr><td>Netherlands</td><td>2367</td><td>284662.0</td></tr><tr><td>EIRE</td><td>8192</td><td>263277.0</td></tr><tr><td>Germany</td><td>9493</td><td>221698.0</td></tr><tr><td>France</td><td>8556</td><td>197404.0</td></tr><tr><td>Australia</td><td>1256</td><td>137077.0</td></tr><tr><td>Switzerland</td><td>2001</td><td>56385.0</td></tr><tr><td>Spain</td><td>2532</td><td>54775.0</td></tr><tr><td>Belgium</td><td>2069</td><td>40911.0</td></tr><tr><td>Sweden</td><td>462</td><td>36596.0</td></tr><tr><td>Japan</td><td>358</td><td>35341.0</td></tr><tr><td>Norway</td><td>1085</td><td>35163.0</td></tr><tr><td>Portugal</td><td>1519</td><td>29367.0</td></tr><tr><td>Finland</td><td>695</td><td>22327.0</td></tr><tr><td>Channel Islands</td><td>758</td><td>20086.0</td></tr><tr><td>Denmark</td><td>389</td><td>18768.0</td></tr><tr><td>Italy</td><td>803</td><td>16891.0</td></tr><tr><td>Cyprus</td><td>622</td><td>12946.0</td></tr><tr><td>Austria</td><td>401</td><td>10154.0</td></tr><tr><td>Hong Kong</td><td>288</td><td>10117.0</td></tr><tr><td>Singapore</td><td>229</td><td>9120.0</td></tr><tr><td>Israel</td><td>297</td><td>7908.0</td></tr><tr><td>Poland</td><td>341</td><td>7213.0</td></tr><tr><td>Unspecified</td><td>446</td><td>4750.0</td></tr><tr><td>Greece</td><td>146</td><td>4711.0</td></tr></table></div>\n",
       "    <br />(rows: 38, time: 1.3s,    12MB processed, job: job_0Pbq6-aj-HglDSr2-gPdh-OZDhmO)<br />\n",
       "    <script src=\"/static/components/requirejs/require.js\"></script>\n",
       "    <script>\n",
       "      require.config({\n",
       "        paths: {\n",
       "          base: '/static/base',\n",
       "          d3: '//cdnjs.cloudflare.com/ajax/libs/d3/3.4.13/d3',\n",
       "          plotly: 'https://cdn.plot.ly/plotly-1.5.1.min.js?noext',\n",
       "          jquery: '//ajax.googleapis.com/ajax/libs/jquery/2.0.0/jquery.min'\n",
       "        },\n",
       "        map: {\n",
       "          '*': {\n",
       "            datalab: 'nbextensions/gcpdatalab'\n",
       "          }\n",
       "        },\n",
       "        shim: {\n",
       "          plotly: {\n",
       "            deps: ['d3', 'jquery'],\n",
       "            exports: 'plotly'\n",
       "          }\n",
       "        }\n",
       "      });\n",
       "\n",
       "      require(['datalab/charting', 'datalab/element!6_156549714708', 'base/js/events',\n",
       "          'datalab/style!/nbextensions/gcpdatalab/charting.css'],\n",
       "        function(charts, dom, events) {\n",
       "          charts.render('gcharts', dom, events, 'paged_table', [], {\"cols\": [{\"id\": \"Country\", \"label\": \"Country\", \"type\": \"string\"}, {\"id\": \"NumberOfTransactions\", \"label\": \"NumberOfTransactions\", \"type\": \"number\"}, {\"id\": \"Revenue\", \"label\": \"Revenue\", \"type\": \"number\"}], \"rows\": [{\"c\": [{\"v\": \"United Kingdom\"}, {\"v\": 492979}, {\"v\": 8209930.0}]}, {\"c\": [{\"v\": \"Netherlands\"}, {\"v\": 2367}, {\"v\": 284662.0}]}, {\"c\": [{\"v\": \"EIRE\"}, {\"v\": 8192}, {\"v\": 263277.0}]}, {\"c\": [{\"v\": \"Germany\"}, {\"v\": 9493}, {\"v\": 221698.0}]}, {\"c\": [{\"v\": \"France\"}, {\"v\": 8556}, {\"v\": 197404.0}]}, {\"c\": [{\"v\": \"Australia\"}, {\"v\": 1256}, {\"v\": 137077.0}]}, {\"c\": [{\"v\": \"Switzerland\"}, {\"v\": 2001}, {\"v\": 56385.0}]}, {\"c\": [{\"v\": \"Spain\"}, {\"v\": 2532}, {\"v\": 54775.0}]}, {\"c\": [{\"v\": \"Belgium\"}, {\"v\": 2069}, {\"v\": 40911.0}]}, {\"c\": [{\"v\": \"Sweden\"}, {\"v\": 462}, {\"v\": 36596.0}]}, {\"c\": [{\"v\": \"Japan\"}, {\"v\": 358}, {\"v\": 35341.0}]}, {\"c\": [{\"v\": \"Norway\"}, {\"v\": 1085}, {\"v\": 35163.0}]}, {\"c\": [{\"v\": \"Portugal\"}, {\"v\": 1519}, {\"v\": 29367.0}]}, {\"c\": [{\"v\": \"Finland\"}, {\"v\": 695}, {\"v\": 22327.0}]}, {\"c\": [{\"v\": \"Channel Islands\"}, {\"v\": 758}, {\"v\": 20086.0}]}, {\"c\": [{\"v\": \"Denmark\"}, {\"v\": 389}, {\"v\": 18768.0}]}, {\"c\": [{\"v\": \"Italy\"}, {\"v\": 803}, {\"v\": 16891.0}]}, {\"c\": [{\"v\": \"Cyprus\"}, {\"v\": 622}, {\"v\": 12946.0}]}, {\"c\": [{\"v\": \"Austria\"}, {\"v\": 401}, {\"v\": 10154.0}]}, {\"c\": [{\"v\": \"Hong Kong\"}, {\"v\": 288}, {\"v\": 10117.0}]}, {\"c\": [{\"v\": \"Singapore\"}, {\"v\": 229}, {\"v\": 9120.0}]}, {\"c\": [{\"v\": \"Israel\"}, {\"v\": 297}, {\"v\": 7908.0}]}, {\"c\": [{\"v\": \"Poland\"}, {\"v\": 341}, {\"v\": 7213.0}]}, {\"c\": [{\"v\": \"Unspecified\"}, {\"v\": 446}, {\"v\": 4750.0}]}, {\"c\": [{\"v\": \"Greece\"}, {\"v\": 146}, {\"v\": 4711.0}]}]},\n",
       "            {\n",
       "              pageSize: 25,\n",
       "              cssClassNames:  {\n",
       "                tableRow: 'gchart-table-row',\n",
       "                headerRow: 'gchart-table-headerrow',\n",
       "                oddTableRow: 'gchart-table-oddrow',\n",
       "                selectedTableRow: 'gchart-table-selectedrow',\n",
       "                hoverTableRow: 'gchart-table-hoverrow',\n",
       "                tableCell: 'gchart-table-cell',\n",
       "                headerCell: 'gchart-table-headercell',\n",
       "                rowNumberCell: 'gchart-table-rownumcell'\n",
       "              }\n",
       "            },\n",
       "            {source_index: 5, fields: 'Country,NumberOfTransactions,Revenue'},\n",
       "            0,\n",
       "            38);\n",
       "        }\n",
       "      );\n",
       "    </script>\n",
       "  "
      ],
      "text/plain": [
       "QueryResultsTable job_0Pbq6-aj-HglDSr2-gPdh-OZDhmO"
      ]
     },
     "execution_count": 16,
     "metadata": {},
     "output_type": "execute_result"
    }
   ],
   "source": [
    "# Your answer goes here"
   ]
  },
  {
   "cell_type": "code",
   "execution_count": 17,
   "metadata": {},
   "outputs": [],
   "source": [
    "# SOLUTION: Uncomment and execute the cell below to get help\n",
    "#disp(hint + '06-01-revenue-per-country')"
   ]
  }
 ],
 "metadata": {
  "kernelspec": {
   "display_name": "Python 3",
   "language": "python",
   "name": "python3"
  },
  "language_info": {
   "codemirror_mode": {
    "name": "ipython",
    "version": 3
   },
   "file_extension": ".py",
   "mimetype": "text/x-python",
   "name": "python",
   "nbconvert_exporter": "python",
   "pygments_lexer": "ipython3",
   "version": "3.5.6"
  }
 },
 "nbformat": 4,
 "nbformat_minor": 2
}
