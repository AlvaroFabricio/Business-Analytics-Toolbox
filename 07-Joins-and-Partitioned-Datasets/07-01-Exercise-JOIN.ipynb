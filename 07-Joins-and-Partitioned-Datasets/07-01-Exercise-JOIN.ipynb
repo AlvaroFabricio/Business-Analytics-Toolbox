{
 "cells": [
  {
   "cell_type": "markdown",
   "metadata": {},
   "source": [
    "# Practice on JOINs\n",
    "We will use a few small datasets to get some more hands on experience on joins."
   ]
  },
  {
   "cell_type": "code",
   "execution_count": 1,
   "metadata": {},
   "outputs": [],
   "source": [
    "# This cell is to enable the \"hint\" functionality. After each question there is a cell with either a hint about the correct answer or the solution. \n",
    "from IPython.display import Pretty as disp\n",
    "hint = 'https://raw.githubusercontent.com/soltaniehha/Business-Analytics-Toolbox/master/docs/hints/'  # path to hints on GitHub"
   ]
  },
  {
   "cell_type": "markdown",
   "metadata": {},
   "source": [
    "First, let's have a look at these datasets:"
   ]
  },
  {
   "cell_type": "code",
   "execution_count": 2,
   "metadata": {},
   "outputs": [
    {
     "data": {
      "text/html": [
       "\n",
       "    <div class=\"bqtv\" id=\"1_156556707062\"><table><tr><th>TransactionID</th><th>CustomerID</th><th>ProductID</th><th>Quantity</th><th>Date</th><th>Time</th></tr><tr><td>4203847</td><td>8103954</td><td>444</td><td>1</td><td>2019-08-09</td><td>11:20</td></tr><tr><td>4786540</td><td>8530495</td><td>444</td><td>1</td><td>2019-08-11</td><td>13:11</td></tr><tr><td>4392037</td><td>8574930</td><td>222</td><td>1</td><td>2019-08-08</td><td>9:00</td></tr><tr><td>4328790</td><td>8574930</td><td>111</td><td>3</td><td>2019-08-10</td><td>8:34</td></tr><tr><td>4029348</td><td>8430294</td><td>444</td><td>2</td><td>2019-08-10</td><td>12:30</td></tr><tr><td>4392564</td><td>8430294</td><td>222</td><td>2</td><td>2019-08-10</td><td>10:34</td></tr></table></div>\n",
       "    <br />(rows: 6, time: 0.4s, cached, job: job_UAoRuQgM6w1qQctDe-qqzOCvOn_A)<br />\n",
       "    <script src=\"/static/components/requirejs/require.js\"></script>\n",
       "    <script>\n",
       "      require.config({\n",
       "        paths: {\n",
       "          base: '/static/base',\n",
       "          d3: '//cdnjs.cloudflare.com/ajax/libs/d3/3.4.13/d3',\n",
       "          plotly: 'https://cdn.plot.ly/plotly-1.5.1.min.js?noext',\n",
       "          jquery: '//ajax.googleapis.com/ajax/libs/jquery/2.0.0/jquery.min'\n",
       "        },\n",
       "        map: {\n",
       "          '*': {\n",
       "            datalab: 'nbextensions/gcpdatalab'\n",
       "          }\n",
       "        },\n",
       "        shim: {\n",
       "          plotly: {\n",
       "            deps: ['d3', 'jquery'],\n",
       "            exports: 'plotly'\n",
       "          }\n",
       "        }\n",
       "      });\n",
       "\n",
       "      require(['datalab/charting', 'datalab/element!1_156556707062', 'base/js/events',\n",
       "          'datalab/style!/nbextensions/gcpdatalab/charting.css'],\n",
       "        function(charts, dom, events) {\n",
       "          charts.render('gcharts', dom, events, 'table', [], {\"cols\": [{\"type\": \"number\", \"id\": \"TransactionID\", \"label\": \"TransactionID\"}, {\"type\": \"number\", \"id\": \"CustomerID\", \"label\": \"CustomerID\"}, {\"type\": \"number\", \"id\": \"ProductID\", \"label\": \"ProductID\"}, {\"type\": \"number\", \"id\": \"Quantity\", \"label\": \"Quantity\"}, {\"type\": \"date\", \"id\": \"Date\", \"label\": \"Date\"}, {\"type\": \"string\", \"id\": \"Time\", \"label\": \"Time\"}], \"rows\": [{\"c\": [{\"v\": 4203847}, {\"v\": 8103954}, {\"v\": 444}, {\"v\": 1}, {\"v\": \"2019-08-09\"}, {\"v\": \"11:20\"}]}, {\"c\": [{\"v\": 4786540}, {\"v\": 8530495}, {\"v\": 444}, {\"v\": 1}, {\"v\": \"2019-08-11\"}, {\"v\": \"13:11\"}]}, {\"c\": [{\"v\": 4392037}, {\"v\": 8574930}, {\"v\": 222}, {\"v\": 1}, {\"v\": \"2019-08-08\"}, {\"v\": \"9:00\"}]}, {\"c\": [{\"v\": 4328790}, {\"v\": 8574930}, {\"v\": 111}, {\"v\": 3}, {\"v\": \"2019-08-10\"}, {\"v\": \"8:34\"}]}, {\"c\": [{\"v\": 4029348}, {\"v\": 8430294}, {\"v\": 444}, {\"v\": 2}, {\"v\": \"2019-08-10\"}, {\"v\": \"12:30\"}]}, {\"c\": [{\"v\": 4392564}, {\"v\": 8430294}, {\"v\": 222}, {\"v\": 2}, {\"v\": \"2019-08-10\"}, {\"v\": \"10:34\"}]}]},\n",
       "            {\n",
       "              pageSize: 25,\n",
       "              cssClassNames:  {\n",
       "                tableRow: 'gchart-table-row',\n",
       "                headerRow: 'gchart-table-headerrow',\n",
       "                oddTableRow: 'gchart-table-oddrow',\n",
       "                selectedTableRow: 'gchart-table-selectedrow',\n",
       "                hoverTableRow: 'gchart-table-hoverrow',\n",
       "                tableCell: 'gchart-table-cell',\n",
       "                headerCell: 'gchart-table-headercell',\n",
       "                rowNumberCell: 'gchart-table-rownumcell'\n",
       "              }\n",
       "            },\n",
       "            {source_index: 0, fields: 'TransactionID,CustomerID,ProductID,Quantity,Date,Time'},\n",
       "            0,\n",
       "            6);\n",
       "        }\n",
       "      );\n",
       "    </script>\n",
       "  "
      ],
      "text/plain": [
       "QueryResultsTable job_UAoRuQgM6w1qQctDe-qqzOCvOn_A"
      ]
     },
     "execution_count": 2,
     "metadata": {},
     "output_type": "execute_result"
    }
   ],
   "source": [
    "%%bq query\n",
    "SELECT * FROM `ba-770.public.transactions`"
   ]
  },
  {
   "cell_type": "code",
   "execution_count": 3,
   "metadata": {},
   "outputs": [
    {
     "data": {
      "text/html": [
       "\n",
       "    <div class=\"bqtv\" id=\"2_156556707253\"><table><tr><th>ID</th><th>Name</th><th>Price</th></tr><tr><td>444</td><td>Water</td><td>0.99</td></tr><tr><td>111</td><td>Orange Juice</td><td>3.49</td></tr><tr><td>222</td><td>Milk 3%</td><td>2.95</td></tr><tr><td>333</td><td>Rice</td><td>4.99</td></tr></table></div>\n",
       "    <br />(rows: 4, time: 0.2s, cached, job: job_TLOCjDoWWVLp01BgfX9ml1m5-0-w)<br />\n",
       "    <script src=\"/static/components/requirejs/require.js\"></script>\n",
       "    <script>\n",
       "      require.config({\n",
       "        paths: {\n",
       "          base: '/static/base',\n",
       "          d3: '//cdnjs.cloudflare.com/ajax/libs/d3/3.4.13/d3',\n",
       "          plotly: 'https://cdn.plot.ly/plotly-1.5.1.min.js?noext',\n",
       "          jquery: '//ajax.googleapis.com/ajax/libs/jquery/2.0.0/jquery.min'\n",
       "        },\n",
       "        map: {\n",
       "          '*': {\n",
       "            datalab: 'nbextensions/gcpdatalab'\n",
       "          }\n",
       "        },\n",
       "        shim: {\n",
       "          plotly: {\n",
       "            deps: ['d3', 'jquery'],\n",
       "            exports: 'plotly'\n",
       "          }\n",
       "        }\n",
       "      });\n",
       "\n",
       "      require(['datalab/charting', 'datalab/element!2_156556707253', 'base/js/events',\n",
       "          'datalab/style!/nbextensions/gcpdatalab/charting.css'],\n",
       "        function(charts, dom, events) {\n",
       "          charts.render('gcharts', dom, events, 'table', [], {\"cols\": [{\"type\": \"number\", \"id\": \"ID\", \"label\": \"ID\"}, {\"type\": \"string\", \"id\": \"Name\", \"label\": \"Name\"}, {\"type\": \"number\", \"id\": \"Price\", \"label\": \"Price\"}], \"rows\": [{\"c\": [{\"v\": 444}, {\"v\": \"Water\"}, {\"v\": 0.99}]}, {\"c\": [{\"v\": 111}, {\"v\": \"Orange Juice\"}, {\"v\": 3.49}]}, {\"c\": [{\"v\": 222}, {\"v\": \"Milk 3%\"}, {\"v\": 2.95}]}, {\"c\": [{\"v\": 333}, {\"v\": \"Rice\"}, {\"v\": 4.99}]}]},\n",
       "            {\n",
       "              pageSize: 25,\n",
       "              cssClassNames:  {\n",
       "                tableRow: 'gchart-table-row',\n",
       "                headerRow: 'gchart-table-headerrow',\n",
       "                oddTableRow: 'gchart-table-oddrow',\n",
       "                selectedTableRow: 'gchart-table-selectedrow',\n",
       "                hoverTableRow: 'gchart-table-hoverrow',\n",
       "                tableCell: 'gchart-table-cell',\n",
       "                headerCell: 'gchart-table-headercell',\n",
       "                rowNumberCell: 'gchart-table-rownumcell'\n",
       "              }\n",
       "            },\n",
       "            {source_index: 1, fields: 'ID,Name,Price'},\n",
       "            0,\n",
       "            4);\n",
       "        }\n",
       "      );\n",
       "    </script>\n",
       "  "
      ],
      "text/plain": [
       "QueryResultsTable job_TLOCjDoWWVLp01BgfX9ml1m5-0-w"
      ]
     },
     "execution_count": 3,
     "metadata": {},
     "output_type": "execute_result"
    }
   ],
   "source": [
    "%%bq query\n",
    "SELECT * FROM `ba-770.public.product_info`"
   ]
  },
  {
   "cell_type": "code",
   "execution_count": 4,
   "metadata": {},
   "outputs": [
    {
     "data": {
      "text/html": [
       "\n",
       "    <div class=\"bqtv\" id=\"3_156556707413\"><table><tr><th>CustomerID</th><th>CustomerName</th><th>Email</th><th>City</th><th>Age</th></tr><tr><td>8530495</td><td>John</td><td>john_smith@yahoo.com</td><td>Boston</td><td>32</td></tr><tr><td>8574930</td><td>Mary</td><td>mk_888@gmail.com</td><td>Boston</td><td>22</td></tr><tr><td>8103954</td><td>Sue</td><td>ss_2000@gmail.com</td><td>Allston</td><td>36</td></tr><tr><td>8430294</td><td>Alex</td><td>ag_23@hotmail.com</td><td>Brookline</td><td>21</td></tr></table></div>\n",
       "    <br />(rows: 4, time: 0.1s, cached, job: job_UOR1QTimD5P6WOtNmYUAI9vc0xhY)<br />\n",
       "    <script src=\"/static/components/requirejs/require.js\"></script>\n",
       "    <script>\n",
       "      require.config({\n",
       "        paths: {\n",
       "          base: '/static/base',\n",
       "          d3: '//cdnjs.cloudflare.com/ajax/libs/d3/3.4.13/d3',\n",
       "          plotly: 'https://cdn.plot.ly/plotly-1.5.1.min.js?noext',\n",
       "          jquery: '//ajax.googleapis.com/ajax/libs/jquery/2.0.0/jquery.min'\n",
       "        },\n",
       "        map: {\n",
       "          '*': {\n",
       "            datalab: 'nbextensions/gcpdatalab'\n",
       "          }\n",
       "        },\n",
       "        shim: {\n",
       "          plotly: {\n",
       "            deps: ['d3', 'jquery'],\n",
       "            exports: 'plotly'\n",
       "          }\n",
       "        }\n",
       "      });\n",
       "\n",
       "      require(['datalab/charting', 'datalab/element!3_156556707413', 'base/js/events',\n",
       "          'datalab/style!/nbextensions/gcpdatalab/charting.css'],\n",
       "        function(charts, dom, events) {\n",
       "          charts.render('gcharts', dom, events, 'table', [], {\"cols\": [{\"type\": \"number\", \"id\": \"CustomerID\", \"label\": \"CustomerID\"}, {\"type\": \"string\", \"id\": \"CustomerName\", \"label\": \"CustomerName\"}, {\"type\": \"string\", \"id\": \"Email\", \"label\": \"Email\"}, {\"type\": \"string\", \"id\": \"City\", \"label\": \"City\"}, {\"type\": \"number\", \"id\": \"Age\", \"label\": \"Age\"}], \"rows\": [{\"c\": [{\"v\": 8530495}, {\"v\": \"John\"}, {\"v\": \"john_smith@yahoo.com\"}, {\"v\": \"Boston\"}, {\"v\": 32}]}, {\"c\": [{\"v\": 8574930}, {\"v\": \"Mary\"}, {\"v\": \"mk_888@gmail.com\"}, {\"v\": \"Boston\"}, {\"v\": 22}]}, {\"c\": [{\"v\": 8103954}, {\"v\": \"Sue\"}, {\"v\": \"ss_2000@gmail.com\"}, {\"v\": \"Allston\"}, {\"v\": 36}]}, {\"c\": [{\"v\": 8430294}, {\"v\": \"Alex\"}, {\"v\": \"ag_23@hotmail.com\"}, {\"v\": \"Brookline\"}, {\"v\": 21}]}]},\n",
       "            {\n",
       "              pageSize: 25,\n",
       "              cssClassNames:  {\n",
       "                tableRow: 'gchart-table-row',\n",
       "                headerRow: 'gchart-table-headerrow',\n",
       "                oddTableRow: 'gchart-table-oddrow',\n",
       "                selectedTableRow: 'gchart-table-selectedrow',\n",
       "                hoverTableRow: 'gchart-table-hoverrow',\n",
       "                tableCell: 'gchart-table-cell',\n",
       "                headerCell: 'gchart-table-headercell',\n",
       "                rowNumberCell: 'gchart-table-rownumcell'\n",
       "              }\n",
       "            },\n",
       "            {source_index: 2, fields: 'CustomerID,CustomerName,Email,City,Age'},\n",
       "            0,\n",
       "            4);\n",
       "        }\n",
       "      );\n",
       "    </script>\n",
       "  "
      ],
      "text/plain": [
       "QueryResultsTable job_UOR1QTimD5P6WOtNmYUAI9vc0xhY"
      ]
     },
     "execution_count": 4,
     "metadata": {},
     "output_type": "execute_result"
    }
   ],
   "source": [
    "%%bq query\n",
    "SELECT * FROM `ba-770.public.customer_info`"
   ]
  },
  {
   "cell_type": "code",
   "execution_count": 5,
   "metadata": {},
   "outputs": [
    {
     "data": {
      "text/html": [
       "\n",
       "    <div class=\"bqtv\" id=\"4_156556707605\"><table><tr><th>CustomerName</th><th>Email</th><th>City</th><th>Age</th><th>CustomerID</th></tr><tr><td>Alberto</td><td>al99@gmail.com</td><td>Cambridge</td><td>25</td><td>8574839</td></tr><tr><td>Maria</td><td>maria_lopez@yahoo.com</td><td>Brookline</td><td>43</td><td>8920395</td></tr></table></div>\n",
       "    <br />(rows: 2, time: 0.5s,   109B processed, job: job_vBmu9uxsBG3O6U0kHFLmBkdK4v0e)<br />\n",
       "    <script src=\"/static/components/requirejs/require.js\"></script>\n",
       "    <script>\n",
       "      require.config({\n",
       "        paths: {\n",
       "          base: '/static/base',\n",
       "          d3: '//cdnjs.cloudflare.com/ajax/libs/d3/3.4.13/d3',\n",
       "          plotly: 'https://cdn.plot.ly/plotly-1.5.1.min.js?noext',\n",
       "          jquery: '//ajax.googleapis.com/ajax/libs/jquery/2.0.0/jquery.min'\n",
       "        },\n",
       "        map: {\n",
       "          '*': {\n",
       "            datalab: 'nbextensions/gcpdatalab'\n",
       "          }\n",
       "        },\n",
       "        shim: {\n",
       "          plotly: {\n",
       "            deps: ['d3', 'jquery'],\n",
       "            exports: 'plotly'\n",
       "          }\n",
       "        }\n",
       "      });\n",
       "\n",
       "      require(['datalab/charting', 'datalab/element!4_156556707605', 'base/js/events',\n",
       "          'datalab/style!/nbextensions/gcpdatalab/charting.css'],\n",
       "        function(charts, dom, events) {\n",
       "          charts.render('gcharts', dom, events, 'table', [], {\"cols\": [{\"type\": \"string\", \"id\": \"CustomerName\", \"label\": \"CustomerName\"}, {\"type\": \"string\", \"id\": \"Email\", \"label\": \"Email\"}, {\"type\": \"string\", \"id\": \"City\", \"label\": \"City\"}, {\"type\": \"number\", \"id\": \"Age\", \"label\": \"Age\"}, {\"type\": \"number\", \"id\": \"CustomerID\", \"label\": \"CustomerID\"}], \"rows\": [{\"c\": [{\"v\": \"Alberto\"}, {\"v\": \"al99@gmail.com\"}, {\"v\": \"Cambridge\"}, {\"v\": 25}, {\"v\": 8574839}]}, {\"c\": [{\"v\": \"Maria\"}, {\"v\": \"maria_lopez@yahoo.com\"}, {\"v\": \"Brookline\"}, {\"v\": 43}, {\"v\": 8920395}]}]},\n",
       "            {\n",
       "              pageSize: 25,\n",
       "              cssClassNames:  {\n",
       "                tableRow: 'gchart-table-row',\n",
       "                headerRow: 'gchart-table-headerrow',\n",
       "                oddTableRow: 'gchart-table-oddrow',\n",
       "                selectedTableRow: 'gchart-table-selectedrow',\n",
       "                hoverTableRow: 'gchart-table-hoverrow',\n",
       "                tableCell: 'gchart-table-cell',\n",
       "                headerCell: 'gchart-table-headercell',\n",
       "                rowNumberCell: 'gchart-table-rownumcell'\n",
       "              }\n",
       "            },\n",
       "            {source_index: 3, fields: 'CustomerName,Email,City,Age,CustomerID'},\n",
       "            0,\n",
       "            2);\n",
       "        }\n",
       "      );\n",
       "    </script>\n",
       "  "
      ],
      "text/plain": [
       "QueryResultsTable job_vBmu9uxsBG3O6U0kHFLmBkdK4v0e"
      ]
     },
     "execution_count": 5,
     "metadata": {},
     "output_type": "execute_result"
    }
   ],
   "source": [
    "%%bq query\n",
    "SELECT * FROM `ba-770.public.customer_info_past`"
   ]
  },
  {
   "cell_type": "markdown",
   "metadata": {},
   "source": [
    "### Question1 \n",
    "Which product is the most popular one? (based on quantity)"
   ]
  },
  {
   "cell_type": "code",
   "execution_count": 6,
   "metadata": {},
   "outputs": [
    {
     "data": {
      "text/html": [
       "\n",
       "    <div class=\"bqtv\" id=\"5_156556707778\"><table><tr><th>ProductID</th><th>total</th></tr><tr><td>444</td><td>4</td></tr><tr><td>222</td><td>3</td></tr><tr><td>111</td><td>3</td></tr></table></div>\n",
       "    <br />(rows: 3, time: 0.2s, cached, job: job_BtAquanYAqXzyf_eCznnVyHvpAmL)<br />\n",
       "    <script src=\"/static/components/requirejs/require.js\"></script>\n",
       "    <script>\n",
       "      require.config({\n",
       "        paths: {\n",
       "          base: '/static/base',\n",
       "          d3: '//cdnjs.cloudflare.com/ajax/libs/d3/3.4.13/d3',\n",
       "          plotly: 'https://cdn.plot.ly/plotly-1.5.1.min.js?noext',\n",
       "          jquery: '//ajax.googleapis.com/ajax/libs/jquery/2.0.0/jquery.min'\n",
       "        },\n",
       "        map: {\n",
       "          '*': {\n",
       "            datalab: 'nbextensions/gcpdatalab'\n",
       "          }\n",
       "        },\n",
       "        shim: {\n",
       "          plotly: {\n",
       "            deps: ['d3', 'jquery'],\n",
       "            exports: 'plotly'\n",
       "          }\n",
       "        }\n",
       "      });\n",
       "\n",
       "      require(['datalab/charting', 'datalab/element!5_156556707778', 'base/js/events',\n",
       "          'datalab/style!/nbextensions/gcpdatalab/charting.css'],\n",
       "        function(charts, dom, events) {\n",
       "          charts.render('gcharts', dom, events, 'table', [], {\"cols\": [{\"type\": \"number\", \"id\": \"ProductID\", \"label\": \"ProductID\"}, {\"type\": \"number\", \"id\": \"total\", \"label\": \"total\"}], \"rows\": [{\"c\": [{\"v\": 444}, {\"v\": 4}]}, {\"c\": [{\"v\": 222}, {\"v\": 3}]}, {\"c\": [{\"v\": 111}, {\"v\": 3}]}]},\n",
       "            {\n",
       "              pageSize: 25,\n",
       "              cssClassNames:  {\n",
       "                tableRow: 'gchart-table-row',\n",
       "                headerRow: 'gchart-table-headerrow',\n",
       "                oddTableRow: 'gchart-table-oddrow',\n",
       "                selectedTableRow: 'gchart-table-selectedrow',\n",
       "                hoverTableRow: 'gchart-table-hoverrow',\n",
       "                tableCell: 'gchart-table-cell',\n",
       "                headerCell: 'gchart-table-headercell',\n",
       "                rowNumberCell: 'gchart-table-rownumcell'\n",
       "              }\n",
       "            },\n",
       "            {source_index: 4, fields: 'ProductID,total'},\n",
       "            0,\n",
       "            3);\n",
       "        }\n",
       "      );\n",
       "    </script>\n",
       "  "
      ],
      "text/plain": [
       "QueryResultsTable job_BtAquanYAqXzyf_eCznnVyHvpAmL"
      ]
     },
     "execution_count": 6,
     "metadata": {},
     "output_type": "execute_result"
    }
   ],
   "source": [
    "%%bq query\n",
    "SELECT ProductID, SUM(Quantity) total FROM `ba-770.public.transactions` \n",
    "GROUP BY ProductID\n",
    "ORDER BY total DESC"
   ]
  },
  {
   "cell_type": "markdown",
   "metadata": {},
   "source": [
    "We can see that it is product 444 (bought 4 times), and from the `product_info` table we can see that it's water. \n",
    "\n",
    "Can you write a JOIN statement that does this match finding for us automatically so we don't need to look up another table?"
   ]
  },
  {
   "cell_type": "code",
   "execution_count": 7,
   "metadata": {},
   "outputs": [
    {
     "data": {
      "text/html": [
       "\n",
       "    <div class=\"bqtv\" id=\"6_156556707938\"><table><tr><th>ProductID</th><th>total</th><th>Name</th></tr><tr><td>444</td><td>4</td><td>Water</td></tr><tr><td>222</td><td>3</td><td>Milk 3%</td></tr><tr><td>111</td><td>3</td><td>Orange Juice</td></tr></table></div>\n",
       "    <br />(rows: 3, time: 0.1s, cached, job: job_ZNWfJB6hdLrtYG70lmiGrTAWuEw7)<br />\n",
       "    <script src=\"/static/components/requirejs/require.js\"></script>\n",
       "    <script>\n",
       "      require.config({\n",
       "        paths: {\n",
       "          base: '/static/base',\n",
       "          d3: '//cdnjs.cloudflare.com/ajax/libs/d3/3.4.13/d3',\n",
       "          plotly: 'https://cdn.plot.ly/plotly-1.5.1.min.js?noext',\n",
       "          jquery: '//ajax.googleapis.com/ajax/libs/jquery/2.0.0/jquery.min'\n",
       "        },\n",
       "        map: {\n",
       "          '*': {\n",
       "            datalab: 'nbextensions/gcpdatalab'\n",
       "          }\n",
       "        },\n",
       "        shim: {\n",
       "          plotly: {\n",
       "            deps: ['d3', 'jquery'],\n",
       "            exports: 'plotly'\n",
       "          }\n",
       "        }\n",
       "      });\n",
       "\n",
       "      require(['datalab/charting', 'datalab/element!6_156556707938', 'base/js/events',\n",
       "          'datalab/style!/nbextensions/gcpdatalab/charting.css'],\n",
       "        function(charts, dom, events) {\n",
       "          charts.render('gcharts', dom, events, 'table', [], {\"cols\": [{\"type\": \"number\", \"id\": \"ProductID\", \"label\": \"ProductID\"}, {\"type\": \"number\", \"id\": \"total\", \"label\": \"total\"}, {\"type\": \"string\", \"id\": \"Name\", \"label\": \"Name\"}], \"rows\": [{\"c\": [{\"v\": 444}, {\"v\": 4}, {\"v\": \"Water\"}]}, {\"c\": [{\"v\": 222}, {\"v\": 3}, {\"v\": \"Milk 3%\"}]}, {\"c\": [{\"v\": 111}, {\"v\": 3}, {\"v\": \"Orange Juice\"}]}]},\n",
       "            {\n",
       "              pageSize: 25,\n",
       "              cssClassNames:  {\n",
       "                tableRow: 'gchart-table-row',\n",
       "                headerRow: 'gchart-table-headerrow',\n",
       "                oddTableRow: 'gchart-table-oddrow',\n",
       "                selectedTableRow: 'gchart-table-selectedrow',\n",
       "                hoverTableRow: 'gchart-table-hoverrow',\n",
       "                tableCell: 'gchart-table-cell',\n",
       "                headerCell: 'gchart-table-headercell',\n",
       "                rowNumberCell: 'gchart-table-rownumcell'\n",
       "              }\n",
       "            },\n",
       "            {source_index: 5, fields: 'ProductID,total,Name'},\n",
       "            0,\n",
       "            3);\n",
       "        }\n",
       "      );\n",
       "    </script>\n",
       "  "
      ],
      "text/plain": [
       "QueryResultsTable job_ZNWfJB6hdLrtYG70lmiGrTAWuEw7"
      ]
     },
     "execution_count": 7,
     "metadata": {},
     "output_type": "execute_result"
    }
   ],
   "source": [
    "# Your answer goes here"
   ]
  },
  {
   "cell_type": "code",
   "execution_count": 8,
   "metadata": {},
   "outputs": [],
   "source": [
    "# HINT: Uncomment and execute the cell below to get help\n",
    "#disp(hint + '06-03-prod-join-hint')"
   ]
  },
  {
   "cell_type": "code",
   "execution_count": 9,
   "metadata": {},
   "outputs": [],
   "source": [
    "# SOLUTION: Uncomment and execute the cell below to get help\n",
    "#disp(hint + '06-03-prod-join')"
   ]
  },
  {
   "cell_type": "markdown",
   "metadata": {},
   "source": [
    "### Question 2\n",
    "What was the revenue generated by each product? List it by their names.\n",
    "\n",
    "Try to reuse the query from the previous question with modifications."
   ]
  },
  {
   "cell_type": "code",
   "execution_count": 10,
   "metadata": {},
   "outputs": [
    {
     "data": {
      "text/html": [
       "\n",
       "    <div class=\"bqtv\" id=\"7_156556708132\"><table><tr><th>Name</th><th>Revenue</th></tr><tr><td>Orange Juice</td><td>10.47</td></tr><tr><td>Milk 3%</td><td>8.850000000000001</td></tr><tr><td>Water</td><td>3.96</td></tr><tr><td>Rice</td><td>&nbsp;</td></tr></table></div>\n",
       "    <br />(rows: 4, time: 0.1s, cached, job: job_KgRkXmPSIuSdLderhrdwpPBvdEGs)<br />\n",
       "    <script src=\"/static/components/requirejs/require.js\"></script>\n",
       "    <script>\n",
       "      require.config({\n",
       "        paths: {\n",
       "          base: '/static/base',\n",
       "          d3: '//cdnjs.cloudflare.com/ajax/libs/d3/3.4.13/d3',\n",
       "          plotly: 'https://cdn.plot.ly/plotly-1.5.1.min.js?noext',\n",
       "          jquery: '//ajax.googleapis.com/ajax/libs/jquery/2.0.0/jquery.min'\n",
       "        },\n",
       "        map: {\n",
       "          '*': {\n",
       "            datalab: 'nbextensions/gcpdatalab'\n",
       "          }\n",
       "        },\n",
       "        shim: {\n",
       "          plotly: {\n",
       "            deps: ['d3', 'jquery'],\n",
       "            exports: 'plotly'\n",
       "          }\n",
       "        }\n",
       "      });\n",
       "\n",
       "      require(['datalab/charting', 'datalab/element!7_156556708132', 'base/js/events',\n",
       "          'datalab/style!/nbextensions/gcpdatalab/charting.css'],\n",
       "        function(charts, dom, events) {\n",
       "          charts.render('gcharts', dom, events, 'table', [], {\"cols\": [{\"type\": \"string\", \"id\": \"Name\", \"label\": \"Name\"}, {\"type\": \"number\", \"id\": \"Revenue\", \"label\": \"Revenue\"}], \"rows\": [{\"c\": [{\"v\": \"Orange Juice\"}, {\"v\": 10.47}]}, {\"c\": [{\"v\": \"Milk 3%\"}, {\"v\": 8.850000000000001}]}, {\"c\": [{\"v\": \"Water\"}, {\"v\": 3.96}]}, {\"c\": [{\"v\": \"Rice\"}, {\"v\": null}]}]},\n",
       "            {\n",
       "              pageSize: 25,\n",
       "              cssClassNames:  {\n",
       "                tableRow: 'gchart-table-row',\n",
       "                headerRow: 'gchart-table-headerrow',\n",
       "                oddTableRow: 'gchart-table-oddrow',\n",
       "                selectedTableRow: 'gchart-table-selectedrow',\n",
       "                hoverTableRow: 'gchart-table-hoverrow',\n",
       "                tableCell: 'gchart-table-cell',\n",
       "                headerCell: 'gchart-table-headercell',\n",
       "                rowNumberCell: 'gchart-table-rownumcell'\n",
       "              }\n",
       "            },\n",
       "            {source_index: 6, fields: 'Name,Revenue'},\n",
       "            0,\n",
       "            4);\n",
       "        }\n",
       "      );\n",
       "    </script>\n",
       "  "
      ],
      "text/plain": [
       "QueryResultsTable job_KgRkXmPSIuSdLderhrdwpPBvdEGs"
      ]
     },
     "execution_count": 10,
     "metadata": {},
     "output_type": "execute_result"
    }
   ],
   "source": [
    "# Your answer goes here"
   ]
  },
  {
   "cell_type": "code",
   "execution_count": 11,
   "metadata": {},
   "outputs": [],
   "source": [
    "# SOLUTION: Uncomment and execute the cell below to get help\n",
    "#disp(hint + '06-03-prod-rev')"
   ]
  },
  {
   "cell_type": "markdown",
   "metadata": {},
   "source": [
    "### Question 3\n",
    "List all of the customers (current and past) and display all of the products they have purchased."
   ]
  },
  {
   "cell_type": "markdown",
   "metadata": {},
   "source": [
    "#### Step1\n",
    "As the first step let's combine both of our customer datasets:"
   ]
  },
  {
   "cell_type": "code",
   "execution_count": 12,
   "metadata": {},
   "outputs": [
    {
     "data": {
      "text/html": [
       "\n",
       "    <div class=\"bqtv\" id=\"8_156556708339\"><table><tr><th>CustomerID</th><th>CustomerName</th><th>Email</th><th>City</th><th>Age</th></tr><tr><td>8574839</td><td>Alberto</td><td>al99@gmail.com</td><td>Cambridge</td><td>25</td></tr><tr><td>8920395</td><td>Maria</td><td>maria_lopez@yahoo.com</td><td>Brookline</td><td>43</td></tr><tr><td>8530495</td><td>John</td><td>john_smith@yahoo.com</td><td>Boston</td><td>32</td></tr><tr><td>8574930</td><td>Mary</td><td>mk_888@gmail.com</td><td>Boston</td><td>22</td></tr><tr><td>8103954</td><td>Sue</td><td>ss_2000@gmail.com</td><td>Allston</td><td>36</td></tr><tr><td>8430294</td><td>Alex</td><td>ag_23@hotmail.com</td><td>Brookline</td><td>21</td></tr></table></div>\n",
       "    <br />(rows: 6, time: 0.4s,   310B processed, job: job_s4J2JMiDKO7njF90vDda8j-YKmDZ)<br />\n",
       "    <script src=\"/static/components/requirejs/require.js\"></script>\n",
       "    <script>\n",
       "      require.config({\n",
       "        paths: {\n",
       "          base: '/static/base',\n",
       "          d3: '//cdnjs.cloudflare.com/ajax/libs/d3/3.4.13/d3',\n",
       "          plotly: 'https://cdn.plot.ly/plotly-1.5.1.min.js?noext',\n",
       "          jquery: '//ajax.googleapis.com/ajax/libs/jquery/2.0.0/jquery.min'\n",
       "        },\n",
       "        map: {\n",
       "          '*': {\n",
       "            datalab: 'nbextensions/gcpdatalab'\n",
       "          }\n",
       "        },\n",
       "        shim: {\n",
       "          plotly: {\n",
       "            deps: ['d3', 'jquery'],\n",
       "            exports: 'plotly'\n",
       "          }\n",
       "        }\n",
       "      });\n",
       "\n",
       "      require(['datalab/charting', 'datalab/element!8_156556708339', 'base/js/events',\n",
       "          'datalab/style!/nbextensions/gcpdatalab/charting.css'],\n",
       "        function(charts, dom, events) {\n",
       "          charts.render('gcharts', dom, events, 'table', [], {\"cols\": [{\"type\": \"number\", \"id\": \"CustomerID\", \"label\": \"CustomerID\"}, {\"type\": \"string\", \"id\": \"CustomerName\", \"label\": \"CustomerName\"}, {\"type\": \"string\", \"id\": \"Email\", \"label\": \"Email\"}, {\"type\": \"string\", \"id\": \"City\", \"label\": \"City\"}, {\"type\": \"number\", \"id\": \"Age\", \"label\": \"Age\"}], \"rows\": [{\"c\": [{\"v\": 8574839}, {\"v\": \"Alberto\"}, {\"v\": \"al99@gmail.com\"}, {\"v\": \"Cambridge\"}, {\"v\": 25}]}, {\"c\": [{\"v\": 8920395}, {\"v\": \"Maria\"}, {\"v\": \"maria_lopez@yahoo.com\"}, {\"v\": \"Brookline\"}, {\"v\": 43}]}, {\"c\": [{\"v\": 8530495}, {\"v\": \"John\"}, {\"v\": \"john_smith@yahoo.com\"}, {\"v\": \"Boston\"}, {\"v\": 32}]}, {\"c\": [{\"v\": 8574930}, {\"v\": \"Mary\"}, {\"v\": \"mk_888@gmail.com\"}, {\"v\": \"Boston\"}, {\"v\": 22}]}, {\"c\": [{\"v\": 8103954}, {\"v\": \"Sue\"}, {\"v\": \"ss_2000@gmail.com\"}, {\"v\": \"Allston\"}, {\"v\": 36}]}, {\"c\": [{\"v\": 8430294}, {\"v\": \"Alex\"}, {\"v\": \"ag_23@hotmail.com\"}, {\"v\": \"Brookline\"}, {\"v\": 21}]}]},\n",
       "            {\n",
       "              pageSize: 25,\n",
       "              cssClassNames:  {\n",
       "                tableRow: 'gchart-table-row',\n",
       "                headerRow: 'gchart-table-headerrow',\n",
       "                oddTableRow: 'gchart-table-oddrow',\n",
       "                selectedTableRow: 'gchart-table-selectedrow',\n",
       "                hoverTableRow: 'gchart-table-hoverrow',\n",
       "                tableCell: 'gchart-table-cell',\n",
       "                headerCell: 'gchart-table-headercell',\n",
       "                rowNumberCell: 'gchart-table-rownumcell'\n",
       "              }\n",
       "            },\n",
       "            {source_index: 7, fields: 'CustomerID,CustomerName,Email,City,Age'},\n",
       "            0,\n",
       "            6);\n",
       "        }\n",
       "      );\n",
       "    </script>\n",
       "  "
      ],
      "text/plain": [
       "QueryResultsTable job_s4J2JMiDKO7njF90vDda8j-YKmDZ"
      ]
     },
     "execution_count": 12,
     "metadata": {},
     "output_type": "execute_result"
    }
   ],
   "source": [
    "# Your answer goes here"
   ]
  },
  {
   "cell_type": "code",
   "execution_count": 13,
   "metadata": {},
   "outputs": [],
   "source": [
    "# HINT: Uncomment and execute the cell below to get help\n",
    "#disp(hint + '06-03-cust-union-hint')"
   ]
  },
  {
   "cell_type": "code",
   "execution_count": 14,
   "metadata": {},
   "outputs": [],
   "source": [
    "# SOLUTION: Uncomment and execute the cell below to get help\n",
    "#disp(hint + '06-03-cust-union')"
   ]
  },
  {
   "cell_type": "markdown",
   "metadata": {},
   "source": [
    "#### Step2\n",
    "Now we can use this new query to find what these customers have purchased. For this step let's join this query with our transactions table to find out what products they have been purchasing:"
   ]
  },
  {
   "cell_type": "code",
   "execution_count": 15,
   "metadata": {},
   "outputs": [
    {
     "data": {
      "text/html": [
       "\n",
       "    <div class=\"bqtv\" id=\"9_156556708563\"><table><tr><th>CustomerName</th><th>ProductID</th></tr><tr><td>John</td><td>444</td></tr><tr><td>Mary</td><td>222</td></tr><tr><td>Mary</td><td>111</td></tr><tr><td>Sue</td><td>444</td></tr><tr><td>Alex</td><td>444</td></tr><tr><td>Alex</td><td>222</td></tr><tr><td>Alberto</td><td>&nbsp;</td></tr><tr><td>Maria</td><td>&nbsp;</td></tr></table></div>\n",
       "    <br />(rows: 8, time: 0.6s,   406B processed, job: job_Dyatbub1C8COnO6GpEbFg4eDciSl)<br />\n",
       "    <script src=\"/static/components/requirejs/require.js\"></script>\n",
       "    <script>\n",
       "      require.config({\n",
       "        paths: {\n",
       "          base: '/static/base',\n",
       "          d3: '//cdnjs.cloudflare.com/ajax/libs/d3/3.4.13/d3',\n",
       "          plotly: 'https://cdn.plot.ly/plotly-1.5.1.min.js?noext',\n",
       "          jquery: '//ajax.googleapis.com/ajax/libs/jquery/2.0.0/jquery.min'\n",
       "        },\n",
       "        map: {\n",
       "          '*': {\n",
       "            datalab: 'nbextensions/gcpdatalab'\n",
       "          }\n",
       "        },\n",
       "        shim: {\n",
       "          plotly: {\n",
       "            deps: ['d3', 'jquery'],\n",
       "            exports: 'plotly'\n",
       "          }\n",
       "        }\n",
       "      });\n",
       "\n",
       "      require(['datalab/charting', 'datalab/element!9_156556708563', 'base/js/events',\n",
       "          'datalab/style!/nbextensions/gcpdatalab/charting.css'],\n",
       "        function(charts, dom, events) {\n",
       "          charts.render('gcharts', dom, events, 'table', [], {\"cols\": [{\"type\": \"string\", \"id\": \"CustomerName\", \"label\": \"CustomerName\"}, {\"type\": \"number\", \"id\": \"ProductID\", \"label\": \"ProductID\"}], \"rows\": [{\"c\": [{\"v\": \"John\"}, {\"v\": 444}]}, {\"c\": [{\"v\": \"Mary\"}, {\"v\": 222}]}, {\"c\": [{\"v\": \"Mary\"}, {\"v\": 111}]}, {\"c\": [{\"v\": \"Sue\"}, {\"v\": 444}]}, {\"c\": [{\"v\": \"Alex\"}, {\"v\": 444}]}, {\"c\": [{\"v\": \"Alex\"}, {\"v\": 222}]}, {\"c\": [{\"v\": \"Alberto\"}, {\"v\": null}]}, {\"c\": [{\"v\": \"Maria\"}, {\"v\": null}]}]},\n",
       "            {\n",
       "              pageSize: 25,\n",
       "              cssClassNames:  {\n",
       "                tableRow: 'gchart-table-row',\n",
       "                headerRow: 'gchart-table-headerrow',\n",
       "                oddTableRow: 'gchart-table-oddrow',\n",
       "                selectedTableRow: 'gchart-table-selectedrow',\n",
       "                hoverTableRow: 'gchart-table-hoverrow',\n",
       "                tableCell: 'gchart-table-cell',\n",
       "                headerCell: 'gchart-table-headercell',\n",
       "                rowNumberCell: 'gchart-table-rownumcell'\n",
       "              }\n",
       "            },\n",
       "            {source_index: 8, fields: 'CustomerName,ProductID'},\n",
       "            0,\n",
       "            8);\n",
       "        }\n",
       "      );\n",
       "    </script>\n",
       "  "
      ],
      "text/plain": [
       "QueryResultsTable job_Dyatbub1C8COnO6GpEbFg4eDciSl"
      ]
     },
     "execution_count": 15,
     "metadata": {},
     "output_type": "execute_result"
    }
   ],
   "source": [
    "# Your answer goes here"
   ]
  },
  {
   "cell_type": "code",
   "execution_count": 16,
   "metadata": {},
   "outputs": [],
   "source": [
    "# SOLUTION: Uncomment and execute the cell below to get help\n",
    "#disp(hint + '06-03-cust-union-trans')"
   ]
  },
  {
   "cell_type": "markdown",
   "metadata": {},
   "source": [
    "#### Step3\n",
    "We can \"chain\" another join to the one above and bring in the product names:"
   ]
  },
  {
   "cell_type": "code",
   "execution_count": 17,
   "metadata": {},
   "outputs": [
    {
     "data": {
      "text/html": [
       "\n",
       "    <div class=\"bqtv\" id=\"10_156556708727\"><table><tr><th>CustomerName</th><th>ProductID</th><th>ProdcutName</th></tr><tr><td>John</td><td>444</td><td>Water</td></tr><tr><td>Mary</td><td>222</td><td>Milk 3%</td></tr><tr><td>Mary</td><td>111</td><td>Orange Juice</td></tr><tr><td>Sue</td><td>444</td><td>Water</td></tr><tr><td>Alex</td><td>444</td><td>Water</td></tr><tr><td>Alex</td><td>222</td><td>Milk 3%</td></tr><tr><td>Alberto</td><td>&nbsp;</td><td>&nbsp;</td></tr><tr><td>Maria</td><td>&nbsp;</td><td>&nbsp;</td></tr></table></div>\n",
       "    <br />(rows: 8, time: 0.2s, cached, job: job_QFhOXNfvfxvBsiyMxmYv9YHTpDyn)<br />\n",
       "    <script src=\"/static/components/requirejs/require.js\"></script>\n",
       "    <script>\n",
       "      require.config({\n",
       "        paths: {\n",
       "          base: '/static/base',\n",
       "          d3: '//cdnjs.cloudflare.com/ajax/libs/d3/3.4.13/d3',\n",
       "          plotly: 'https://cdn.plot.ly/plotly-1.5.1.min.js?noext',\n",
       "          jquery: '//ajax.googleapis.com/ajax/libs/jquery/2.0.0/jquery.min'\n",
       "        },\n",
       "        map: {\n",
       "          '*': {\n",
       "            datalab: 'nbextensions/gcpdatalab'\n",
       "          }\n",
       "        },\n",
       "        shim: {\n",
       "          plotly: {\n",
       "            deps: ['d3', 'jquery'],\n",
       "            exports: 'plotly'\n",
       "          }\n",
       "        }\n",
       "      });\n",
       "\n",
       "      require(['datalab/charting', 'datalab/element!10_156556708727', 'base/js/events',\n",
       "          'datalab/style!/nbextensions/gcpdatalab/charting.css'],\n",
       "        function(charts, dom, events) {\n",
       "          charts.render('gcharts', dom, events, 'table', [], {\"cols\": [{\"type\": \"string\", \"id\": \"CustomerName\", \"label\": \"CustomerName\"}, {\"type\": \"number\", \"id\": \"ProductID\", \"label\": \"ProductID\"}, {\"type\": \"string\", \"id\": \"ProdcutName\", \"label\": \"ProdcutName\"}], \"rows\": [{\"c\": [{\"v\": \"John\"}, {\"v\": 444}, {\"v\": \"Water\"}]}, {\"c\": [{\"v\": \"Mary\"}, {\"v\": 222}, {\"v\": \"Milk 3%\"}]}, {\"c\": [{\"v\": \"Mary\"}, {\"v\": 111}, {\"v\": \"Orange Juice\"}]}, {\"c\": [{\"v\": \"Sue\"}, {\"v\": 444}, {\"v\": \"Water\"}]}, {\"c\": [{\"v\": \"Alex\"}, {\"v\": 444}, {\"v\": \"Water\"}]}, {\"c\": [{\"v\": \"Alex\"}, {\"v\": 222}, {\"v\": \"Milk 3%\"}]}, {\"c\": [{\"v\": \"Alberto\"}, {\"v\": null}, {\"v\": null}]}, {\"c\": [{\"v\": \"Maria\"}, {\"v\": null}, {\"v\": null}]}]},\n",
       "            {\n",
       "              pageSize: 25,\n",
       "              cssClassNames:  {\n",
       "                tableRow: 'gchart-table-row',\n",
       "                headerRow: 'gchart-table-headerrow',\n",
       "                oddTableRow: 'gchart-table-oddrow',\n",
       "                selectedTableRow: 'gchart-table-selectedrow',\n",
       "                hoverTableRow: 'gchart-table-hoverrow',\n",
       "                tableCell: 'gchart-table-cell',\n",
       "                headerCell: 'gchart-table-headercell',\n",
       "                rowNumberCell: 'gchart-table-rownumcell'\n",
       "              }\n",
       "            },\n",
       "            {source_index: 9, fields: 'CustomerName,ProductID,ProdcutName'},\n",
       "            0,\n",
       "            8);\n",
       "        }\n",
       "      );\n",
       "    </script>\n",
       "  "
      ],
      "text/plain": [
       "QueryResultsTable job_QFhOXNfvfxvBsiyMxmYv9YHTpDyn"
      ]
     },
     "execution_count": 17,
     "metadata": {},
     "output_type": "execute_result"
    }
   ],
   "source": [
    "# Your answer goes here"
   ]
  },
  {
   "cell_type": "code",
   "execution_count": 18,
   "metadata": {},
   "outputs": [],
   "source": [
    "# SOLUTION: Uncomment and execute the cell below to get help\n",
    "#disp(hint + '06-03-cust-union-trans-prod')"
   ]
  },
  {
   "cell_type": "markdown",
   "metadata": {},
   "source": [
    "#### Step4\n",
    "Finally, with this table we can perform a GROUP BY and use `STRING_AGG()` to get to our answer.\n",
    "\n",
    "Hint: Use a subquery to make things easier to write and read."
   ]
  },
  {
   "cell_type": "code",
   "execution_count": 19,
   "metadata": {},
   "outputs": [
    {
     "data": {
      "text/html": [
       "\n",
       "    <div class=\"bqtv\" id=\"11_156556708995\"><table><tr><th>CustomerName</th><th>Products</th></tr><tr><td>Alberto</td><td>&nbsp;</td></tr><tr><td>Alex</td><td>Water,Milk 3%</td></tr><tr><td>John</td><td>Water</td></tr><tr><td>Maria</td><td>&nbsp;</td></tr><tr><td>Mary</td><td>Milk 3%,Orange Juice</td></tr><tr><td>Sue</td><td>Water</td></tr></table></div>\n",
       "    <br />(rows: 6, time: 1.1s,   474B processed, job: job_wrtvJxpV1H0-otCYIye6YuVoiXyA)<br />\n",
       "    <script src=\"/static/components/requirejs/require.js\"></script>\n",
       "    <script>\n",
       "      require.config({\n",
       "        paths: {\n",
       "          base: '/static/base',\n",
       "          d3: '//cdnjs.cloudflare.com/ajax/libs/d3/3.4.13/d3',\n",
       "          plotly: 'https://cdn.plot.ly/plotly-1.5.1.min.js?noext',\n",
       "          jquery: '//ajax.googleapis.com/ajax/libs/jquery/2.0.0/jquery.min'\n",
       "        },\n",
       "        map: {\n",
       "          '*': {\n",
       "            datalab: 'nbextensions/gcpdatalab'\n",
       "          }\n",
       "        },\n",
       "        shim: {\n",
       "          plotly: {\n",
       "            deps: ['d3', 'jquery'],\n",
       "            exports: 'plotly'\n",
       "          }\n",
       "        }\n",
       "      });\n",
       "\n",
       "      require(['datalab/charting', 'datalab/element!11_156556708995', 'base/js/events',\n",
       "          'datalab/style!/nbextensions/gcpdatalab/charting.css'],\n",
       "        function(charts, dom, events) {\n",
       "          charts.render('gcharts', dom, events, 'table', [], {\"cols\": [{\"type\": \"string\", \"id\": \"CustomerName\", \"label\": \"CustomerName\"}, {\"type\": \"string\", \"id\": \"Products\", \"label\": \"Products\"}], \"rows\": [{\"c\": [{\"v\": \"Alberto\"}, {\"v\": null}]}, {\"c\": [{\"v\": \"Alex\"}, {\"v\": \"Water,Milk 3%\"}]}, {\"c\": [{\"v\": \"John\"}, {\"v\": \"Water\"}]}, {\"c\": [{\"v\": \"Maria\"}, {\"v\": null}]}, {\"c\": [{\"v\": \"Mary\"}, {\"v\": \"Milk 3%,Orange Juice\"}]}, {\"c\": [{\"v\": \"Sue\"}, {\"v\": \"Water\"}]}]},\n",
       "            {\n",
       "              pageSize: 25,\n",
       "              cssClassNames:  {\n",
       "                tableRow: 'gchart-table-row',\n",
       "                headerRow: 'gchart-table-headerrow',\n",
       "                oddTableRow: 'gchart-table-oddrow',\n",
       "                selectedTableRow: 'gchart-table-selectedrow',\n",
       "                hoverTableRow: 'gchart-table-hoverrow',\n",
       "                tableCell: 'gchart-table-cell',\n",
       "                headerCell: 'gchart-table-headercell',\n",
       "                rowNumberCell: 'gchart-table-rownumcell'\n",
       "              }\n",
       "            },\n",
       "            {source_index: 10, fields: 'CustomerName,Products'},\n",
       "            0,\n",
       "            6);\n",
       "        }\n",
       "      );\n",
       "    </script>\n",
       "  "
      ],
      "text/plain": [
       "QueryResultsTable job_wrtvJxpV1H0-otCYIye6YuVoiXyA"
      ]
     },
     "execution_count": 19,
     "metadata": {},
     "output_type": "execute_result"
    }
   ],
   "source": [
    "# Your answer goes here"
   ]
  },
  {
   "cell_type": "code",
   "execution_count": 20,
   "metadata": {},
   "outputs": [],
   "source": [
    "# SOLUTION: Uncomment and execute the cell below to get help\n",
    "#disp(hint + '06-03-cust-union-trans-prod-final')"
   ]
  },
  {
   "cell_type": "markdown",
   "metadata": {},
   "source": [
    "### Question 4\n",
    "Customers from which city have spent the most amount of money? What is their average age?\n",
    "\n",
    "1. Union the two customer tables\n",
    "2. Join it with transactions\n",
    "3. Join the result with the product table\n",
    "4. Aggregate over City"
   ]
  },
  {
   "cell_type": "code",
   "execution_count": 21,
   "metadata": {},
   "outputs": [
    {
     "data": {
      "text/html": [
       "\n",
       "    <div class=\"bqtv\" id=\"12_156556709163\"><table><tr><th>City</th><th>AverageAge</th><th>Revenue</th></tr><tr><td>Boston</td><td>25.333333333333332</td><td>7.430000000000001</td></tr><tr><td>Brookline</td><td>28.333333333333332</td><td>3.9400000000000004</td></tr><tr><td>Allston</td><td>36.0</td><td>0.99</td></tr><tr><td>Cambridge</td><td>25.0</td><td>&nbsp;</td></tr></table></div>\n",
       "    <br />(rows: 4, time: 0.2s, cached, job: job_krb2IrqGaLyNTEHZJk2jYjLwRr8G)<br />\n",
       "    <script src=\"/static/components/requirejs/require.js\"></script>\n",
       "    <script>\n",
       "      require.config({\n",
       "        paths: {\n",
       "          base: '/static/base',\n",
       "          d3: '//cdnjs.cloudflare.com/ajax/libs/d3/3.4.13/d3',\n",
       "          plotly: 'https://cdn.plot.ly/plotly-1.5.1.min.js?noext',\n",
       "          jquery: '//ajax.googleapis.com/ajax/libs/jquery/2.0.0/jquery.min'\n",
       "        },\n",
       "        map: {\n",
       "          '*': {\n",
       "            datalab: 'nbextensions/gcpdatalab'\n",
       "          }\n",
       "        },\n",
       "        shim: {\n",
       "          plotly: {\n",
       "            deps: ['d3', 'jquery'],\n",
       "            exports: 'plotly'\n",
       "          }\n",
       "        }\n",
       "      });\n",
       "\n",
       "      require(['datalab/charting', 'datalab/element!12_156556709163', 'base/js/events',\n",
       "          'datalab/style!/nbextensions/gcpdatalab/charting.css'],\n",
       "        function(charts, dom, events) {\n",
       "          charts.render('gcharts', dom, events, 'table', [], {\"cols\": [{\"type\": \"string\", \"id\": \"City\", \"label\": \"City\"}, {\"type\": \"number\", \"id\": \"AverageAge\", \"label\": \"AverageAge\"}, {\"type\": \"number\", \"id\": \"Revenue\", \"label\": \"Revenue\"}], \"rows\": [{\"c\": [{\"v\": \"Boston\"}, {\"v\": 25.333333333333332}, {\"v\": 7.430000000000001}]}, {\"c\": [{\"v\": \"Brookline\"}, {\"v\": 28.333333333333332}, {\"v\": 3.9400000000000004}]}, {\"c\": [{\"v\": \"Allston\"}, {\"v\": 36.0}, {\"v\": 0.99}]}, {\"c\": [{\"v\": \"Cambridge\"}, {\"v\": 25.0}, {\"v\": null}]}]},\n",
       "            {\n",
       "              pageSize: 25,\n",
       "              cssClassNames:  {\n",
       "                tableRow: 'gchart-table-row',\n",
       "                headerRow: 'gchart-table-headerrow',\n",
       "                oddTableRow: 'gchart-table-oddrow',\n",
       "                selectedTableRow: 'gchart-table-selectedrow',\n",
       "                hoverTableRow: 'gchart-table-hoverrow',\n",
       "                tableCell: 'gchart-table-cell',\n",
       "                headerCell: 'gchart-table-headercell',\n",
       "                rowNumberCell: 'gchart-table-rownumcell'\n",
       "              }\n",
       "            },\n",
       "            {source_index: 11, fields: 'City,AverageAge,Revenue'},\n",
       "            0,\n",
       "            4);\n",
       "        }\n",
       "      );\n",
       "    </script>\n",
       "  "
      ],
      "text/plain": [
       "QueryResultsTable job_krb2IrqGaLyNTEHZJk2jYjLwRr8G"
      ]
     },
     "execution_count": 21,
     "metadata": {},
     "output_type": "execute_result"
    }
   ],
   "source": [
    "# Your answer goes here"
   ]
  },
  {
   "cell_type": "code",
   "execution_count": 22,
   "metadata": {},
   "outputs": [],
   "source": [
    "# SOLUTION: Uncomment and execute the cell below to get help\n",
    "#disp(hint + '06-03-city-rev')"
   ]
  },
  {
   "cell_type": "markdown",
   "metadata": {},
   "source": [
    "### Question 5\n",
    "Take the last query and\n",
    "1. print a rounded version of the AverageAge\n",
    "2. Print only the cities that have generated some revenue"
   ]
  },
  {
   "cell_type": "code",
   "execution_count": 23,
   "metadata": {},
   "outputs": [
    {
     "data": {
      "text/html": [
       "\n",
       "    <div class=\"bqtv\" id=\"13_156556709331\"><table><tr><th>City</th><th>AverageAge</th><th>Revenue</th></tr><tr><td>Boston</td><td>25.0</td><td>7.430000000000001</td></tr><tr><td>Brookline</td><td>28.0</td><td>3.9400000000000004</td></tr><tr><td>Allston</td><td>36.0</td><td>0.99</td></tr></table></div>\n",
       "    <br />(rows: 3, time: 0.2s, cached, job: job_BodKqjdVe3vDp2NwqJZJWjb-0Q5P)<br />\n",
       "    <script src=\"/static/components/requirejs/require.js\"></script>\n",
       "    <script>\n",
       "      require.config({\n",
       "        paths: {\n",
       "          base: '/static/base',\n",
       "          d3: '//cdnjs.cloudflare.com/ajax/libs/d3/3.4.13/d3',\n",
       "          plotly: 'https://cdn.plot.ly/plotly-1.5.1.min.js?noext',\n",
       "          jquery: '//ajax.googleapis.com/ajax/libs/jquery/2.0.0/jquery.min'\n",
       "        },\n",
       "        map: {\n",
       "          '*': {\n",
       "            datalab: 'nbextensions/gcpdatalab'\n",
       "          }\n",
       "        },\n",
       "        shim: {\n",
       "          plotly: {\n",
       "            deps: ['d3', 'jquery'],\n",
       "            exports: 'plotly'\n",
       "          }\n",
       "        }\n",
       "      });\n",
       "\n",
       "      require(['datalab/charting', 'datalab/element!13_156556709331', 'base/js/events',\n",
       "          'datalab/style!/nbextensions/gcpdatalab/charting.css'],\n",
       "        function(charts, dom, events) {\n",
       "          charts.render('gcharts', dom, events, 'table', [], {\"cols\": [{\"type\": \"string\", \"id\": \"City\", \"label\": \"City\"}, {\"type\": \"number\", \"id\": \"AverageAge\", \"label\": \"AverageAge\"}, {\"type\": \"number\", \"id\": \"Revenue\", \"label\": \"Revenue\"}], \"rows\": [{\"c\": [{\"v\": \"Boston\"}, {\"v\": 25.0}, {\"v\": 7.430000000000001}]}, {\"c\": [{\"v\": \"Brookline\"}, {\"v\": 28.0}, {\"v\": 3.9400000000000004}]}, {\"c\": [{\"v\": \"Allston\"}, {\"v\": 36.0}, {\"v\": 0.99}]}]},\n",
       "            {\n",
       "              pageSize: 25,\n",
       "              cssClassNames:  {\n",
       "                tableRow: 'gchart-table-row',\n",
       "                headerRow: 'gchart-table-headerrow',\n",
       "                oddTableRow: 'gchart-table-oddrow',\n",
       "                selectedTableRow: 'gchart-table-selectedrow',\n",
       "                hoverTableRow: 'gchart-table-hoverrow',\n",
       "                tableCell: 'gchart-table-cell',\n",
       "                headerCell: 'gchart-table-headercell',\n",
       "                rowNumberCell: 'gchart-table-rownumcell'\n",
       "              }\n",
       "            },\n",
       "            {source_index: 12, fields: 'City,AverageAge,Revenue'},\n",
       "            0,\n",
       "            3);\n",
       "        }\n",
       "      );\n",
       "    </script>\n",
       "  "
      ],
      "text/plain": [
       "QueryResultsTable job_BodKqjdVe3vDp2NwqJZJWjb-0Q5P"
      ]
     },
     "execution_count": 23,
     "metadata": {},
     "output_type": "execute_result"
    }
   ],
   "source": [
    "# Your answer goes here"
   ]
  },
  {
   "cell_type": "code",
   "execution_count": 24,
   "metadata": {},
   "outputs": [],
   "source": [
    "# SOLUTION: Uncomment and execute the cell below to get help\n",
    "#disp(hint + '06-03-city-rev-clean')"
   ]
  }
 ],
 "metadata": {
  "kernelspec": {
   "display_name": "Python 3",
   "language": "python",
   "name": "python3"
  },
  "language_info": {
   "codemirror_mode": {
    "name": "ipython",
    "version": 3
   },
   "file_extension": ".py",
   "mimetype": "text/x-python",
   "name": "python",
   "nbconvert_exporter": "python",
   "pygments_lexer": "ipython3",
   "version": "3.5.6"
  }
 },
 "nbformat": 4,
 "nbformat_minor": 2
}
