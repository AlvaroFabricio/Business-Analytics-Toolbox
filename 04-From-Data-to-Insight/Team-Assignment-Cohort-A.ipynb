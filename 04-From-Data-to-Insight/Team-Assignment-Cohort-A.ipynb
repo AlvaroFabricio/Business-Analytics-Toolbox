{
 "cells": [
  {
   "cell_type": "markdown",
   "metadata": {},
   "source": [
    "# Team Assignment - Cohort A\n",
    "First we pick a seed for a complete random assignment:"
   ]
  },
  {
   "cell_type": "code",
   "execution_count": null,
   "metadata": {},
   "outputs": [],
   "source": [
    "seed = 770\n",
    "n_leads_needed = 8"
   ]
  },
  {
   "cell_type": "code",
   "execution_count": null,
   "metadata": {},
   "outputs": [],
   "source": [
    "# import libraries\n",
    "from google.cloud import bigquery\n",
    "\n",
    "client = bigquery.Client()\n",
    "\n",
    "import pandas as pd"
   ]
  },
  {
   "cell_type": "code",
   "execution_count": null,
   "metadata": {},
   "outputs": [],
   "source": [
    "sql = \"\"\"\n",
    "  SELECT * FROM `ba-770.teaming.cohort_a` ORDER BY name\n",
    "\"\"\"\n",
    "students = client.query(sql).to_dataframe()\n",
    "students.head(3)"
   ]
  },
  {
   "cell_type": "markdown",
   "metadata": {},
   "source": [
    "## Leads\n",
    "Volunteer leads:"
   ]
  },
  {
   "cell_type": "code",
   "execution_count": null,
   "metadata": {},
   "outputs": [],
   "source": [
    "volunteer_leads = students[students['team'] == True][['name']]\n",
    "volunteer_leads"
   ]
  },
  {
   "cell_type": "markdown",
   "metadata": {},
   "source": [
    "Leads picked by a random generator:"
   ]
  },
  {
   "cell_type": "code",
   "execution_count": null,
   "metadata": {},
   "outputs": [],
   "source": [
    "random_leads = students[students['team'] == False][['name']].sample(n=n_leads_needed, random_state=seed)['name'].reset_index()[['name']]\n",
    "leads = pd.concat([volunteer_leads, random_leads])\n",
    "leads = leads.sample(frac=1, random_state=seed)\n",
    "\n",
    "leads = pd.DataFrame({'name': leads['name'].tolist()}, index=pd.Series(range(1,9)))\n",
    "leads.index.name = 'team'\n",
    "print('List of leads:')\n",
    "leads"
   ]
  },
  {
   "cell_type": "code",
   "execution_count": null,
   "metadata": {},
   "outputs": [],
   "source": [
    "leads_l = list(leads['name'])\n",
    "students.loc[students['name'].isin(leads_l), 'team'] = True\n",
    "\n",
    "for i, n in enumerate(leads_l):\n",
    "  take_n = 4\n",
    "  if i < (students.shape[0] % (take_n+1)): take_n += 1\n",
    "  group = list(students[students['team'] == False][['name']].sample(n=take_n, random_state=seed)['name'])\n",
    "  print(\"\\n\", \"Team \", i+1, \": \", sep=\"\")\n",
    "  students.loc[students['name'].isin(group), 'team'] = True\n",
    "  print(n, \"(lead)\")\n",
    "  print(*group, sep = \"\\n\")\n",
    "  print(\"\\n\", \"-----------------------------------\", sep = \"\")"
   ]
  }
 ],
 "metadata": {
  "kernelspec": {
   "display_name": "Python 3",
   "language": "python",
   "name": "python3"
  },
  "language_info": {
   "codemirror_mode": {
    "name": "ipython",
    "version": 3
   },
   "file_extension": ".py",
   "mimetype": "text/x-python",
   "name": "python",
   "nbconvert_exporter": "python",
   "pygments_lexer": "ipython3",
   "version": "3.5.6"
  }
 },
 "nbformat": 4,
 "nbformat_minor": 2
}
